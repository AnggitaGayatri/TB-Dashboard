{
 "cells": [
  {
   "cell_type": "markdown",
   "id": "079e6dad-1887-468b-bc6b-18f6b1618d1a",
   "metadata": {},
   "source": [
    "# Potret Statistik TB di Benua Afrika (Data Cleaning)"
   ]
  },
  {
   "cell_type": "markdown",
   "id": "234f6c62-76f5-4d72-8240-165f680294a8",
   "metadata": {},
   "source": [
    "## Sekilas Mengenai Dataset\n",
    "\n",
    "Dataset terdiri atas 47 kolom atribut TB dan kaitan TB dengan HIV dari tahun 1990-2013 berdasarkan region dan negara"
   ]
  },
  {
   "cell_type": "code",
   "execution_count": 164,
   "id": "f4e677cd-817a-46c3-a514-eee25b1404b4",
   "metadata": {},
   "outputs": [],
   "source": [
    "import pandas as pd\n",
    "import numpy as np\n",
    "import matplotlib.pyplot as plt\n",
    "import seaborn as sns\n",
    "import plotly.express as px\n",
    "from sklearn.preprocessing import MinMaxScaler\n",
    "import warnings\n",
    "warnings.filterwarnings('ignore')\n",
    "sns.set_style(\"darkgrid\")"
   ]
  },
  {
   "cell_type": "markdown",
   "id": "61978ec2-325c-47d9-8ff9-ec1f79fcf243",
   "metadata": {},
   "source": [
    "## Loading the Data"
   ]
  },
  {
   "cell_type": "code",
   "execution_count": 2,
   "id": "37251952-e699-4954-9a5f-d719be9eee94",
   "metadata": {},
   "outputs": [],
   "source": [
    "data_ori = pd.read_csv('dataset_tbc.csv')"
   ]
  },
  {
   "cell_type": "code",
   "execution_count": 3,
   "id": "a20eee97-635d-43c5-9c17-ba71ff87fcb2",
   "metadata": {},
   "outputs": [],
   "source": [
    "data = data_ori.copy()"
   ]
  },
  {
   "cell_type": "code",
   "execution_count": 4,
   "id": "132b3e9e-e54c-4a89-9526-758e098a62ce",
   "metadata": {},
   "outputs": [
    {
     "data": {
      "text/html": [
       "<div>\n",
       "<style scoped>\n",
       "    .dataframe tbody tr th:only-of-type {\n",
       "        vertical-align: middle;\n",
       "    }\n",
       "\n",
       "    .dataframe tbody tr th {\n",
       "        vertical-align: top;\n",
       "    }\n",
       "\n",
       "    .dataframe thead th {\n",
       "        text-align: right;\n",
       "    }\n",
       "</style>\n",
       "<table border=\"1\" class=\"dataframe\">\n",
       "  <thead>\n",
       "    <tr style=\"text-align: right;\">\n",
       "      <th></th>\n",
       "      <th>Country or territory name</th>\n",
       "      <th>ISO 2-character country/territory code</th>\n",
       "      <th>ISO 3-character country/territory code</th>\n",
       "      <th>ISO numeric country/territory code</th>\n",
       "      <th>Region</th>\n",
       "      <th>Year</th>\n",
       "      <th>Estimated total population number</th>\n",
       "      <th>Estimated prevalence of TB (all forms) per 100 000 population</th>\n",
       "      <th>Estimated prevalence of TB (all forms) per 100 000 population, low bound</th>\n",
       "      <th>Estimated prevalence of TB (all forms) per 100 000 population, high bound</th>\n",
       "      <th>...</th>\n",
       "      <th>Estimated incidence of TB cases who are HIV-positive per 100 000 population</th>\n",
       "      <th>Estimated incidence of TB cases who are HIV-positive per 100 000 population, low bound</th>\n",
       "      <th>Estimated incidence of TB cases who are HIV-positive per 100 000 population, high bound</th>\n",
       "      <th>Estimated incidence of TB cases who are HIV-positive</th>\n",
       "      <th>Estimated incidence of TB cases who are HIV-positive, low bound</th>\n",
       "      <th>Estimated incidence of TB cases who are HIV-positive, high bound</th>\n",
       "      <th>Method to derive TBHIV estimates</th>\n",
       "      <th>Case detection rate (all forms), percent</th>\n",
       "      <th>Case detection rate (all forms), percent, low bound</th>\n",
       "      <th>Case detection rate (all forms), percent, high bound</th>\n",
       "    </tr>\n",
       "  </thead>\n",
       "  <tbody>\n",
       "    <tr>\n",
       "      <th>0</th>\n",
       "      <td>Afghanistan</td>\n",
       "      <td>AF</td>\n",
       "      <td>AFG</td>\n",
       "      <td>4</td>\n",
       "      <td>EMR</td>\n",
       "      <td>1990</td>\n",
       "      <td>11731193</td>\n",
       "      <td>306.0</td>\n",
       "      <td>156.0</td>\n",
       "      <td>506.0</td>\n",
       "      <td>...</td>\n",
       "      <td>0.11</td>\n",
       "      <td>0.08</td>\n",
       "      <td>0.14</td>\n",
       "      <td>12.0</td>\n",
       "      <td>9.4</td>\n",
       "      <td>16.0</td>\n",
       "      <td>NaN</td>\n",
       "      <td>20.0</td>\n",
       "      <td>15.0</td>\n",
       "      <td>24.0</td>\n",
       "    </tr>\n",
       "    <tr>\n",
       "      <th>1</th>\n",
       "      <td>Afghanistan</td>\n",
       "      <td>AF</td>\n",
       "      <td>AFG</td>\n",
       "      <td>4</td>\n",
       "      <td>EMR</td>\n",
       "      <td>1991</td>\n",
       "      <td>12612043</td>\n",
       "      <td>343.0</td>\n",
       "      <td>178.0</td>\n",
       "      <td>562.0</td>\n",
       "      <td>...</td>\n",
       "      <td>0.13</td>\n",
       "      <td>0.11</td>\n",
       "      <td>0.16</td>\n",
       "      <td>17.0</td>\n",
       "      <td>14.0</td>\n",
       "      <td>20.0</td>\n",
       "      <td>NaN</td>\n",
       "      <td>96.0</td>\n",
       "      <td>80.0</td>\n",
       "      <td>110.0</td>\n",
       "    </tr>\n",
       "    <tr>\n",
       "      <th>2</th>\n",
       "      <td>Afghanistan</td>\n",
       "      <td>AF</td>\n",
       "      <td>AFG</td>\n",
       "      <td>4</td>\n",
       "      <td>EMR</td>\n",
       "      <td>1992</td>\n",
       "      <td>13811876</td>\n",
       "      <td>371.0</td>\n",
       "      <td>189.0</td>\n",
       "      <td>614.0</td>\n",
       "      <td>...</td>\n",
       "      <td>0.16</td>\n",
       "      <td>0.14</td>\n",
       "      <td>0.18</td>\n",
       "      <td>22.0</td>\n",
       "      <td>19.0</td>\n",
       "      <td>24.0</td>\n",
       "      <td>NaN</td>\n",
       "      <td>NaN</td>\n",
       "      <td>NaN</td>\n",
       "      <td>NaN</td>\n",
       "    </tr>\n",
       "    <tr>\n",
       "      <th>3</th>\n",
       "      <td>Afghanistan</td>\n",
       "      <td>AF</td>\n",
       "      <td>AFG</td>\n",
       "      <td>4</td>\n",
       "      <td>EMR</td>\n",
       "      <td>1993</td>\n",
       "      <td>15175325</td>\n",
       "      <td>392.0</td>\n",
       "      <td>194.0</td>\n",
       "      <td>657.0</td>\n",
       "      <td>...</td>\n",
       "      <td>0.19</td>\n",
       "      <td>0.17</td>\n",
       "      <td>0.21</td>\n",
       "      <td>28.0</td>\n",
       "      <td>25.0</td>\n",
       "      <td>31.0</td>\n",
       "      <td>NaN</td>\n",
       "      <td>NaN</td>\n",
       "      <td>NaN</td>\n",
       "      <td>NaN</td>\n",
       "    </tr>\n",
       "    <tr>\n",
       "      <th>4</th>\n",
       "      <td>Afghanistan</td>\n",
       "      <td>AF</td>\n",
       "      <td>AFG</td>\n",
       "      <td>4</td>\n",
       "      <td>EMR</td>\n",
       "      <td>1994</td>\n",
       "      <td>16485018</td>\n",
       "      <td>410.0</td>\n",
       "      <td>198.0</td>\n",
       "      <td>697.0</td>\n",
       "      <td>...</td>\n",
       "      <td>0.21</td>\n",
       "      <td>0.18</td>\n",
       "      <td>0.24</td>\n",
       "      <td>35.0</td>\n",
       "      <td>30.0</td>\n",
       "      <td>39.0</td>\n",
       "      <td>NaN</td>\n",
       "      <td>NaN</td>\n",
       "      <td>NaN</td>\n",
       "      <td>NaN</td>\n",
       "    </tr>\n",
       "    <tr>\n",
       "      <th>...</th>\n",
       "      <td>...</td>\n",
       "      <td>...</td>\n",
       "      <td>...</td>\n",
       "      <td>...</td>\n",
       "      <td>...</td>\n",
       "      <td>...</td>\n",
       "      <td>...</td>\n",
       "      <td>...</td>\n",
       "      <td>...</td>\n",
       "      <td>...</td>\n",
       "      <td>...</td>\n",
       "      <td>...</td>\n",
       "      <td>...</td>\n",
       "      <td>...</td>\n",
       "      <td>...</td>\n",
       "      <td>...</td>\n",
       "      <td>...</td>\n",
       "      <td>...</td>\n",
       "      <td>...</td>\n",
       "      <td>...</td>\n",
       "      <td>...</td>\n",
       "    </tr>\n",
       "    <tr>\n",
       "      <th>5115</th>\n",
       "      <td>Zimbabwe</td>\n",
       "      <td>ZW</td>\n",
       "      <td>ZWE</td>\n",
       "      <td>716</td>\n",
       "      <td>AFR</td>\n",
       "      <td>2009</td>\n",
       "      <td>12888918</td>\n",
       "      <td>449.0</td>\n",
       "      <td>258.0</td>\n",
       "      <td>692.0</td>\n",
       "      <td>...</td>\n",
       "      <td>511.00</td>\n",
       "      <td>460.00</td>\n",
       "      <td>566.00</td>\n",
       "      <td>66000.0</td>\n",
       "      <td>59000.0</td>\n",
       "      <td>73000.0</td>\n",
       "      <td>NaN</td>\n",
       "      <td>50.0</td>\n",
       "      <td>45.0</td>\n",
       "      <td>54.0</td>\n",
       "    </tr>\n",
       "    <tr>\n",
       "      <th>5116</th>\n",
       "      <td>Zimbabwe</td>\n",
       "      <td>ZW</td>\n",
       "      <td>ZWE</td>\n",
       "      <td>716</td>\n",
       "      <td>AFR</td>\n",
       "      <td>2010</td>\n",
       "      <td>13076978</td>\n",
       "      <td>415.0</td>\n",
       "      <td>239.0</td>\n",
       "      <td>639.0</td>\n",
       "      <td>...</td>\n",
       "      <td>487.00</td>\n",
       "      <td>433.00</td>\n",
       "      <td>545.00</td>\n",
       "      <td>64000.0</td>\n",
       "      <td>57000.0</td>\n",
       "      <td>71000.0</td>\n",
       "      <td>NaN</td>\n",
       "      <td>53.0</td>\n",
       "      <td>48.0</td>\n",
       "      <td>59.0</td>\n",
       "    </tr>\n",
       "    <tr>\n",
       "      <th>5117</th>\n",
       "      <td>Zimbabwe</td>\n",
       "      <td>ZW</td>\n",
       "      <td>ZWE</td>\n",
       "      <td>716</td>\n",
       "      <td>AFR</td>\n",
       "      <td>2011</td>\n",
       "      <td>13358738</td>\n",
       "      <td>417.0</td>\n",
       "      <td>241.0</td>\n",
       "      <td>639.0</td>\n",
       "      <td>...</td>\n",
       "      <td>448.00</td>\n",
       "      <td>403.00</td>\n",
       "      <td>502.00</td>\n",
       "      <td>60000.0</td>\n",
       "      <td>54000.0</td>\n",
       "      <td>67000.0</td>\n",
       "      <td>NaN</td>\n",
       "      <td>48.0</td>\n",
       "      <td>43.0</td>\n",
       "      <td>53.0</td>\n",
       "    </tr>\n",
       "    <tr>\n",
       "      <th>5118</th>\n",
       "      <td>Zimbabwe</td>\n",
       "      <td>ZW</td>\n",
       "      <td>ZWE</td>\n",
       "      <td>716</td>\n",
       "      <td>AFR</td>\n",
       "      <td>2012</td>\n",
       "      <td>13724317</td>\n",
       "      <td>425.0</td>\n",
       "      <td>245.0</td>\n",
       "      <td>654.0</td>\n",
       "      <td>...</td>\n",
       "      <td>411.00</td>\n",
       "      <td>362.00</td>\n",
       "      <td>471.00</td>\n",
       "      <td>56000.0</td>\n",
       "      <td>50000.0</td>\n",
       "      <td>65000.0</td>\n",
       "      <td>NaN</td>\n",
       "      <td>45.0</td>\n",
       "      <td>40.0</td>\n",
       "      <td>52.0</td>\n",
       "    </tr>\n",
       "    <tr>\n",
       "      <th>5119</th>\n",
       "      <td>Zimbabwe</td>\n",
       "      <td>ZW</td>\n",
       "      <td>ZWE</td>\n",
       "      <td>716</td>\n",
       "      <td>AFR</td>\n",
       "      <td>2013</td>\n",
       "      <td>14149648</td>\n",
       "      <td>409.0</td>\n",
       "      <td>235.0</td>\n",
       "      <td>630.0</td>\n",
       "      <td>...</td>\n",
       "      <td>395.00</td>\n",
       "      <td>341.00</td>\n",
       "      <td>464.00</td>\n",
       "      <td>56000.0</td>\n",
       "      <td>48000.0</td>\n",
       "      <td>66000.0</td>\n",
       "      <td>NaN</td>\n",
       "      <td>42.0</td>\n",
       "      <td>36.0</td>\n",
       "      <td>49.0</td>\n",
       "    </tr>\n",
       "  </tbody>\n",
       "</table>\n",
       "<p>5120 rows × 47 columns</p>\n",
       "</div>"
      ],
      "text/plain": [
       "     Country or territory name ISO 2-character country/territory code  \\\n",
       "0                  Afghanistan                                     AF   \n",
       "1                  Afghanistan                                     AF   \n",
       "2                  Afghanistan                                     AF   \n",
       "3                  Afghanistan                                     AF   \n",
       "4                  Afghanistan                                     AF   \n",
       "...                        ...                                    ...   \n",
       "5115                  Zimbabwe                                     ZW   \n",
       "5116                  Zimbabwe                                     ZW   \n",
       "5117                  Zimbabwe                                     ZW   \n",
       "5118                  Zimbabwe                                     ZW   \n",
       "5119                  Zimbabwe                                     ZW   \n",
       "\n",
       "     ISO 3-character country/territory code  \\\n",
       "0                                       AFG   \n",
       "1                                       AFG   \n",
       "2                                       AFG   \n",
       "3                                       AFG   \n",
       "4                                       AFG   \n",
       "...                                     ...   \n",
       "5115                                    ZWE   \n",
       "5116                                    ZWE   \n",
       "5117                                    ZWE   \n",
       "5118                                    ZWE   \n",
       "5119                                    ZWE   \n",
       "\n",
       "      ISO numeric country/territory code Region  Year  \\\n",
       "0                                      4    EMR  1990   \n",
       "1                                      4    EMR  1991   \n",
       "2                                      4    EMR  1992   \n",
       "3                                      4    EMR  1993   \n",
       "4                                      4    EMR  1994   \n",
       "...                                  ...    ...   ...   \n",
       "5115                                 716    AFR  2009   \n",
       "5116                                 716    AFR  2010   \n",
       "5117                                 716    AFR  2011   \n",
       "5118                                 716    AFR  2012   \n",
       "5119                                 716    AFR  2013   \n",
       "\n",
       "      Estimated total population number  \\\n",
       "0                              11731193   \n",
       "1                              12612043   \n",
       "2                              13811876   \n",
       "3                              15175325   \n",
       "4                              16485018   \n",
       "...                                 ...   \n",
       "5115                           12888918   \n",
       "5116                           13076978   \n",
       "5117                           13358738   \n",
       "5118                           13724317   \n",
       "5119                           14149648   \n",
       "\n",
       "      Estimated prevalence of TB (all forms) per 100 000 population  \\\n",
       "0                                                 306.0               \n",
       "1                                                 343.0               \n",
       "2                                                 371.0               \n",
       "3                                                 392.0               \n",
       "4                                                 410.0               \n",
       "...                                                 ...               \n",
       "5115                                              449.0               \n",
       "5116                                              415.0               \n",
       "5117                                              417.0               \n",
       "5118                                              425.0               \n",
       "5119                                              409.0               \n",
       "\n",
       "      Estimated prevalence of TB (all forms) per 100 000 population, low bound  \\\n",
       "0                                                 156.0                          \n",
       "1                                                 178.0                          \n",
       "2                                                 189.0                          \n",
       "3                                                 194.0                          \n",
       "4                                                 198.0                          \n",
       "...                                                 ...                          \n",
       "5115                                              258.0                          \n",
       "5116                                              239.0                          \n",
       "5117                                              241.0                          \n",
       "5118                                              245.0                          \n",
       "5119                                              235.0                          \n",
       "\n",
       "      Estimated prevalence of TB (all forms) per 100 000 population, high bound  \\\n",
       "0                                                 506.0                           \n",
       "1                                                 562.0                           \n",
       "2                                                 614.0                           \n",
       "3                                                 657.0                           \n",
       "4                                                 697.0                           \n",
       "...                                                 ...                           \n",
       "5115                                              692.0                           \n",
       "5116                                              639.0                           \n",
       "5117                                              639.0                           \n",
       "5118                                              654.0                           \n",
       "5119                                              630.0                           \n",
       "\n",
       "      ...  \\\n",
       "0     ...   \n",
       "1     ...   \n",
       "2     ...   \n",
       "3     ...   \n",
       "4     ...   \n",
       "...   ...   \n",
       "5115  ...   \n",
       "5116  ...   \n",
       "5117  ...   \n",
       "5118  ...   \n",
       "5119  ...   \n",
       "\n",
       "      Estimated incidence of TB cases who are HIV-positive per 100 000 population  \\\n",
       "0                                                  0.11                             \n",
       "1                                                  0.13                             \n",
       "2                                                  0.16                             \n",
       "3                                                  0.19                             \n",
       "4                                                  0.21                             \n",
       "...                                                 ...                             \n",
       "5115                                             511.00                             \n",
       "5116                                             487.00                             \n",
       "5117                                             448.00                             \n",
       "5118                                             411.00                             \n",
       "5119                                             395.00                             \n",
       "\n",
       "      Estimated incidence of TB cases who are HIV-positive per 100 000 population, low bound  \\\n",
       "0                                                  0.08                                        \n",
       "1                                                  0.11                                        \n",
       "2                                                  0.14                                        \n",
       "3                                                  0.17                                        \n",
       "4                                                  0.18                                        \n",
       "...                                                 ...                                        \n",
       "5115                                             460.00                                        \n",
       "5116                                             433.00                                        \n",
       "5117                                             403.00                                        \n",
       "5118                                             362.00                                        \n",
       "5119                                             341.00                                        \n",
       "\n",
       "      Estimated incidence of TB cases who are HIV-positive per 100 000 population, high bound  \\\n",
       "0                                                  0.14                                         \n",
       "1                                                  0.16                                         \n",
       "2                                                  0.18                                         \n",
       "3                                                  0.21                                         \n",
       "4                                                  0.24                                         \n",
       "...                                                 ...                                         \n",
       "5115                                             566.00                                         \n",
       "5116                                             545.00                                         \n",
       "5117                                             502.00                                         \n",
       "5118                                             471.00                                         \n",
       "5119                                             464.00                                         \n",
       "\n",
       "     Estimated incidence of TB cases who are HIV-positive  \\\n",
       "0                                                  12.0     \n",
       "1                                                  17.0     \n",
       "2                                                  22.0     \n",
       "3                                                  28.0     \n",
       "4                                                  35.0     \n",
       "...                                                 ...     \n",
       "5115                                            66000.0     \n",
       "5116                                            64000.0     \n",
       "5117                                            60000.0     \n",
       "5118                                            56000.0     \n",
       "5119                                            56000.0     \n",
       "\n",
       "      Estimated incidence of TB cases who are HIV-positive, low bound  \\\n",
       "0                                                   9.4                 \n",
       "1                                                  14.0                 \n",
       "2                                                  19.0                 \n",
       "3                                                  25.0                 \n",
       "4                                                  30.0                 \n",
       "...                                                 ...                 \n",
       "5115                                            59000.0                 \n",
       "5116                                            57000.0                 \n",
       "5117                                            54000.0                 \n",
       "5118                                            50000.0                 \n",
       "5119                                            48000.0                 \n",
       "\n",
       "      Estimated incidence of TB cases who are HIV-positive, high bound  \\\n",
       "0                                                  16.0                  \n",
       "1                                                  20.0                  \n",
       "2                                                  24.0                  \n",
       "3                                                  31.0                  \n",
       "4                                                  39.0                  \n",
       "...                                                 ...                  \n",
       "5115                                            73000.0                  \n",
       "5116                                            71000.0                  \n",
       "5117                                            67000.0                  \n",
       "5118                                            65000.0                  \n",
       "5119                                            66000.0                  \n",
       "\n",
       "      Method to derive TBHIV estimates  \\\n",
       "0                                  NaN   \n",
       "1                                  NaN   \n",
       "2                                  NaN   \n",
       "3                                  NaN   \n",
       "4                                  NaN   \n",
       "...                                ...   \n",
       "5115                               NaN   \n",
       "5116                               NaN   \n",
       "5117                               NaN   \n",
       "5118                               NaN   \n",
       "5119                               NaN   \n",
       "\n",
       "      Case detection rate (all forms), percent  \\\n",
       "0                                         20.0   \n",
       "1                                         96.0   \n",
       "2                                          NaN   \n",
       "3                                          NaN   \n",
       "4                                          NaN   \n",
       "...                                        ...   \n",
       "5115                                      50.0   \n",
       "5116                                      53.0   \n",
       "5117                                      48.0   \n",
       "5118                                      45.0   \n",
       "5119                                      42.0   \n",
       "\n",
       "      Case detection rate (all forms), percent, low bound  \\\n",
       "0                                                  15.0     \n",
       "1                                                  80.0     \n",
       "2                                                   NaN     \n",
       "3                                                   NaN     \n",
       "4                                                   NaN     \n",
       "...                                                 ...     \n",
       "5115                                               45.0     \n",
       "5116                                               48.0     \n",
       "5117                                               43.0     \n",
       "5118                                               40.0     \n",
       "5119                                               36.0     \n",
       "\n",
       "      Case detection rate (all forms), percent, high bound  \n",
       "0                                                  24.0     \n",
       "1                                                 110.0     \n",
       "2                                                   NaN     \n",
       "3                                                   NaN     \n",
       "4                                                   NaN     \n",
       "...                                                 ...     \n",
       "5115                                               54.0     \n",
       "5116                                               59.0     \n",
       "5117                                               53.0     \n",
       "5118                                               52.0     \n",
       "5119                                               49.0     \n",
       "\n",
       "[5120 rows x 47 columns]"
      ]
     },
     "execution_count": 4,
     "metadata": {},
     "output_type": "execute_result"
    }
   ],
   "source": [
    "data"
   ]
  },
  {
   "cell_type": "code",
   "execution_count": 5,
   "id": "4a640923-23aa-4880-8359-b3c3c8690098",
   "metadata": {},
   "outputs": [
    {
     "name": "stdout",
     "output_type": "stream",
     "text": [
      "<class 'pandas.core.frame.DataFrame'>\n",
      "RangeIndex: 5120 entries, 0 to 5119\n",
      "Data columns (total 47 columns):\n",
      " #   Column                                                                                          Non-Null Count  Dtype  \n",
      "---  ------                                                                                          --------------  -----  \n",
      " 0   Country or territory name                                                                       5120 non-null   object \n",
      " 1   ISO 2-character country/territory code                                                          5096 non-null   object \n",
      " 2   ISO 3-character country/territory code                                                          5120 non-null   object \n",
      " 3   ISO numeric country/territory code                                                              5120 non-null   int64  \n",
      " 4   Region                                                                                          5120 non-null   object \n",
      " 5   Year                                                                                            5120 non-null   int64  \n",
      " 6   Estimated total population number                                                               5120 non-null   int64  \n",
      " 7   Estimated prevalence of TB (all forms) per 100 000 population                                   5120 non-null   float64\n",
      " 8   Estimated prevalence of TB (all forms) per 100 000 population, low bound                        5100 non-null   float64\n",
      " 9   Estimated prevalence of TB (all forms) per 100 000 population, high bound                       5100 non-null   float64\n",
      " 10  Estimated prevalence of TB (all forms)                                                          5120 non-null   float64\n",
      " 11  Estimated prevalence of TB (all forms), low bound                                               5100 non-null   float64\n",
      " 12  Estimated prevalence of TB (all forms), high bound                                              5100 non-null   float64\n",
      " 13  Method to derive prevalence estimates                                                           5120 non-null   object \n",
      " 14  Estimated mortality of TB cases (all forms, excluding HIV) per 100 000 population               5120 non-null   float64\n",
      " 15  Estimated mortality of TB cases (all forms, excluding HIV), per 100 000 population, low bound   5120 non-null   float64\n",
      " 16  Estimated mortality of TB cases (all forms, excluding HIV), per 100 000 population, high bound  5120 non-null   float64\n",
      " 17  Estimated number of deaths from TB (all forms, excluding HIV)                                   5120 non-null   float64\n",
      " 18  Estimated number of deaths from TB (all forms, excluding HIV), low bound                        5120 non-null   float64\n",
      " 19  Estimated number of deaths from TB (all forms, excluding HIV), high bound                       5120 non-null   float64\n",
      " 20  Estimated mortality of TB cases who are HIV-positive, per 100 000 population                    5120 non-null   float64\n",
      " 21  Estimated mortality of TB cases who are HIV-positive, per 100 000 population, low bound         3178 non-null   float64\n",
      " 22  Estimated mortality of TB cases who are HIV-positive, per 100 000 population, high bound        3178 non-null   float64\n",
      " 23  Estimated number of deaths from TB in people who are HIV-positive                               5120 non-null   float64\n",
      " 24  Estimated number of deaths from TB in people who are HIV-positive, low bound                    3178 non-null   float64\n",
      " 25  Estimated number of deaths from TB in people who are HIV-positive, high bound                   3178 non-null   float64\n",
      " 26  Method to derive mortality estimates                                                            5120 non-null   object \n",
      " 27  Estimated incidence (all forms) per 100 000 population                                          5120 non-null   float64\n",
      " 28  Estimated incidence (all forms) per 100 000 population, low bound                               5026 non-null   float64\n",
      " 29  Estimated incidence (all forms) per 100 000 population, high bound                              5026 non-null   float64\n",
      " 30  Estimated number of incident cases (all forms)                                                  5120 non-null   float64\n",
      " 31  Estimated number of incident cases (all forms), low bound                                       5026 non-null   float64\n",
      " 32  Estimated number of incident cases (all forms), high bound                                      5026 non-null   float64\n",
      " 33  Method to derive incidence estimates                                                            2987 non-null   object \n",
      " 34  Estimated HIV in incident TB (percent)                                                          3645 non-null   float64\n",
      " 35  Estimated HIV in incident TB (percent), low bound                                               3642 non-null   float64\n",
      " 36  Estimated HIV in incident TB (percent), high bound                                              3642 non-null   float64\n",
      " 37  Estimated incidence of TB cases who are HIV-positive per 100 000 population                     3645 non-null   float64\n",
      " 38  Estimated incidence of TB cases who are HIV-positive per 100 000 population, low bound          3642 non-null   float64\n",
      " 39  Estimated incidence of TB cases who are HIV-positive per 100 000 population, high bound         3642 non-null   float64\n",
      " 40  Estimated incidence of TB cases who are HIV-positive                                            3645 non-null   float64\n",
      " 41  Estimated incidence of TB cases who are HIV-positive, low bound                                 3642 non-null   float64\n",
      " 42  Estimated incidence of TB cases who are HIV-positive, high bound                                3642 non-null   float64\n",
      " 43  Method to derive TBHIV estimates                                                                0 non-null      float64\n",
      " 44  Case detection rate (all forms), percent                                                        4671 non-null   float64\n",
      " 45  Case detection rate (all forms), percent, low bound                                             4671 non-null   float64\n",
      " 46  Case detection rate (all forms), percent, high bound                                            4671 non-null   float64\n",
      "dtypes: float64(37), int64(3), object(7)\n",
      "memory usage: 1.8+ MB\n"
     ]
    }
   ],
   "source": [
    "data.info()"
   ]
  },
  {
   "cell_type": "code",
   "execution_count": 7,
   "id": "7a02f545-4a2e-4ce1-b94a-08b602e84137",
   "metadata": {},
   "outputs": [
    {
     "data": {
      "text/plain": [
       "(47,)"
      ]
     },
     "execution_count": 7,
     "metadata": {},
     "output_type": "execute_result"
    }
   ],
   "source": [
    "data.columns.shape"
   ]
  },
  {
   "cell_type": "code",
   "execution_count": 8,
   "id": "660cacdf-c5f5-42b0-b269-b777e8234e12",
   "metadata": {},
   "outputs": [
    {
     "data": {
      "text/plain": [
       "Index(['Country or territory name', 'ISO 2-character country/territory code',\n",
       "       'ISO 3-character country/territory code',\n",
       "       'ISO numeric country/territory code', 'Region', 'Year',\n",
       "       'Estimated total population number',\n",
       "       'Estimated prevalence of TB (all forms) per 100 000 population',\n",
       "       'Estimated prevalence of TB (all forms) per 100 000 population, low bound',\n",
       "       'Estimated prevalence of TB (all forms) per 100 000 population, high bound',\n",
       "       'Estimated prevalence of TB (all forms)',\n",
       "       'Estimated prevalence of TB (all forms), low bound',\n",
       "       'Estimated prevalence of TB (all forms), high bound',\n",
       "       'Method to derive prevalence estimates',\n",
       "       'Estimated mortality of TB cases (all forms, excluding HIV) per 100 000 population',\n",
       "       'Estimated mortality of TB cases (all forms, excluding HIV), per 100 000 population, low bound',\n",
       "       'Estimated mortality of TB cases (all forms, excluding HIV), per 100 000 population, high bound',\n",
       "       'Estimated number of deaths from TB (all forms, excluding HIV)',\n",
       "       'Estimated number of deaths from TB (all forms, excluding HIV), low bound',\n",
       "       'Estimated number of deaths from TB (all forms, excluding HIV), high bound',\n",
       "       'Estimated mortality of TB cases who are HIV-positive, per 100 000 population',\n",
       "       'Estimated mortality of TB cases who are HIV-positive, per 100 000 population, low bound',\n",
       "       'Estimated mortality of TB cases who are HIV-positive, per 100 000 population, high bound',\n",
       "       'Estimated number of deaths from TB in people who are HIV-positive',\n",
       "       'Estimated number of deaths from TB in people who are HIV-positive, low bound',\n",
       "       'Estimated number of deaths from TB in people who are HIV-positive, high bound',\n",
       "       'Method to derive mortality estimates',\n",
       "       'Estimated incidence (all forms) per 100 000 population',\n",
       "       'Estimated incidence (all forms) per 100 000 population, low bound',\n",
       "       'Estimated incidence (all forms) per 100 000 population, high bound',\n",
       "       'Estimated number of incident cases (all forms)',\n",
       "       'Estimated number of incident cases (all forms), low bound',\n",
       "       'Estimated number of incident cases (all forms), high bound',\n",
       "       'Method to derive incidence estimates',\n",
       "       'Estimated HIV in incident TB (percent)',\n",
       "       'Estimated HIV in incident TB (percent), low bound',\n",
       "       'Estimated HIV in incident TB (percent), high bound',\n",
       "       'Estimated incidence of TB cases who are HIV-positive per 100 000 population',\n",
       "       'Estimated incidence of TB cases who are HIV-positive per 100 000 population, low bound',\n",
       "       'Estimated incidence of TB cases who are HIV-positive per 100 000 population, high bound',\n",
       "       'Estimated incidence of TB cases who are HIV-positive',\n",
       "       'Estimated incidence of TB cases who are HIV-positive, low bound',\n",
       "       'Estimated incidence of TB cases who are HIV-positive, high bound',\n",
       "       'Method to derive TBHIV estimates',\n",
       "       'Case detection rate (all forms), percent',\n",
       "       'Case detection rate (all forms), percent, low bound',\n",
       "       'Case detection rate (all forms), percent, high bound'],\n",
       "      dtype='object')"
      ]
     },
     "execution_count": 8,
     "metadata": {},
     "output_type": "execute_result"
    }
   ],
   "source": [
    "data.columns"
   ]
  },
  {
   "cell_type": "code",
   "execution_count": 9,
   "id": "2f65a526-c352-41ad-8f5e-d9bbcac7e765",
   "metadata": {},
   "outputs": [
    {
     "data": {
      "text/plain": [
       "Region\n",
       "EUR    1281\n",
       "AFR    1107\n",
       "AMR    1088\n",
       "WPR     864\n",
       "EMR     528\n",
       "SEA     252\n",
       "Name: count, dtype: int64"
      ]
     },
     "execution_count": 9,
     "metadata": {},
     "output_type": "execute_result"
    }
   ],
   "source": [
    "data.Region.value_counts()"
   ]
  },
  {
   "cell_type": "markdown",
   "id": "c7c4a149-a6bd-4c7b-b93a-969d6c50071a",
   "metadata": {},
   "source": [
    "## Memilih Data Region Afrika (`AFR`)"
   ]
  },
  {
   "cell_type": "code",
   "execution_count": 35,
   "id": "cd548d57-5781-453e-8d88-c26f7af76fd3",
   "metadata": {},
   "outputs": [
    {
     "data": {
      "text/html": [
       "<div>\n",
       "<style scoped>\n",
       "    .dataframe tbody tr th:only-of-type {\n",
       "        vertical-align: middle;\n",
       "    }\n",
       "\n",
       "    .dataframe tbody tr th {\n",
       "        vertical-align: top;\n",
       "    }\n",
       "\n",
       "    .dataframe thead th {\n",
       "        text-align: right;\n",
       "    }\n",
       "</style>\n",
       "<table border=\"1\" class=\"dataframe\">\n",
       "  <thead>\n",
       "    <tr style=\"text-align: right;\">\n",
       "      <th></th>\n",
       "      <th>Country or territory name</th>\n",
       "      <th>ISO 2-character country/territory code</th>\n",
       "      <th>ISO 3-character country/territory code</th>\n",
       "      <th>ISO numeric country/territory code</th>\n",
       "      <th>Region</th>\n",
       "      <th>Year</th>\n",
       "      <th>Estimated total population number</th>\n",
       "      <th>Estimated prevalence of TB (all forms) per 100 000 population</th>\n",
       "      <th>Estimated prevalence of TB (all forms) per 100 000 population, low bound</th>\n",
       "      <th>Estimated prevalence of TB (all forms) per 100 000 population, high bound</th>\n",
       "      <th>...</th>\n",
       "      <th>Estimated incidence of TB cases who are HIV-positive per 100 000 population</th>\n",
       "      <th>Estimated incidence of TB cases who are HIV-positive per 100 000 population, low bound</th>\n",
       "      <th>Estimated incidence of TB cases who are HIV-positive per 100 000 population, high bound</th>\n",
       "      <th>Estimated incidence of TB cases who are HIV-positive</th>\n",
       "      <th>Estimated incidence of TB cases who are HIV-positive, low bound</th>\n",
       "      <th>Estimated incidence of TB cases who are HIV-positive, high bound</th>\n",
       "      <th>Method to derive TBHIV estimates</th>\n",
       "      <th>Case detection rate (all forms), percent</th>\n",
       "      <th>Case detection rate (all forms), percent, low bound</th>\n",
       "      <th>Case detection rate (all forms), percent, high bound</th>\n",
       "    </tr>\n",
       "  </thead>\n",
       "  <tbody>\n",
       "    <tr>\n",
       "      <th>48</th>\n",
       "      <td>Algeria</td>\n",
       "      <td>DZ</td>\n",
       "      <td>DZA</td>\n",
       "      <td>12</td>\n",
       "      <td>AFR</td>\n",
       "      <td>1990</td>\n",
       "      <td>26239708</td>\n",
       "      <td>100.0</td>\n",
       "      <td>51.0</td>\n",
       "      <td>166.0</td>\n",
       "      <td>...</td>\n",
       "      <td>0.04</td>\n",
       "      <td>0.03</td>\n",
       "      <td>0.23</td>\n",
       "      <td>11.0</td>\n",
       "      <td>9.0</td>\n",
       "      <td>61.0</td>\n",
       "      <td>NaN</td>\n",
       "      <td>69.0</td>\n",
       "      <td>58.0</td>\n",
       "      <td>83.0</td>\n",
       "    </tr>\n",
       "    <tr>\n",
       "      <th>49</th>\n",
       "      <td>Algeria</td>\n",
       "      <td>DZ</td>\n",
       "      <td>DZA</td>\n",
       "      <td>12</td>\n",
       "      <td>AFR</td>\n",
       "      <td>1991</td>\n",
       "      <td>26893663</td>\n",
       "      <td>99.0</td>\n",
       "      <td>51.0</td>\n",
       "      <td>164.0</td>\n",
       "      <td>...</td>\n",
       "      <td>0.05</td>\n",
       "      <td>0.04</td>\n",
       "      <td>0.27</td>\n",
       "      <td>13.0</td>\n",
       "      <td>12.0</td>\n",
       "      <td>73.0</td>\n",
       "      <td>NaN</td>\n",
       "      <td>66.0</td>\n",
       "      <td>57.0</td>\n",
       "      <td>74.0</td>\n",
       "    </tr>\n",
       "    <tr>\n",
       "      <th>50</th>\n",
       "      <td>Algeria</td>\n",
       "      <td>DZ</td>\n",
       "      <td>DZA</td>\n",
       "      <td>12</td>\n",
       "      <td>AFR</td>\n",
       "      <td>1992</td>\n",
       "      <td>27535151</td>\n",
       "      <td>100.0</td>\n",
       "      <td>51.0</td>\n",
       "      <td>165.0</td>\n",
       "      <td>...</td>\n",
       "      <td>0.06</td>\n",
       "      <td>0.05</td>\n",
       "      <td>0.32</td>\n",
       "      <td>16.0</td>\n",
       "      <td>15.0</td>\n",
       "      <td>89.0</td>\n",
       "      <td>NaN</td>\n",
       "      <td>64.0</td>\n",
       "      <td>56.0</td>\n",
       "      <td>71.0</td>\n",
       "    </tr>\n",
       "    <tr>\n",
       "      <th>51</th>\n",
       "      <td>Algeria</td>\n",
       "      <td>DZ</td>\n",
       "      <td>DZA</td>\n",
       "      <td>12</td>\n",
       "      <td>AFR</td>\n",
       "      <td>1993</td>\n",
       "      <td>28157560</td>\n",
       "      <td>102.0</td>\n",
       "      <td>52.0</td>\n",
       "      <td>170.0</td>\n",
       "      <td>...</td>\n",
       "      <td>0.07</td>\n",
       "      <td>0.07</td>\n",
       "      <td>0.39</td>\n",
       "      <td>19.0</td>\n",
       "      <td>18.0</td>\n",
       "      <td>110.0</td>\n",
       "      <td>NaN</td>\n",
       "      <td>71.0</td>\n",
       "      <td>63.0</td>\n",
       "      <td>80.0</td>\n",
       "    </tr>\n",
       "    <tr>\n",
       "      <th>52</th>\n",
       "      <td>Algeria</td>\n",
       "      <td>DZ</td>\n",
       "      <td>DZA</td>\n",
       "      <td>12</td>\n",
       "      <td>AFR</td>\n",
       "      <td>1994</td>\n",
       "      <td>28752749</td>\n",
       "      <td>106.0</td>\n",
       "      <td>54.0</td>\n",
       "      <td>176.0</td>\n",
       "      <td>...</td>\n",
       "      <td>0.08</td>\n",
       "      <td>0.08</td>\n",
       "      <td>0.50</td>\n",
       "      <td>24.0</td>\n",
       "      <td>23.0</td>\n",
       "      <td>140.0</td>\n",
       "      <td>NaN</td>\n",
       "      <td>67.0</td>\n",
       "      <td>58.0</td>\n",
       "      <td>77.0</td>\n",
       "    </tr>\n",
       "    <tr>\n",
       "      <th>...</th>\n",
       "      <td>...</td>\n",
       "      <td>...</td>\n",
       "      <td>...</td>\n",
       "      <td>...</td>\n",
       "      <td>...</td>\n",
       "      <td>...</td>\n",
       "      <td>...</td>\n",
       "      <td>...</td>\n",
       "      <td>...</td>\n",
       "      <td>...</td>\n",
       "      <td>...</td>\n",
       "      <td>...</td>\n",
       "      <td>...</td>\n",
       "      <td>...</td>\n",
       "      <td>...</td>\n",
       "      <td>...</td>\n",
       "      <td>...</td>\n",
       "      <td>...</td>\n",
       "      <td>...</td>\n",
       "      <td>...</td>\n",
       "      <td>...</td>\n",
       "    </tr>\n",
       "    <tr>\n",
       "      <th>5115</th>\n",
       "      <td>Zimbabwe</td>\n",
       "      <td>ZW</td>\n",
       "      <td>ZWE</td>\n",
       "      <td>716</td>\n",
       "      <td>AFR</td>\n",
       "      <td>2009</td>\n",
       "      <td>12888918</td>\n",
       "      <td>449.0</td>\n",
       "      <td>258.0</td>\n",
       "      <td>692.0</td>\n",
       "      <td>...</td>\n",
       "      <td>511.00</td>\n",
       "      <td>460.00</td>\n",
       "      <td>566.00</td>\n",
       "      <td>66000.0</td>\n",
       "      <td>59000.0</td>\n",
       "      <td>73000.0</td>\n",
       "      <td>NaN</td>\n",
       "      <td>50.0</td>\n",
       "      <td>45.0</td>\n",
       "      <td>54.0</td>\n",
       "    </tr>\n",
       "    <tr>\n",
       "      <th>5116</th>\n",
       "      <td>Zimbabwe</td>\n",
       "      <td>ZW</td>\n",
       "      <td>ZWE</td>\n",
       "      <td>716</td>\n",
       "      <td>AFR</td>\n",
       "      <td>2010</td>\n",
       "      <td>13076978</td>\n",
       "      <td>415.0</td>\n",
       "      <td>239.0</td>\n",
       "      <td>639.0</td>\n",
       "      <td>...</td>\n",
       "      <td>487.00</td>\n",
       "      <td>433.00</td>\n",
       "      <td>545.00</td>\n",
       "      <td>64000.0</td>\n",
       "      <td>57000.0</td>\n",
       "      <td>71000.0</td>\n",
       "      <td>NaN</td>\n",
       "      <td>53.0</td>\n",
       "      <td>48.0</td>\n",
       "      <td>59.0</td>\n",
       "    </tr>\n",
       "    <tr>\n",
       "      <th>5117</th>\n",
       "      <td>Zimbabwe</td>\n",
       "      <td>ZW</td>\n",
       "      <td>ZWE</td>\n",
       "      <td>716</td>\n",
       "      <td>AFR</td>\n",
       "      <td>2011</td>\n",
       "      <td>13358738</td>\n",
       "      <td>417.0</td>\n",
       "      <td>241.0</td>\n",
       "      <td>639.0</td>\n",
       "      <td>...</td>\n",
       "      <td>448.00</td>\n",
       "      <td>403.00</td>\n",
       "      <td>502.00</td>\n",
       "      <td>60000.0</td>\n",
       "      <td>54000.0</td>\n",
       "      <td>67000.0</td>\n",
       "      <td>NaN</td>\n",
       "      <td>48.0</td>\n",
       "      <td>43.0</td>\n",
       "      <td>53.0</td>\n",
       "    </tr>\n",
       "    <tr>\n",
       "      <th>5118</th>\n",
       "      <td>Zimbabwe</td>\n",
       "      <td>ZW</td>\n",
       "      <td>ZWE</td>\n",
       "      <td>716</td>\n",
       "      <td>AFR</td>\n",
       "      <td>2012</td>\n",
       "      <td>13724317</td>\n",
       "      <td>425.0</td>\n",
       "      <td>245.0</td>\n",
       "      <td>654.0</td>\n",
       "      <td>...</td>\n",
       "      <td>411.00</td>\n",
       "      <td>362.00</td>\n",
       "      <td>471.00</td>\n",
       "      <td>56000.0</td>\n",
       "      <td>50000.0</td>\n",
       "      <td>65000.0</td>\n",
       "      <td>NaN</td>\n",
       "      <td>45.0</td>\n",
       "      <td>40.0</td>\n",
       "      <td>52.0</td>\n",
       "    </tr>\n",
       "    <tr>\n",
       "      <th>5119</th>\n",
       "      <td>Zimbabwe</td>\n",
       "      <td>ZW</td>\n",
       "      <td>ZWE</td>\n",
       "      <td>716</td>\n",
       "      <td>AFR</td>\n",
       "      <td>2013</td>\n",
       "      <td>14149648</td>\n",
       "      <td>409.0</td>\n",
       "      <td>235.0</td>\n",
       "      <td>630.0</td>\n",
       "      <td>...</td>\n",
       "      <td>395.00</td>\n",
       "      <td>341.00</td>\n",
       "      <td>464.00</td>\n",
       "      <td>56000.0</td>\n",
       "      <td>48000.0</td>\n",
       "      <td>66000.0</td>\n",
       "      <td>NaN</td>\n",
       "      <td>42.0</td>\n",
       "      <td>36.0</td>\n",
       "      <td>49.0</td>\n",
       "    </tr>\n",
       "  </tbody>\n",
       "</table>\n",
       "<p>1107 rows × 47 columns</p>\n",
       "</div>"
      ],
      "text/plain": [
       "     Country or territory name ISO 2-character country/territory code  \\\n",
       "48                     Algeria                                     DZ   \n",
       "49                     Algeria                                     DZ   \n",
       "50                     Algeria                                     DZ   \n",
       "51                     Algeria                                     DZ   \n",
       "52                     Algeria                                     DZ   \n",
       "...                        ...                                    ...   \n",
       "5115                  Zimbabwe                                     ZW   \n",
       "5116                  Zimbabwe                                     ZW   \n",
       "5117                  Zimbabwe                                     ZW   \n",
       "5118                  Zimbabwe                                     ZW   \n",
       "5119                  Zimbabwe                                     ZW   \n",
       "\n",
       "     ISO 3-character country/territory code  \\\n",
       "48                                      DZA   \n",
       "49                                      DZA   \n",
       "50                                      DZA   \n",
       "51                                      DZA   \n",
       "52                                      DZA   \n",
       "...                                     ...   \n",
       "5115                                    ZWE   \n",
       "5116                                    ZWE   \n",
       "5117                                    ZWE   \n",
       "5118                                    ZWE   \n",
       "5119                                    ZWE   \n",
       "\n",
       "      ISO numeric country/territory code Region  Year  \\\n",
       "48                                    12    AFR  1990   \n",
       "49                                    12    AFR  1991   \n",
       "50                                    12    AFR  1992   \n",
       "51                                    12    AFR  1993   \n",
       "52                                    12    AFR  1994   \n",
       "...                                  ...    ...   ...   \n",
       "5115                                 716    AFR  2009   \n",
       "5116                                 716    AFR  2010   \n",
       "5117                                 716    AFR  2011   \n",
       "5118                                 716    AFR  2012   \n",
       "5119                                 716    AFR  2013   \n",
       "\n",
       "      Estimated total population number  \\\n",
       "48                             26239708   \n",
       "49                             26893663   \n",
       "50                             27535151   \n",
       "51                             28157560   \n",
       "52                             28752749   \n",
       "...                                 ...   \n",
       "5115                           12888918   \n",
       "5116                           13076978   \n",
       "5117                           13358738   \n",
       "5118                           13724317   \n",
       "5119                           14149648   \n",
       "\n",
       "      Estimated prevalence of TB (all forms) per 100 000 population  \\\n",
       "48                                                100.0               \n",
       "49                                                 99.0               \n",
       "50                                                100.0               \n",
       "51                                                102.0               \n",
       "52                                                106.0               \n",
       "...                                                 ...               \n",
       "5115                                              449.0               \n",
       "5116                                              415.0               \n",
       "5117                                              417.0               \n",
       "5118                                              425.0               \n",
       "5119                                              409.0               \n",
       "\n",
       "      Estimated prevalence of TB (all forms) per 100 000 population, low bound  \\\n",
       "48                                                 51.0                          \n",
       "49                                                 51.0                          \n",
       "50                                                 51.0                          \n",
       "51                                                 52.0                          \n",
       "52                                                 54.0                          \n",
       "...                                                 ...                          \n",
       "5115                                              258.0                          \n",
       "5116                                              239.0                          \n",
       "5117                                              241.0                          \n",
       "5118                                              245.0                          \n",
       "5119                                              235.0                          \n",
       "\n",
       "      Estimated prevalence of TB (all forms) per 100 000 population, high bound  \\\n",
       "48                                                166.0                           \n",
       "49                                                164.0                           \n",
       "50                                                165.0                           \n",
       "51                                                170.0                           \n",
       "52                                                176.0                           \n",
       "...                                                 ...                           \n",
       "5115                                              692.0                           \n",
       "5116                                              639.0                           \n",
       "5117                                              639.0                           \n",
       "5118                                              654.0                           \n",
       "5119                                              630.0                           \n",
       "\n",
       "      ...  \\\n",
       "48    ...   \n",
       "49    ...   \n",
       "50    ...   \n",
       "51    ...   \n",
       "52    ...   \n",
       "...   ...   \n",
       "5115  ...   \n",
       "5116  ...   \n",
       "5117  ...   \n",
       "5118  ...   \n",
       "5119  ...   \n",
       "\n",
       "      Estimated incidence of TB cases who are HIV-positive per 100 000 population  \\\n",
       "48                                                 0.04                             \n",
       "49                                                 0.05                             \n",
       "50                                                 0.06                             \n",
       "51                                                 0.07                             \n",
       "52                                                 0.08                             \n",
       "...                                                 ...                             \n",
       "5115                                             511.00                             \n",
       "5116                                             487.00                             \n",
       "5117                                             448.00                             \n",
       "5118                                             411.00                             \n",
       "5119                                             395.00                             \n",
       "\n",
       "      Estimated incidence of TB cases who are HIV-positive per 100 000 population, low bound  \\\n",
       "48                                                 0.03                                        \n",
       "49                                                 0.04                                        \n",
       "50                                                 0.05                                        \n",
       "51                                                 0.07                                        \n",
       "52                                                 0.08                                        \n",
       "...                                                 ...                                        \n",
       "5115                                             460.00                                        \n",
       "5116                                             433.00                                        \n",
       "5117                                             403.00                                        \n",
       "5118                                             362.00                                        \n",
       "5119                                             341.00                                        \n",
       "\n",
       "      Estimated incidence of TB cases who are HIV-positive per 100 000 population, high bound  \\\n",
       "48                                                 0.23                                         \n",
       "49                                                 0.27                                         \n",
       "50                                                 0.32                                         \n",
       "51                                                 0.39                                         \n",
       "52                                                 0.50                                         \n",
       "...                                                 ...                                         \n",
       "5115                                             566.00                                         \n",
       "5116                                             545.00                                         \n",
       "5117                                             502.00                                         \n",
       "5118                                             471.00                                         \n",
       "5119                                             464.00                                         \n",
       "\n",
       "     Estimated incidence of TB cases who are HIV-positive  \\\n",
       "48                                                 11.0     \n",
       "49                                                 13.0     \n",
       "50                                                 16.0     \n",
       "51                                                 19.0     \n",
       "52                                                 24.0     \n",
       "...                                                 ...     \n",
       "5115                                            66000.0     \n",
       "5116                                            64000.0     \n",
       "5117                                            60000.0     \n",
       "5118                                            56000.0     \n",
       "5119                                            56000.0     \n",
       "\n",
       "      Estimated incidence of TB cases who are HIV-positive, low bound  \\\n",
       "48                                                  9.0                 \n",
       "49                                                 12.0                 \n",
       "50                                                 15.0                 \n",
       "51                                                 18.0                 \n",
       "52                                                 23.0                 \n",
       "...                                                 ...                 \n",
       "5115                                            59000.0                 \n",
       "5116                                            57000.0                 \n",
       "5117                                            54000.0                 \n",
       "5118                                            50000.0                 \n",
       "5119                                            48000.0                 \n",
       "\n",
       "      Estimated incidence of TB cases who are HIV-positive, high bound  \\\n",
       "48                                                 61.0                  \n",
       "49                                                 73.0                  \n",
       "50                                                 89.0                  \n",
       "51                                                110.0                  \n",
       "52                                                140.0                  \n",
       "...                                                 ...                  \n",
       "5115                                            73000.0                  \n",
       "5116                                            71000.0                  \n",
       "5117                                            67000.0                  \n",
       "5118                                            65000.0                  \n",
       "5119                                            66000.0                  \n",
       "\n",
       "      Method to derive TBHIV estimates  \\\n",
       "48                                 NaN   \n",
       "49                                 NaN   \n",
       "50                                 NaN   \n",
       "51                                 NaN   \n",
       "52                                 NaN   \n",
       "...                                ...   \n",
       "5115                               NaN   \n",
       "5116                               NaN   \n",
       "5117                               NaN   \n",
       "5118                               NaN   \n",
       "5119                               NaN   \n",
       "\n",
       "      Case detection rate (all forms), percent  \\\n",
       "48                                        69.0   \n",
       "49                                        66.0   \n",
       "50                                        64.0   \n",
       "51                                        71.0   \n",
       "52                                        67.0   \n",
       "...                                        ...   \n",
       "5115                                      50.0   \n",
       "5116                                      53.0   \n",
       "5117                                      48.0   \n",
       "5118                                      45.0   \n",
       "5119                                      42.0   \n",
       "\n",
       "      Case detection rate (all forms), percent, low bound  \\\n",
       "48                                                 58.0     \n",
       "49                                                 57.0     \n",
       "50                                                 56.0     \n",
       "51                                                 63.0     \n",
       "52                                                 58.0     \n",
       "...                                                 ...     \n",
       "5115                                               45.0     \n",
       "5116                                               48.0     \n",
       "5117                                               43.0     \n",
       "5118                                               40.0     \n",
       "5119                                               36.0     \n",
       "\n",
       "      Case detection rate (all forms), percent, high bound  \n",
       "48                                                 83.0     \n",
       "49                                                 74.0     \n",
       "50                                                 71.0     \n",
       "51                                                 80.0     \n",
       "52                                                 77.0     \n",
       "...                                                 ...     \n",
       "5115                                               54.0     \n",
       "5116                                               59.0     \n",
       "5117                                               53.0     \n",
       "5118                                               52.0     \n",
       "5119                                               49.0     \n",
       "\n",
       "[1107 rows x 47 columns]"
      ]
     },
     "execution_count": 35,
     "metadata": {},
     "output_type": "execute_result"
    }
   ],
   "source": [
    "data2 = data.loc[(data['Region']== 'AFR')]\n",
    "data2"
   ]
  },
  {
   "cell_type": "code",
   "execution_count": 36,
   "id": "60ce2093-9563-4f07-bfd9-f3adfd938972",
   "metadata": {},
   "outputs": [
    {
     "name": "stdout",
     "output_type": "stream",
     "text": [
      "<class 'pandas.core.frame.DataFrame'>\n",
      "Index: 1107 entries, 48 to 5119\n",
      "Data columns (total 47 columns):\n",
      " #   Column                                                                                          Non-Null Count  Dtype  \n",
      "---  ------                                                                                          --------------  -----  \n",
      " 0   Country or territory name                                                                       1107 non-null   object \n",
      " 1   ISO 2-character country/territory code                                                          1083 non-null   object \n",
      " 2   ISO 3-character country/territory code                                                          1107 non-null   object \n",
      " 3   ISO numeric country/territory code                                                              1107 non-null   int64  \n",
      " 4   Region                                                                                          1107 non-null   object \n",
      " 5   Year                                                                                            1107 non-null   int64  \n",
      " 6   Estimated total population number                                                               1107 non-null   int64  \n",
      " 7   Estimated prevalence of TB (all forms) per 100 000 population                                   1107 non-null   float64\n",
      " 8   Estimated prevalence of TB (all forms) per 100 000 population, low bound                        1107 non-null   float64\n",
      " 9   Estimated prevalence of TB (all forms) per 100 000 population, high bound                       1107 non-null   float64\n",
      " 10  Estimated prevalence of TB (all forms)                                                          1107 non-null   float64\n",
      " 11  Estimated prevalence of TB (all forms), low bound                                               1107 non-null   float64\n",
      " 12  Estimated prevalence of TB (all forms), high bound                                              1107 non-null   float64\n",
      " 13  Method to derive prevalence estimates                                                           1107 non-null   object \n",
      " 14  Estimated mortality of TB cases (all forms, excluding HIV) per 100 000 population               1107 non-null   float64\n",
      " 15  Estimated mortality of TB cases (all forms, excluding HIV), per 100 000 population, low bound   1107 non-null   float64\n",
      " 16  Estimated mortality of TB cases (all forms, excluding HIV), per 100 000 population, high bound  1107 non-null   float64\n",
      " 17  Estimated number of deaths from TB (all forms, excluding HIV)                                   1107 non-null   float64\n",
      " 18  Estimated number of deaths from TB (all forms, excluding HIV), low bound                        1107 non-null   float64\n",
      " 19  Estimated number of deaths from TB (all forms, excluding HIV), high bound                       1107 non-null   float64\n",
      " 20  Estimated mortality of TB cases who are HIV-positive, per 100 000 population                    1107 non-null   float64\n",
      " 21  Estimated mortality of TB cases who are HIV-positive, per 100 000 population, low bound         1055 non-null   float64\n",
      " 22  Estimated mortality of TB cases who are HIV-positive, per 100 000 population, high bound        1055 non-null   float64\n",
      " 23  Estimated number of deaths from TB in people who are HIV-positive                               1107 non-null   float64\n",
      " 24  Estimated number of deaths from TB in people who are HIV-positive, low bound                    1055 non-null   float64\n",
      " 25  Estimated number of deaths from TB in people who are HIV-positive, high bound                   1055 non-null   float64\n",
      " 26  Method to derive mortality estimates                                                            1107 non-null   object \n",
      " 27  Estimated incidence (all forms) per 100 000 population                                          1107 non-null   float64\n",
      " 28  Estimated incidence (all forms) per 100 000 population, low bound                               1107 non-null   float64\n",
      " 29  Estimated incidence (all forms) per 100 000 population, high bound                              1107 non-null   float64\n",
      " 30  Estimated number of incident cases (all forms)                                                  1107 non-null   float64\n",
      " 31  Estimated number of incident cases (all forms), low bound                                       1107 non-null   float64\n",
      " 32  Estimated number of incident cases (all forms), high bound                                      1107 non-null   float64\n",
      " 33  Method to derive incidence estimates                                                            507 non-null    object \n",
      " 34  Estimated HIV in incident TB (percent)                                                          1059 non-null   float64\n",
      " 35  Estimated HIV in incident TB (percent), low bound                                               1059 non-null   float64\n",
      " 36  Estimated HIV in incident TB (percent), high bound                                              1059 non-null   float64\n",
      " 37  Estimated incidence of TB cases who are HIV-positive per 100 000 population                     1059 non-null   float64\n",
      " 38  Estimated incidence of TB cases who are HIV-positive per 100 000 population, low bound          1059 non-null   float64\n",
      " 39  Estimated incidence of TB cases who are HIV-positive per 100 000 population, high bound         1059 non-null   float64\n",
      " 40  Estimated incidence of TB cases who are HIV-positive                                            1059 non-null   float64\n",
      " 41  Estimated incidence of TB cases who are HIV-positive, low bound                                 1059 non-null   float64\n",
      " 42  Estimated incidence of TB cases who are HIV-positive, high bound                                1059 non-null   float64\n",
      " 43  Method to derive TBHIV estimates                                                                0 non-null      float64\n",
      " 44  Case detection rate (all forms), percent                                                        1035 non-null   float64\n",
      " 45  Case detection rate (all forms), percent, low bound                                             1035 non-null   float64\n",
      " 46  Case detection rate (all forms), percent, high bound                                            1035 non-null   float64\n",
      "dtypes: float64(37), int64(3), object(7)\n",
      "memory usage: 415.1+ KB\n"
     ]
    }
   ],
   "source": [
    "data2.info()"
   ]
  },
  {
   "cell_type": "code",
   "execution_count": 37,
   "id": "ba5f7ace-d83c-4fe7-a8c9-e25861bd2f26",
   "metadata": {},
   "outputs": [
    {
     "data": {
      "text/plain": [
       "Index(['Country or territory name', 'ISO 2-character country/territory code',\n",
       "       'ISO 3-character country/territory code',\n",
       "       'ISO numeric country/territory code', 'Region', 'Year',\n",
       "       'Estimated total population number',\n",
       "       'Estimated prevalence of TB (all forms) per 100 000 population',\n",
       "       'Estimated prevalence of TB (all forms) per 100 000 population, low bound',\n",
       "       'Estimated prevalence of TB (all forms) per 100 000 population, high bound',\n",
       "       'Estimated prevalence of TB (all forms)',\n",
       "       'Estimated prevalence of TB (all forms), low bound',\n",
       "       'Estimated prevalence of TB (all forms), high bound',\n",
       "       'Method to derive prevalence estimates',\n",
       "       'Estimated mortality of TB cases (all forms, excluding HIV) per 100 000 population',\n",
       "       'Estimated mortality of TB cases (all forms, excluding HIV), per 100 000 population, low bound',\n",
       "       'Estimated mortality of TB cases (all forms, excluding HIV), per 100 000 population, high bound',\n",
       "       'Estimated number of deaths from TB (all forms, excluding HIV)',\n",
       "       'Estimated number of deaths from TB (all forms, excluding HIV), low bound',\n",
       "       'Estimated number of deaths from TB (all forms, excluding HIV), high bound',\n",
       "       'Estimated mortality of TB cases who are HIV-positive, per 100 000 population',\n",
       "       'Estimated mortality of TB cases who are HIV-positive, per 100 000 population, low bound',\n",
       "       'Estimated mortality of TB cases who are HIV-positive, per 100 000 population, high bound',\n",
       "       'Estimated number of deaths from TB in people who are HIV-positive',\n",
       "       'Estimated number of deaths from TB in people who are HIV-positive, low bound',\n",
       "       'Estimated number of deaths from TB in people who are HIV-positive, high bound',\n",
       "       'Method to derive mortality estimates',\n",
       "       'Estimated incidence (all forms) per 100 000 population',\n",
       "       'Estimated incidence (all forms) per 100 000 population, low bound',\n",
       "       'Estimated incidence (all forms) per 100 000 population, high bound',\n",
       "       'Estimated number of incident cases (all forms)',\n",
       "       'Estimated number of incident cases (all forms), low bound',\n",
       "       'Estimated number of incident cases (all forms), high bound',\n",
       "       'Method to derive incidence estimates',\n",
       "       'Estimated HIV in incident TB (percent)',\n",
       "       'Estimated HIV in incident TB (percent), low bound',\n",
       "       'Estimated HIV in incident TB (percent), high bound',\n",
       "       'Estimated incidence of TB cases who are HIV-positive per 100 000 population',\n",
       "       'Estimated incidence of TB cases who are HIV-positive per 100 000 population, low bound',\n",
       "       'Estimated incidence of TB cases who are HIV-positive per 100 000 population, high bound',\n",
       "       'Estimated incidence of TB cases who are HIV-positive',\n",
       "       'Estimated incidence of TB cases who are HIV-positive, low bound',\n",
       "       'Estimated incidence of TB cases who are HIV-positive, high bound',\n",
       "       'Method to derive TBHIV estimates',\n",
       "       'Case detection rate (all forms), percent',\n",
       "       'Case detection rate (all forms), percent, low bound',\n",
       "       'Case detection rate (all forms), percent, high bound'],\n",
       "      dtype='object')"
      ]
     },
     "execution_count": 37,
     "metadata": {},
     "output_type": "execute_result"
    }
   ],
   "source": [
    "data2.columns"
   ]
  },
  {
   "cell_type": "code",
   "execution_count": 40,
   "id": "c7f1140f-84ea-4b9e-a144-efe256bf961d",
   "metadata": {},
   "outputs": [
    {
     "data": {
      "text/plain": [
       "Index(['Algeria', 'Rwanda', 'Madagascar', 'Malawi', 'Mali', 'Mauritania',\n",
       "       'Mauritius', 'Mozambique', 'Namibia', 'Niger', 'Nigeria',\n",
       "       'Sao Tome and Principe', 'Angola', 'Senegal', 'Seychelles',\n",
       "       'Sierra Leone', 'South Africa', 'Swaziland', 'Togo', 'Uganda',\n",
       "       'United Republic of Tanzania', 'Zambia', 'Liberia', 'Lesotho', 'Kenya',\n",
       "       'Guinea-Bissau', 'Benin', 'Botswana', 'Burkina Faso', 'Burundi',\n",
       "       'Cabo Verde', 'Cameroon', 'Central African Republic', 'Chad', 'Comoros',\n",
       "       'Congo', 'Côte d'Ivoire', 'Democratic Republic of the Congo',\n",
       "       'Equatorial Guinea', 'Eritrea', 'Ethiopia', 'Gabon', 'Gambia', 'Ghana',\n",
       "       'Guinea', 'Zimbabwe', 'South Sudan'],\n",
       "      dtype='object', name='Country or territory name')"
      ]
     },
     "execution_count": 40,
     "metadata": {},
     "output_type": "execute_result"
    }
   ],
   "source": [
    "countries = data2['Country or territory name'].value_counts()\n",
    "countries.index"
   ]
  },
  {
   "cell_type": "code",
   "execution_count": 41,
   "id": "806666c1-318b-40f3-b6ea-cf0dda8ebbd9",
   "metadata": {},
   "outputs": [
    {
     "name": "stdout",
     "output_type": "stream",
     "text": [
      "Terdapat 47 negara pada Region \"AFR\"\n"
     ]
    }
   ],
   "source": [
    "count_countries = countries.index.to_list()\n",
    "print(f'Terdapat {len(count_countries)} negara pada Region \"AFR\"')"
   ]
  },
  {
   "cell_type": "markdown",
   "id": "1ceeae55-9806-49f0-8d75-cb0e8ac947da",
   "metadata": {},
   "source": [
    "### Memilih Kolom-kolom Yang Diperlukan\n",
    "Topik dashboard data adalah menunjukkan tidak hanya tuberculosis data analytics tetapi juga membandingkan tuberculosis dengan adanya HIV. Adapun beberapa kolom yang dipilih sesuai tujuan tersebut.\n",
    "- `Country or territory name` dan `Estimated total population number` : informasi demografis\n",
    "- `Year` : informasi waktu\n",
    "- `Estimated prevalence of TB (all forms)` dan `Estimated number of incident cases (all forms)` : estimasi prevalensi dan jumlah kasus tuberculosis\n",
    "- `Estimated mortality of TB cases` (excluding and including HIV) : estimasi angka kematian tiap 100 ribu penduduk akibat tuberculosis (untuk lihat mortality rate ?)\n",
    "- `Estimated number of deaths from TB` (excluding and including HIV) : estimasi jumlah kematian penduduk akibat tuberculosis\n",
    "- `Estimated incidence of TB cases who are HIV-positive` : estimasi jumlah penduduk tuberculosis yang positif HIV"
   ]
  },
  {
   "cell_type": "code",
   "execution_count": 217,
   "id": "dce2205a-b120-484d-927c-2691de06d8a7",
   "metadata": {},
   "outputs": [
    {
     "data": {
      "text/html": [
       "<div>\n",
       "<style scoped>\n",
       "    .dataframe tbody tr th:only-of-type {\n",
       "        vertical-align: middle;\n",
       "    }\n",
       "\n",
       "    .dataframe tbody tr th {\n",
       "        vertical-align: top;\n",
       "    }\n",
       "\n",
       "    .dataframe thead th {\n",
       "        text-align: right;\n",
       "    }\n",
       "</style>\n",
       "<table border=\"1\" class=\"dataframe\">\n",
       "  <thead>\n",
       "    <tr style=\"text-align: right;\">\n",
       "      <th></th>\n",
       "      <th>Country or territory name</th>\n",
       "      <th>Year</th>\n",
       "      <th>Estimated total population number</th>\n",
       "      <th>Estimated prevalence of TB (all forms)</th>\n",
       "      <th>Estimated number of incident cases (all forms)</th>\n",
       "      <th>Estimated mortality of TB cases (all forms, excluding HIV) per 100 000 population</th>\n",
       "      <th>Estimated mortality of TB cases who are HIV-positive, per 100 000 population</th>\n",
       "      <th>Estimated number of deaths from TB (all forms, excluding HIV)</th>\n",
       "      <th>Estimated number of deaths from TB in people who are HIV-positive</th>\n",
       "      <th>Estimated incidence of TB cases who are HIV-positive</th>\n",
       "    </tr>\n",
       "  </thead>\n",
       "  <tbody>\n",
       "    <tr>\n",
       "      <th>48</th>\n",
       "      <td>Algeria</td>\n",
       "      <td>1990</td>\n",
       "      <td>26239708</td>\n",
       "      <td>26000.0</td>\n",
       "      <td>17000.0</td>\n",
       "      <td>11.0</td>\n",
       "      <td>0.01</td>\n",
       "      <td>2800.0</td>\n",
       "      <td>3.0</td>\n",
       "      <td>11.0</td>\n",
       "    </tr>\n",
       "    <tr>\n",
       "      <th>49</th>\n",
       "      <td>Algeria</td>\n",
       "      <td>1991</td>\n",
       "      <td>26893663</td>\n",
       "      <td>27000.0</td>\n",
       "      <td>17000.0</td>\n",
       "      <td>10.0</td>\n",
       "      <td>0.01</td>\n",
       "      <td>2700.0</td>\n",
       "      <td>4.0</td>\n",
       "      <td>13.0</td>\n",
       "    </tr>\n",
       "    <tr>\n",
       "      <th>50</th>\n",
       "      <td>Algeria</td>\n",
       "      <td>1992</td>\n",
       "      <td>27535151</td>\n",
       "      <td>27000.0</td>\n",
       "      <td>18000.0</td>\n",
       "      <td>10.0</td>\n",
       "      <td>0.02</td>\n",
       "      <td>2800.0</td>\n",
       "      <td>5.0</td>\n",
       "      <td>16.0</td>\n",
       "    </tr>\n",
       "    <tr>\n",
       "      <th>51</th>\n",
       "      <td>Algeria</td>\n",
       "      <td>1993</td>\n",
       "      <td>28157560</td>\n",
       "      <td>29000.0</td>\n",
       "      <td>19000.0</td>\n",
       "      <td>10.0</td>\n",
       "      <td>0.02</td>\n",
       "      <td>2900.0</td>\n",
       "      <td>6.0</td>\n",
       "      <td>19.0</td>\n",
       "    </tr>\n",
       "    <tr>\n",
       "      <th>52</th>\n",
       "      <td>Algeria</td>\n",
       "      <td>1994</td>\n",
       "      <td>28752749</td>\n",
       "      <td>31000.0</td>\n",
       "      <td>20000.0</td>\n",
       "      <td>11.0</td>\n",
       "      <td>0.02</td>\n",
       "      <td>3100.0</td>\n",
       "      <td>7.0</td>\n",
       "      <td>24.0</td>\n",
       "    </tr>\n",
       "    <tr>\n",
       "      <th>...</th>\n",
       "      <td>...</td>\n",
       "      <td>...</td>\n",
       "      <td>...</td>\n",
       "      <td>...</td>\n",
       "      <td>...</td>\n",
       "      <td>...</td>\n",
       "      <td>...</td>\n",
       "      <td>...</td>\n",
       "      <td>...</td>\n",
       "      <td>...</td>\n",
       "    </tr>\n",
       "    <tr>\n",
       "      <th>5115</th>\n",
       "      <td>Zimbabwe</td>\n",
       "      <td>2009</td>\n",
       "      <td>12888918</td>\n",
       "      <td>58000.0</td>\n",
       "      <td>87000.0</td>\n",
       "      <td>39.0</td>\n",
       "      <td>206.00</td>\n",
       "      <td>5000.0</td>\n",
       "      <td>27000.0</td>\n",
       "      <td>66000.0</td>\n",
       "    </tr>\n",
       "    <tr>\n",
       "      <th>5116</th>\n",
       "      <td>Zimbabwe</td>\n",
       "      <td>2010</td>\n",
       "      <td>13076978</td>\n",
       "      <td>54000.0</td>\n",
       "      <td>83000.0</td>\n",
       "      <td>36.0</td>\n",
       "      <td>196.00</td>\n",
       "      <td>4700.0</td>\n",
       "      <td>26000.0</td>\n",
       "      <td>64000.0</td>\n",
       "    </tr>\n",
       "    <tr>\n",
       "      <th>5117</th>\n",
       "      <td>Zimbabwe</td>\n",
       "      <td>2011</td>\n",
       "      <td>13358738</td>\n",
       "      <td>56000.0</td>\n",
       "      <td>80000.0</td>\n",
       "      <td>38.0</td>\n",
       "      <td>176.00</td>\n",
       "      <td>5100.0</td>\n",
       "      <td>24000.0</td>\n",
       "      <td>60000.0</td>\n",
       "    </tr>\n",
       "    <tr>\n",
       "      <th>5118</th>\n",
       "      <td>Zimbabwe</td>\n",
       "      <td>2012</td>\n",
       "      <td>13724317</td>\n",
       "      <td>58000.0</td>\n",
       "      <td>79000.0</td>\n",
       "      <td>41.0</td>\n",
       "      <td>160.00</td>\n",
       "      <td>5600.0</td>\n",
       "      <td>22000.0</td>\n",
       "      <td>56000.0</td>\n",
       "    </tr>\n",
       "    <tr>\n",
       "      <th>5119</th>\n",
       "      <td>Zimbabwe</td>\n",
       "      <td>2013</td>\n",
       "      <td>14149648</td>\n",
       "      <td>58000.0</td>\n",
       "      <td>78000.0</td>\n",
       "      <td>40.0</td>\n",
       "      <td>153.00</td>\n",
       "      <td>5700.0</td>\n",
       "      <td>22000.0</td>\n",
       "      <td>56000.0</td>\n",
       "    </tr>\n",
       "  </tbody>\n",
       "</table>\n",
       "<p>1107 rows × 10 columns</p>\n",
       "</div>"
      ],
      "text/plain": [
       "     Country or territory name  Year  Estimated total population number  \\\n",
       "48                     Algeria  1990                           26239708   \n",
       "49                     Algeria  1991                           26893663   \n",
       "50                     Algeria  1992                           27535151   \n",
       "51                     Algeria  1993                           28157560   \n",
       "52                     Algeria  1994                           28752749   \n",
       "...                        ...   ...                                ...   \n",
       "5115                  Zimbabwe  2009                           12888918   \n",
       "5116                  Zimbabwe  2010                           13076978   \n",
       "5117                  Zimbabwe  2011                           13358738   \n",
       "5118                  Zimbabwe  2012                           13724317   \n",
       "5119                  Zimbabwe  2013                           14149648   \n",
       "\n",
       "      Estimated prevalence of TB (all forms)  \\\n",
       "48                                   26000.0   \n",
       "49                                   27000.0   \n",
       "50                                   27000.0   \n",
       "51                                   29000.0   \n",
       "52                                   31000.0   \n",
       "...                                      ...   \n",
       "5115                                 58000.0   \n",
       "5116                                 54000.0   \n",
       "5117                                 56000.0   \n",
       "5118                                 58000.0   \n",
       "5119                                 58000.0   \n",
       "\n",
       "      Estimated number of incident cases (all forms)  \\\n",
       "48                                           17000.0   \n",
       "49                                           17000.0   \n",
       "50                                           18000.0   \n",
       "51                                           19000.0   \n",
       "52                                           20000.0   \n",
       "...                                              ...   \n",
       "5115                                         87000.0   \n",
       "5116                                         83000.0   \n",
       "5117                                         80000.0   \n",
       "5118                                         79000.0   \n",
       "5119                                         78000.0   \n",
       "\n",
       "      Estimated mortality of TB cases (all forms, excluding HIV) per 100 000 population  \\\n",
       "48                                                 11.0                                   \n",
       "49                                                 10.0                                   \n",
       "50                                                 10.0                                   \n",
       "51                                                 10.0                                   \n",
       "52                                                 11.0                                   \n",
       "...                                                 ...                                   \n",
       "5115                                               39.0                                   \n",
       "5116                                               36.0                                   \n",
       "5117                                               38.0                                   \n",
       "5118                                               41.0                                   \n",
       "5119                                               40.0                                   \n",
       "\n",
       "      Estimated mortality of TB cases who are HIV-positive, per 100 000 population  \\\n",
       "48                                                 0.01                              \n",
       "49                                                 0.01                              \n",
       "50                                                 0.02                              \n",
       "51                                                 0.02                              \n",
       "52                                                 0.02                              \n",
       "...                                                 ...                              \n",
       "5115                                             206.00                              \n",
       "5116                                             196.00                              \n",
       "5117                                             176.00                              \n",
       "5118                                             160.00                              \n",
       "5119                                             153.00                              \n",
       "\n",
       "      Estimated number of deaths from TB (all forms, excluding HIV)  \\\n",
       "48                                               2800.0               \n",
       "49                                               2700.0               \n",
       "50                                               2800.0               \n",
       "51                                               2900.0               \n",
       "52                                               3100.0               \n",
       "...                                                 ...               \n",
       "5115                                             5000.0               \n",
       "5116                                             4700.0               \n",
       "5117                                             5100.0               \n",
       "5118                                             5600.0               \n",
       "5119                                             5700.0               \n",
       "\n",
       "      Estimated number of deaths from TB in people who are HIV-positive  \\\n",
       "48                                                  3.0                   \n",
       "49                                                  4.0                   \n",
       "50                                                  5.0                   \n",
       "51                                                  6.0                   \n",
       "52                                                  7.0                   \n",
       "...                                                 ...                   \n",
       "5115                                            27000.0                   \n",
       "5116                                            26000.0                   \n",
       "5117                                            24000.0                   \n",
       "5118                                            22000.0                   \n",
       "5119                                            22000.0                   \n",
       "\n",
       "      Estimated incidence of TB cases who are HIV-positive  \n",
       "48                                                 11.0     \n",
       "49                                                 13.0     \n",
       "50                                                 16.0     \n",
       "51                                                 19.0     \n",
       "52                                                 24.0     \n",
       "...                                                 ...     \n",
       "5115                                            66000.0     \n",
       "5116                                            64000.0     \n",
       "5117                                            60000.0     \n",
       "5118                                            56000.0     \n",
       "5119                                            56000.0     \n",
       "\n",
       "[1107 rows x 10 columns]"
      ]
     },
     "execution_count": 217,
     "metadata": {},
     "output_type": "execute_result"
    }
   ],
   "source": [
    "df = data2[['Country or territory name', 'Year',\n",
    "           'Estimated total population number',\n",
    "           'Estimated prevalence of TB (all forms)',\n",
    "            'Estimated number of incident cases (all forms)',\n",
    "            'Estimated mortality of TB cases (all forms, excluding HIV) per 100 000 population',\n",
    "            'Estimated mortality of TB cases who are HIV-positive, per 100 000 population',\n",
    "            'Estimated number of deaths from TB (all forms, excluding HIV)',\n",
    "            'Estimated number of deaths from TB in people who are HIV-positive',\n",
    "            'Estimated incidence of TB cases who are HIV-positive']]\n",
    "df"
   ]
  },
  {
   "cell_type": "markdown",
   "id": "2ee9b7c1-fe97-4a3b-a7b4-fe9eea326854",
   "metadata": {},
   "source": [
    "### Mengganti nama kolom untuk memudahkan pembacaan data"
   ]
  },
  {
   "cell_type": "code",
   "execution_count": 219,
   "id": "9f96c5a6-1002-44cf-a177-93ec6608e6b4",
   "metadata": {},
   "outputs": [
    {
     "data": {
      "text/html": [
       "<div>\n",
       "<style scoped>\n",
       "    .dataframe tbody tr th:only-of-type {\n",
       "        vertical-align: middle;\n",
       "    }\n",
       "\n",
       "    .dataframe tbody tr th {\n",
       "        vertical-align: top;\n",
       "    }\n",
       "\n",
       "    .dataframe thead th {\n",
       "        text-align: right;\n",
       "    }\n",
       "</style>\n",
       "<table border=\"1\" class=\"dataframe\">\n",
       "  <thead>\n",
       "    <tr style=\"text-align: right;\">\n",
       "      <th></th>\n",
       "      <th>country</th>\n",
       "      <th>year</th>\n",
       "      <th>estimated_population</th>\n",
       "      <th>tb_prevalence</th>\n",
       "      <th>tb_incident</th>\n",
       "      <th>tb_mortality</th>\n",
       "      <th>tb_hiv_mortality</th>\n",
       "      <th>tb_deaths</th>\n",
       "      <th>tb_hiv_deaths</th>\n",
       "      <th>tb_hiv_positive</th>\n",
       "    </tr>\n",
       "  </thead>\n",
       "  <tbody>\n",
       "    <tr>\n",
       "      <th>48</th>\n",
       "      <td>Algeria</td>\n",
       "      <td>1990</td>\n",
       "      <td>26239708</td>\n",
       "      <td>26000.0</td>\n",
       "      <td>17000.0</td>\n",
       "      <td>11.0</td>\n",
       "      <td>0.01</td>\n",
       "      <td>2800.0</td>\n",
       "      <td>3.0</td>\n",
       "      <td>11.0</td>\n",
       "    </tr>\n",
       "    <tr>\n",
       "      <th>49</th>\n",
       "      <td>Algeria</td>\n",
       "      <td>1991</td>\n",
       "      <td>26893663</td>\n",
       "      <td>27000.0</td>\n",
       "      <td>17000.0</td>\n",
       "      <td>10.0</td>\n",
       "      <td>0.01</td>\n",
       "      <td>2700.0</td>\n",
       "      <td>4.0</td>\n",
       "      <td>13.0</td>\n",
       "    </tr>\n",
       "    <tr>\n",
       "      <th>50</th>\n",
       "      <td>Algeria</td>\n",
       "      <td>1992</td>\n",
       "      <td>27535151</td>\n",
       "      <td>27000.0</td>\n",
       "      <td>18000.0</td>\n",
       "      <td>10.0</td>\n",
       "      <td>0.02</td>\n",
       "      <td>2800.0</td>\n",
       "      <td>5.0</td>\n",
       "      <td>16.0</td>\n",
       "    </tr>\n",
       "    <tr>\n",
       "      <th>51</th>\n",
       "      <td>Algeria</td>\n",
       "      <td>1993</td>\n",
       "      <td>28157560</td>\n",
       "      <td>29000.0</td>\n",
       "      <td>19000.0</td>\n",
       "      <td>10.0</td>\n",
       "      <td>0.02</td>\n",
       "      <td>2900.0</td>\n",
       "      <td>6.0</td>\n",
       "      <td>19.0</td>\n",
       "    </tr>\n",
       "    <tr>\n",
       "      <th>52</th>\n",
       "      <td>Algeria</td>\n",
       "      <td>1994</td>\n",
       "      <td>28752749</td>\n",
       "      <td>31000.0</td>\n",
       "      <td>20000.0</td>\n",
       "      <td>11.0</td>\n",
       "      <td>0.02</td>\n",
       "      <td>3100.0</td>\n",
       "      <td>7.0</td>\n",
       "      <td>24.0</td>\n",
       "    </tr>\n",
       "    <tr>\n",
       "      <th>...</th>\n",
       "      <td>...</td>\n",
       "      <td>...</td>\n",
       "      <td>...</td>\n",
       "      <td>...</td>\n",
       "      <td>...</td>\n",
       "      <td>...</td>\n",
       "      <td>...</td>\n",
       "      <td>...</td>\n",
       "      <td>...</td>\n",
       "      <td>...</td>\n",
       "    </tr>\n",
       "    <tr>\n",
       "      <th>5115</th>\n",
       "      <td>Zimbabwe</td>\n",
       "      <td>2009</td>\n",
       "      <td>12888918</td>\n",
       "      <td>58000.0</td>\n",
       "      <td>87000.0</td>\n",
       "      <td>39.0</td>\n",
       "      <td>206.00</td>\n",
       "      <td>5000.0</td>\n",
       "      <td>27000.0</td>\n",
       "      <td>66000.0</td>\n",
       "    </tr>\n",
       "    <tr>\n",
       "      <th>5116</th>\n",
       "      <td>Zimbabwe</td>\n",
       "      <td>2010</td>\n",
       "      <td>13076978</td>\n",
       "      <td>54000.0</td>\n",
       "      <td>83000.0</td>\n",
       "      <td>36.0</td>\n",
       "      <td>196.00</td>\n",
       "      <td>4700.0</td>\n",
       "      <td>26000.0</td>\n",
       "      <td>64000.0</td>\n",
       "    </tr>\n",
       "    <tr>\n",
       "      <th>5117</th>\n",
       "      <td>Zimbabwe</td>\n",
       "      <td>2011</td>\n",
       "      <td>13358738</td>\n",
       "      <td>56000.0</td>\n",
       "      <td>80000.0</td>\n",
       "      <td>38.0</td>\n",
       "      <td>176.00</td>\n",
       "      <td>5100.0</td>\n",
       "      <td>24000.0</td>\n",
       "      <td>60000.0</td>\n",
       "    </tr>\n",
       "    <tr>\n",
       "      <th>5118</th>\n",
       "      <td>Zimbabwe</td>\n",
       "      <td>2012</td>\n",
       "      <td>13724317</td>\n",
       "      <td>58000.0</td>\n",
       "      <td>79000.0</td>\n",
       "      <td>41.0</td>\n",
       "      <td>160.00</td>\n",
       "      <td>5600.0</td>\n",
       "      <td>22000.0</td>\n",
       "      <td>56000.0</td>\n",
       "    </tr>\n",
       "    <tr>\n",
       "      <th>5119</th>\n",
       "      <td>Zimbabwe</td>\n",
       "      <td>2013</td>\n",
       "      <td>14149648</td>\n",
       "      <td>58000.0</td>\n",
       "      <td>78000.0</td>\n",
       "      <td>40.0</td>\n",
       "      <td>153.00</td>\n",
       "      <td>5700.0</td>\n",
       "      <td>22000.0</td>\n",
       "      <td>56000.0</td>\n",
       "    </tr>\n",
       "  </tbody>\n",
       "</table>\n",
       "<p>1107 rows × 10 columns</p>\n",
       "</div>"
      ],
      "text/plain": [
       "       country  year  estimated_population  tb_prevalence  tb_incident  \\\n",
       "48     Algeria  1990              26239708        26000.0      17000.0   \n",
       "49     Algeria  1991              26893663        27000.0      17000.0   \n",
       "50     Algeria  1992              27535151        27000.0      18000.0   \n",
       "51     Algeria  1993              28157560        29000.0      19000.0   \n",
       "52     Algeria  1994              28752749        31000.0      20000.0   \n",
       "...        ...   ...                   ...            ...          ...   \n",
       "5115  Zimbabwe  2009              12888918        58000.0      87000.0   \n",
       "5116  Zimbabwe  2010              13076978        54000.0      83000.0   \n",
       "5117  Zimbabwe  2011              13358738        56000.0      80000.0   \n",
       "5118  Zimbabwe  2012              13724317        58000.0      79000.0   \n",
       "5119  Zimbabwe  2013              14149648        58000.0      78000.0   \n",
       "\n",
       "      tb_mortality  tb_hiv_mortality  tb_deaths  tb_hiv_deaths  \\\n",
       "48            11.0              0.01     2800.0            3.0   \n",
       "49            10.0              0.01     2700.0            4.0   \n",
       "50            10.0              0.02     2800.0            5.0   \n",
       "51            10.0              0.02     2900.0            6.0   \n",
       "52            11.0              0.02     3100.0            7.0   \n",
       "...            ...               ...        ...            ...   \n",
       "5115          39.0            206.00     5000.0        27000.0   \n",
       "5116          36.0            196.00     4700.0        26000.0   \n",
       "5117          38.0            176.00     5100.0        24000.0   \n",
       "5118          41.0            160.00     5600.0        22000.0   \n",
       "5119          40.0            153.00     5700.0        22000.0   \n",
       "\n",
       "      tb_hiv_positive  \n",
       "48               11.0  \n",
       "49               13.0  \n",
       "50               16.0  \n",
       "51               19.0  \n",
       "52               24.0  \n",
       "...               ...  \n",
       "5115          66000.0  \n",
       "5116          64000.0  \n",
       "5117          60000.0  \n",
       "5118          56000.0  \n",
       "5119          56000.0  \n",
       "\n",
       "[1107 rows x 10 columns]"
      ]
     },
     "execution_count": 219,
     "metadata": {},
     "output_type": "execute_result"
    }
   ],
   "source": [
    "new_columns = ['country', 'year',\n",
    "              'estimated_population',\n",
    "              'tb_prevalence',\n",
    "              'tb_incident',\n",
    "              'tb_mortality',\n",
    "              'tb_hiv_mortality',\n",
    "              'tb_deaths',\n",
    "              'tb_hiv_deaths',\n",
    "              'tb_hiv_positive']\n",
    "df.columns = new_columns\n",
    "df"
   ]
  },
  {
   "cell_type": "code",
   "execution_count": 220,
   "id": "619e7e6f-e1ac-4851-8287-19094fb58576",
   "metadata": {},
   "outputs": [
    {
     "name": "stdout",
     "output_type": "stream",
     "text": [
      "<class 'pandas.core.frame.DataFrame'>\n",
      "Index: 1107 entries, 48 to 5119\n",
      "Data columns (total 10 columns):\n",
      " #   Column                Non-Null Count  Dtype  \n",
      "---  ------                --------------  -----  \n",
      " 0   country               1107 non-null   object \n",
      " 1   year                  1107 non-null   int64  \n",
      " 2   estimated_population  1107 non-null   int64  \n",
      " 3   tb_prevalence         1107 non-null   float64\n",
      " 4   tb_incident           1107 non-null   float64\n",
      " 5   tb_mortality          1107 non-null   float64\n",
      " 6   tb_hiv_mortality      1107 non-null   float64\n",
      " 7   tb_deaths             1107 non-null   float64\n",
      " 8   tb_hiv_deaths         1107 non-null   float64\n",
      " 9   tb_hiv_positive       1059 non-null   float64\n",
      "dtypes: float64(7), int64(2), object(1)\n",
      "memory usage: 127.4+ KB\n"
     ]
    }
   ],
   "source": [
    "df.info()"
   ]
  },
  {
   "cell_type": "markdown",
   "id": "caf3cd00-1af8-432a-bb35-caa234d102eb",
   "metadata": {},
   "source": [
    "### Menelusuri Data Kategori"
   ]
  },
  {
   "cell_type": "code",
   "execution_count": 89,
   "id": "581d2f32-3af0-4865-8089-1adf27541349",
   "metadata": {},
   "outputs": [
    {
     "data": {
      "text/plain": [
       "['country']"
      ]
     },
     "execution_count": 89,
     "metadata": {},
     "output_type": "execute_result"
    }
   ],
   "source": [
    "categorical = df.select_dtypes(include=['object']).columns.tolist()\n",
    "categorical"
   ]
  },
  {
   "cell_type": "code",
   "execution_count": 90,
   "id": "5bbbc023-c8ba-42c4-9c2d-9b432d7ab0ff",
   "metadata": {},
   "outputs": [
    {
     "data": {
      "text/html": [
       "<div>\n",
       "<style scoped>\n",
       "    .dataframe tbody tr th:only-of-type {\n",
       "        vertical-align: middle;\n",
       "    }\n",
       "\n",
       "    .dataframe tbody tr th {\n",
       "        vertical-align: top;\n",
       "    }\n",
       "\n",
       "    .dataframe thead th {\n",
       "        text-align: right;\n",
       "    }\n",
       "</style>\n",
       "<table border=\"1\" class=\"dataframe\">\n",
       "  <thead>\n",
       "    <tr style=\"text-align: right;\">\n",
       "      <th></th>\n",
       "      <th>country</th>\n",
       "    </tr>\n",
       "  </thead>\n",
       "  <tbody>\n",
       "    <tr>\n",
       "      <th>count</th>\n",
       "      <td>1107</td>\n",
       "    </tr>\n",
       "    <tr>\n",
       "      <th>unique</th>\n",
       "      <td>47</td>\n",
       "    </tr>\n",
       "    <tr>\n",
       "      <th>top</th>\n",
       "      <td>Algeria</td>\n",
       "    </tr>\n",
       "    <tr>\n",
       "      <th>freq</th>\n",
       "      <td>24</td>\n",
       "    </tr>\n",
       "  </tbody>\n",
       "</table>\n",
       "</div>"
      ],
      "text/plain": [
       "        country\n",
       "count      1107\n",
       "unique       47\n",
       "top     Algeria\n",
       "freq         24"
      ]
     },
     "execution_count": 90,
     "metadata": {},
     "output_type": "execute_result"
    }
   ],
   "source": [
    "categorical = df[categorical]\n",
    "categorical.describe().round(2)"
   ]
  },
  {
   "cell_type": "markdown",
   "id": "be5a9465-983d-40bd-8cef-71dd12b87459",
   "metadata": {},
   "source": [
    "### Menelusuri Data Numerik"
   ]
  },
  {
   "cell_type": "code",
   "execution_count": 222,
   "id": "371e2af6-fd8f-48bb-a670-c1a33d5a5e6f",
   "metadata": {},
   "outputs": [
    {
     "data": {
      "text/plain": [
       "['year',\n",
       " 'estimated_population',\n",
       " 'tb_prevalence',\n",
       " 'tb_incident',\n",
       " 'tb_mortality',\n",
       " 'tb_hiv_mortality',\n",
       " 'tb_deaths',\n",
       " 'tb_hiv_deaths',\n",
       " 'tb_hiv_positive']"
      ]
     },
     "execution_count": 222,
     "metadata": {},
     "output_type": "execute_result"
    }
   ],
   "source": [
    "numerical = df.select_dtypes(exclude=['object']).columns.tolist()\n",
    "numerical"
   ]
  },
  {
   "cell_type": "code",
   "execution_count": 223,
   "id": "b3df13cd-e2a1-41e9-99bc-d04f2f8c8577",
   "metadata": {},
   "outputs": [
    {
     "data": {
      "text/html": [
       "<div>\n",
       "<style scoped>\n",
       "    .dataframe tbody tr th:only-of-type {\n",
       "        vertical-align: middle;\n",
       "    }\n",
       "\n",
       "    .dataframe tbody tr th {\n",
       "        vertical-align: top;\n",
       "    }\n",
       "\n",
       "    .dataframe thead th {\n",
       "        text-align: right;\n",
       "    }\n",
       "</style>\n",
       "<table border=\"1\" class=\"dataframe\">\n",
       "  <thead>\n",
       "    <tr style=\"text-align: right;\">\n",
       "      <th></th>\n",
       "      <th>year</th>\n",
       "      <th>estimated_population</th>\n",
       "      <th>tb_prevalence</th>\n",
       "      <th>tb_incident</th>\n",
       "      <th>tb_mortality</th>\n",
       "      <th>tb_hiv_mortality</th>\n",
       "      <th>tb_deaths</th>\n",
       "      <th>tb_hiv_deaths</th>\n",
       "      <th>tb_hiv_positive</th>\n",
       "    </tr>\n",
       "  </thead>\n",
       "  <tbody>\n",
       "    <tr>\n",
       "      <th>count</th>\n",
       "      <td>1107.00</td>\n",
       "      <td>1.107000e+03</td>\n",
       "      <td>1107.00</td>\n",
       "      <td>1107.00</td>\n",
       "      <td>1107.00</td>\n",
       "      <td>1107.00</td>\n",
       "      <td>1107.00</td>\n",
       "      <td>1107.00</td>\n",
       "      <td>1059.00</td>\n",
       "    </tr>\n",
       "    <tr>\n",
       "      <th>mean</th>\n",
       "      <td>2001.53</td>\n",
       "      <td>1.501545e+07</td>\n",
       "      <td>54216.22</td>\n",
       "      <td>47066.92</td>\n",
       "      <td>45.89</td>\n",
       "      <td>51.27</td>\n",
       "      <td>8388.47</td>\n",
       "      <td>6782.39</td>\n",
       "      <td>16550.72</td>\n",
       "    </tr>\n",
       "    <tr>\n",
       "      <th>std</th>\n",
       "      <td>6.94</td>\n",
       "      <td>2.306155e+07</td>\n",
       "      <td>89463.82</td>\n",
       "      <td>87144.45</td>\n",
       "      <td>39.98</td>\n",
       "      <td>86.76</td>\n",
       "      <td>20606.91</td>\n",
       "      <td>14624.01</td>\n",
       "      <td>36623.87</td>\n",
       "    </tr>\n",
       "    <tr>\n",
       "      <th>min</th>\n",
       "      <td>1990.00</td>\n",
       "      <td>6.947400e+04</td>\n",
       "      <td>13.00</td>\n",
       "      <td>5.80</td>\n",
       "      <td>0.00</td>\n",
       "      <td>0.00</td>\n",
       "      <td>0.00</td>\n",
       "      <td>0.00</td>\n",
       "      <td>0.80</td>\n",
       "    </tr>\n",
       "    <tr>\n",
       "      <th>25%</th>\n",
       "      <td>1996.00</td>\n",
       "      <td>1.873652e+06</td>\n",
       "      <td>8500.00</td>\n",
       "      <td>5900.00</td>\n",
       "      <td>18.00</td>\n",
       "      <td>3.50</td>\n",
       "      <td>830.00</td>\n",
       "      <td>150.00</td>\n",
       "      <td>610.00</td>\n",
       "    </tr>\n",
       "    <tr>\n",
       "      <th>50%</th>\n",
       "      <td>2002.00</td>\n",
       "      <td>8.301151e+06</td>\n",
       "      <td>22000.00</td>\n",
       "      <td>16000.00</td>\n",
       "      <td>36.00</td>\n",
       "      <td>12.00</td>\n",
       "      <td>2500.00</td>\n",
       "      <td>980.00</td>\n",
       "      <td>2500.00</td>\n",
       "    </tr>\n",
       "    <tr>\n",
       "      <th>75%</th>\n",
       "      <td>2008.00</td>\n",
       "      <td>1.648744e+07</td>\n",
       "      <td>55000.00</td>\n",
       "      <td>48500.00</td>\n",
       "      <td>63.50</td>\n",
       "      <td>52.00</td>\n",
       "      <td>6050.00</td>\n",
       "      <td>7000.00</td>\n",
       "      <td>17000.00</td>\n",
       "    </tr>\n",
       "    <tr>\n",
       "      <th>max</th>\n",
       "      <td>2013.00</td>\n",
       "      <td>1.736153e+08</td>\n",
       "      <td>570000.00</td>\n",
       "      <td>590000.00</td>\n",
       "      <td>278.00</td>\n",
       "      <td>481.00</td>\n",
       "      <td>160000.00</td>\n",
       "      <td>96000.00</td>\n",
       "      <td>320000.00</td>\n",
       "    </tr>\n",
       "  </tbody>\n",
       "</table>\n",
       "</div>"
      ],
      "text/plain": [
       "          year  estimated_population  tb_prevalence  tb_incident  \\\n",
       "count  1107.00          1.107000e+03        1107.00      1107.00   \n",
       "mean   2001.53          1.501545e+07       54216.22     47066.92   \n",
       "std       6.94          2.306155e+07       89463.82     87144.45   \n",
       "min    1990.00          6.947400e+04          13.00         5.80   \n",
       "25%    1996.00          1.873652e+06        8500.00      5900.00   \n",
       "50%    2002.00          8.301151e+06       22000.00     16000.00   \n",
       "75%    2008.00          1.648744e+07       55000.00     48500.00   \n",
       "max    2013.00          1.736153e+08      570000.00    590000.00   \n",
       "\n",
       "       tb_mortality  tb_hiv_mortality  tb_deaths  tb_hiv_deaths  \\\n",
       "count       1107.00           1107.00    1107.00        1107.00   \n",
       "mean          45.89             51.27    8388.47        6782.39   \n",
       "std           39.98             86.76   20606.91       14624.01   \n",
       "min            0.00              0.00       0.00           0.00   \n",
       "25%           18.00              3.50     830.00         150.00   \n",
       "50%           36.00             12.00    2500.00         980.00   \n",
       "75%           63.50             52.00    6050.00        7000.00   \n",
       "max          278.00            481.00  160000.00       96000.00   \n",
       "\n",
       "       tb_hiv_positive  \n",
       "count          1059.00  \n",
       "mean          16550.72  \n",
       "std           36623.87  \n",
       "min               0.80  \n",
       "25%             610.00  \n",
       "50%            2500.00  \n",
       "75%           17000.00  \n",
       "max          320000.00  "
      ]
     },
     "execution_count": 223,
     "metadata": {},
     "output_type": "execute_result"
    }
   ],
   "source": [
    "numerical = df[numerical]\n",
    "numerical.describe().round(2)"
   ]
  },
  {
   "cell_type": "markdown",
   "id": "d5e9bde7-a549-431f-bd7c-52c11c1f03c2",
   "metadata": {},
   "source": [
    "## Data Cleaning\n",
    "- hapus data negara yang countnya sedikit\n",
    "- cek apa ada tahun yang diskip\n",
    "- sesuaikan data type (ada yg diubah jadi format integer dan format year)\n",
    "- cek data null (dan diisi)\n",
    "- cek anomali (dan replace)"
   ]
  },
  {
   "cell_type": "code",
   "execution_count": 221,
   "id": "bbe2df90-a7c8-4171-b926-c49395d704f6",
   "metadata": {
    "scrolled": true
   },
   "outputs": [
    {
     "name": "stdout",
     "output_type": "stream",
     "text": [
      "<class 'pandas.core.frame.DataFrame'>\n",
      "Index: 1107 entries, 48 to 5119\n",
      "Data columns (total 10 columns):\n",
      " #   Column                Non-Null Count  Dtype  \n",
      "---  ------                --------------  -----  \n",
      " 0   country               1107 non-null   object \n",
      " 1   year                  1107 non-null   int64  \n",
      " 2   estimated_population  1107 non-null   int64  \n",
      " 3   tb_prevalence         1107 non-null   float64\n",
      " 4   tb_incident           1107 non-null   float64\n",
      " 5   tb_mortality          1107 non-null   float64\n",
      " 6   tb_hiv_mortality      1107 non-null   float64\n",
      " 7   tb_deaths             1107 non-null   float64\n",
      " 8   tb_hiv_deaths         1107 non-null   float64\n",
      " 9   tb_hiv_positive       1059 non-null   float64\n",
      "dtypes: float64(7), int64(2), object(1)\n",
      "memory usage: 127.4+ KB\n"
     ]
    }
   ],
   "source": [
    "df.info()"
   ]
  },
  {
   "cell_type": "markdown",
   "id": "704a3ecb-9da1-4c82-b94e-4a1dbfa3d2b9",
   "metadata": {},
   "source": [
    "### Drop Negara Yang Kemunculannya Sedikit"
   ]
  },
  {
   "cell_type": "code",
   "execution_count": 122,
   "id": "219243a4-afef-49f9-ad8c-8929010bf382",
   "metadata": {},
   "outputs": [
    {
     "data": {
      "text/plain": [
       "country\n",
       "Algeria                             24\n",
       "Congo                               24\n",
       "Benin                               24\n",
       "Botswana                            24\n",
       "Burkina Faso                        24\n",
       "Burundi                             24\n",
       "Cabo Verde                          24\n",
       "Cameroon                            24\n",
       "Central African Republic            24\n",
       "Chad                                24\n",
       "Comoros                             24\n",
       "Côte d'Ivoire                       24\n",
       "Kenya                               24\n",
       "Democratic Republic of the Congo    24\n",
       "Equatorial Guinea                   24\n",
       "Eritrea                             24\n",
       "Ethiopia                            24\n",
       "Gabon                               24\n",
       "Gambia                              24\n",
       "Ghana                               24\n",
       "Guinea                              24\n",
       "Zimbabwe                            24\n",
       "Guinea-Bissau                       24\n",
       "Lesotho                             24\n",
       "Rwanda                              24\n",
       "Sao Tome and Principe               24\n",
       "Madagascar                          24\n",
       "Malawi                              24\n",
       "Mali                                24\n",
       "Mauritania                          24\n",
       "Mauritius                           24\n",
       "Mozambique                          24\n",
       "Namibia                             24\n",
       "Niger                               24\n",
       "Nigeria                             24\n",
       "Angola                              24\n",
       "Liberia                             24\n",
       "Senegal                             24\n",
       "Seychelles                          24\n",
       "Sierra Leone                        24\n",
       "South Africa                        24\n",
       "Swaziland                           24\n",
       "Togo                                24\n",
       "Uganda                              24\n",
       "United Republic of Tanzania         24\n",
       "Zambia                              24\n",
       "South Sudan                          3\n",
       "Name: count, dtype: int64"
      ]
     },
     "execution_count": 122,
     "metadata": {},
     "output_type": "execute_result"
    }
   ],
   "source": [
    "df['country'].value_counts().sort_values(ascending=False)"
   ]
  },
  {
   "cell_type": "code",
   "execution_count": 224,
   "id": "0864f0ad-3c47-4382-b27a-6faa8692529d",
   "metadata": {},
   "outputs": [
    {
     "data": {
      "text/html": [
       "<div>\n",
       "<style scoped>\n",
       "    .dataframe tbody tr th:only-of-type {\n",
       "        vertical-align: middle;\n",
       "    }\n",
       "\n",
       "    .dataframe tbody tr th {\n",
       "        vertical-align: top;\n",
       "    }\n",
       "\n",
       "    .dataframe thead th {\n",
       "        text-align: right;\n",
       "    }\n",
       "</style>\n",
       "<table border=\"1\" class=\"dataframe\">\n",
       "  <thead>\n",
       "    <tr style=\"text-align: right;\">\n",
       "      <th></th>\n",
       "      <th>country</th>\n",
       "      <th>year</th>\n",
       "      <th>estimated_population</th>\n",
       "      <th>tb_prevalence</th>\n",
       "      <th>tb_incident</th>\n",
       "      <th>tb_mortality</th>\n",
       "      <th>tb_hiv_mortality</th>\n",
       "      <th>tb_deaths</th>\n",
       "      <th>tb_hiv_deaths</th>\n",
       "      <th>tb_hiv_positive</th>\n",
       "    </tr>\n",
       "  </thead>\n",
       "  <tbody>\n",
       "    <tr>\n",
       "      <th>48</th>\n",
       "      <td>Algeria</td>\n",
       "      <td>1990</td>\n",
       "      <td>26239708</td>\n",
       "      <td>26000.0</td>\n",
       "      <td>17000.0</td>\n",
       "      <td>11.0</td>\n",
       "      <td>0.01</td>\n",
       "      <td>2800.0</td>\n",
       "      <td>3.0</td>\n",
       "      <td>11.0</td>\n",
       "    </tr>\n",
       "    <tr>\n",
       "      <th>49</th>\n",
       "      <td>Algeria</td>\n",
       "      <td>1991</td>\n",
       "      <td>26893663</td>\n",
       "      <td>27000.0</td>\n",
       "      <td>17000.0</td>\n",
       "      <td>10.0</td>\n",
       "      <td>0.01</td>\n",
       "      <td>2700.0</td>\n",
       "      <td>4.0</td>\n",
       "      <td>13.0</td>\n",
       "    </tr>\n",
       "    <tr>\n",
       "      <th>50</th>\n",
       "      <td>Algeria</td>\n",
       "      <td>1992</td>\n",
       "      <td>27535151</td>\n",
       "      <td>27000.0</td>\n",
       "      <td>18000.0</td>\n",
       "      <td>10.0</td>\n",
       "      <td>0.02</td>\n",
       "      <td>2800.0</td>\n",
       "      <td>5.0</td>\n",
       "      <td>16.0</td>\n",
       "    </tr>\n",
       "    <tr>\n",
       "      <th>51</th>\n",
       "      <td>Algeria</td>\n",
       "      <td>1993</td>\n",
       "      <td>28157560</td>\n",
       "      <td>29000.0</td>\n",
       "      <td>19000.0</td>\n",
       "      <td>10.0</td>\n",
       "      <td>0.02</td>\n",
       "      <td>2900.0</td>\n",
       "      <td>6.0</td>\n",
       "      <td>19.0</td>\n",
       "    </tr>\n",
       "    <tr>\n",
       "      <th>52</th>\n",
       "      <td>Algeria</td>\n",
       "      <td>1994</td>\n",
       "      <td>28752749</td>\n",
       "      <td>31000.0</td>\n",
       "      <td>20000.0</td>\n",
       "      <td>11.0</td>\n",
       "      <td>0.02</td>\n",
       "      <td>3100.0</td>\n",
       "      <td>7.0</td>\n",
       "      <td>24.0</td>\n",
       "    </tr>\n",
       "    <tr>\n",
       "      <th>...</th>\n",
       "      <td>...</td>\n",
       "      <td>...</td>\n",
       "      <td>...</td>\n",
       "      <td>...</td>\n",
       "      <td>...</td>\n",
       "      <td>...</td>\n",
       "      <td>...</td>\n",
       "      <td>...</td>\n",
       "      <td>...</td>\n",
       "      <td>...</td>\n",
       "    </tr>\n",
       "    <tr>\n",
       "      <th>5115</th>\n",
       "      <td>Zimbabwe</td>\n",
       "      <td>2009</td>\n",
       "      <td>12888918</td>\n",
       "      <td>58000.0</td>\n",
       "      <td>87000.0</td>\n",
       "      <td>39.0</td>\n",
       "      <td>206.00</td>\n",
       "      <td>5000.0</td>\n",
       "      <td>27000.0</td>\n",
       "      <td>66000.0</td>\n",
       "    </tr>\n",
       "    <tr>\n",
       "      <th>5116</th>\n",
       "      <td>Zimbabwe</td>\n",
       "      <td>2010</td>\n",
       "      <td>13076978</td>\n",
       "      <td>54000.0</td>\n",
       "      <td>83000.0</td>\n",
       "      <td>36.0</td>\n",
       "      <td>196.00</td>\n",
       "      <td>4700.0</td>\n",
       "      <td>26000.0</td>\n",
       "      <td>64000.0</td>\n",
       "    </tr>\n",
       "    <tr>\n",
       "      <th>5117</th>\n",
       "      <td>Zimbabwe</td>\n",
       "      <td>2011</td>\n",
       "      <td>13358738</td>\n",
       "      <td>56000.0</td>\n",
       "      <td>80000.0</td>\n",
       "      <td>38.0</td>\n",
       "      <td>176.00</td>\n",
       "      <td>5100.0</td>\n",
       "      <td>24000.0</td>\n",
       "      <td>60000.0</td>\n",
       "    </tr>\n",
       "    <tr>\n",
       "      <th>5118</th>\n",
       "      <td>Zimbabwe</td>\n",
       "      <td>2012</td>\n",
       "      <td>13724317</td>\n",
       "      <td>58000.0</td>\n",
       "      <td>79000.0</td>\n",
       "      <td>41.0</td>\n",
       "      <td>160.00</td>\n",
       "      <td>5600.0</td>\n",
       "      <td>22000.0</td>\n",
       "      <td>56000.0</td>\n",
       "    </tr>\n",
       "    <tr>\n",
       "      <th>5119</th>\n",
       "      <td>Zimbabwe</td>\n",
       "      <td>2013</td>\n",
       "      <td>14149648</td>\n",
       "      <td>58000.0</td>\n",
       "      <td>78000.0</td>\n",
       "      <td>40.0</td>\n",
       "      <td>153.00</td>\n",
       "      <td>5700.0</td>\n",
       "      <td>22000.0</td>\n",
       "      <td>56000.0</td>\n",
       "    </tr>\n",
       "  </tbody>\n",
       "</table>\n",
       "<p>1104 rows × 10 columns</p>\n",
       "</div>"
      ],
      "text/plain": [
       "       country  year  estimated_population  tb_prevalence  tb_incident  \\\n",
       "48     Algeria  1990              26239708        26000.0      17000.0   \n",
       "49     Algeria  1991              26893663        27000.0      17000.0   \n",
       "50     Algeria  1992              27535151        27000.0      18000.0   \n",
       "51     Algeria  1993              28157560        29000.0      19000.0   \n",
       "52     Algeria  1994              28752749        31000.0      20000.0   \n",
       "...        ...   ...                   ...            ...          ...   \n",
       "5115  Zimbabwe  2009              12888918        58000.0      87000.0   \n",
       "5116  Zimbabwe  2010              13076978        54000.0      83000.0   \n",
       "5117  Zimbabwe  2011              13358738        56000.0      80000.0   \n",
       "5118  Zimbabwe  2012              13724317        58000.0      79000.0   \n",
       "5119  Zimbabwe  2013              14149648        58000.0      78000.0   \n",
       "\n",
       "      tb_mortality  tb_hiv_mortality  tb_deaths  tb_hiv_deaths  \\\n",
       "48            11.0              0.01     2800.0            3.0   \n",
       "49            10.0              0.01     2700.0            4.0   \n",
       "50            10.0              0.02     2800.0            5.0   \n",
       "51            10.0              0.02     2900.0            6.0   \n",
       "52            11.0              0.02     3100.0            7.0   \n",
       "...            ...               ...        ...            ...   \n",
       "5115          39.0            206.00     5000.0        27000.0   \n",
       "5116          36.0            196.00     4700.0        26000.0   \n",
       "5117          38.0            176.00     5100.0        24000.0   \n",
       "5118          41.0            160.00     5600.0        22000.0   \n",
       "5119          40.0            153.00     5700.0        22000.0   \n",
       "\n",
       "      tb_hiv_positive  \n",
       "48               11.0  \n",
       "49               13.0  \n",
       "50               16.0  \n",
       "51               19.0  \n",
       "52               24.0  \n",
       "...               ...  \n",
       "5115          66000.0  \n",
       "5116          64000.0  \n",
       "5117          60000.0  \n",
       "5118          56000.0  \n",
       "5119          56000.0  \n",
       "\n",
       "[1104 rows x 10 columns]"
      ]
     },
     "execution_count": 224,
     "metadata": {},
     "output_type": "execute_result"
    }
   ],
   "source": [
    "df1 = df[df['country'] == 'South Sudan'].index\n",
    "df = df.drop(df1)\n",
    "df"
   ]
  },
  {
   "cell_type": "markdown",
   "id": "1b5d0ac0-335e-499d-85d9-8e17b91d1c5a",
   "metadata": {},
   "source": [
    "### Cek Apakah Ada Tahun Yang Terlewat"
   ]
  },
  {
   "cell_type": "code",
   "execution_count": 225,
   "id": "e4bd8307-b1f8-466e-804a-01c180a3b877",
   "metadata": {},
   "outputs": [
    {
     "name": "stdout",
     "output_type": "stream",
     "text": [
      "<class 'pandas.core.frame.DataFrame'>\n",
      "Index: 1104 entries, 48 to 5119\n",
      "Data columns (total 10 columns):\n",
      " #   Column                Non-Null Count  Dtype         \n",
      "---  ------                --------------  -----         \n",
      " 0   country               1104 non-null   object        \n",
      " 1   year                  1104 non-null   datetime64[ns]\n",
      " 2   estimated_population  1104 non-null   int64         \n",
      " 3   tb_prevalence         1104 non-null   float64       \n",
      " 4   tb_incident           1104 non-null   float64       \n",
      " 5   tb_mortality          1104 non-null   float64       \n",
      " 6   tb_hiv_mortality      1104 non-null   float64       \n",
      " 7   tb_deaths             1104 non-null   float64       \n",
      " 8   tb_hiv_deaths         1104 non-null   float64       \n",
      " 9   tb_hiv_positive       1056 non-null   float64       \n",
      "dtypes: datetime64[ns](1), float64(7), int64(1), object(1)\n",
      "memory usage: 94.9+ KB\n"
     ]
    }
   ],
   "source": [
    "#df['year'] = df['year'].astype('int32')\n",
    "df['year'] = df['year'].astype('string')\n",
    "df['year'] = pd.to_datetime(df['year'], format='%Y')\n",
    "df.info()"
   ]
  },
  {
   "cell_type": "code",
   "execution_count": 226,
   "id": "aaa88dff-2cdf-43a3-9646-d4f26cc79480",
   "metadata": {},
   "outputs": [],
   "source": [
    "df['year_only'] = df['year'].dt.year"
   ]
  },
  {
   "cell_type": "code",
   "execution_count": 227,
   "id": "bd4eaba6-e5bc-4167-8f26-7272e239a1b4",
   "metadata": {},
   "outputs": [
    {
     "name": "stdout",
     "output_type": "stream",
     "text": [
      "<class 'pandas.core.frame.DataFrame'>\n",
      "Index: 1104 entries, 48 to 5119\n",
      "Data columns (total 11 columns):\n",
      " #   Column                Non-Null Count  Dtype         \n",
      "---  ------                --------------  -----         \n",
      " 0   country               1104 non-null   object        \n",
      " 1   year                  1104 non-null   datetime64[ns]\n",
      " 2   estimated_population  1104 non-null   int64         \n",
      " 3   tb_prevalence         1104 non-null   float64       \n",
      " 4   tb_incident           1104 non-null   float64       \n",
      " 5   tb_mortality          1104 non-null   float64       \n",
      " 6   tb_hiv_mortality      1104 non-null   float64       \n",
      " 7   tb_deaths             1104 non-null   float64       \n",
      " 8   tb_hiv_deaths         1104 non-null   float64       \n",
      " 9   tb_hiv_positive       1056 non-null   float64       \n",
      " 10  year_only             1104 non-null   int32         \n",
      "dtypes: datetime64[ns](1), float64(7), int32(1), int64(1), object(1)\n",
      "memory usage: 99.2+ KB\n"
     ]
    }
   ],
   "source": [
    "df.info()"
   ]
  },
  {
   "cell_type": "code",
   "execution_count": 196,
   "id": "5dbf2c1d-07c1-41fc-84eb-c9e0cf4e7993",
   "metadata": {},
   "outputs": [
    {
     "name": "stdout",
     "output_type": "stream",
     "text": [
      "Tahun yang terlewat:\n",
      "Index([], dtype='int32')\n"
     ]
    }
   ],
   "source": [
    "# Membuat rentang tahun dari tahun minimum ke tahun maksimum\n",
    "start_date = df['year'].min()\n",
    "end_date = df['year'].max()\n",
    "expected_years = pd.date_range(start=start_date, end=end_date, freq='YS')  # 'YS' untuk Year Start\n",
    "\n",
    "# Mengonversi rentang tahun ke format tahun saja\n",
    "expected_years = expected_years.year\n",
    "\n",
    "# Mengonversi tahun yang ada di data ke format tahun saja\n",
    "present_years = df['year'].dt.year\n",
    "\n",
    "# Menemukan tahun yang terlewat\n",
    "missing_years = expected_years[~expected_years.isin(present_years)]\n",
    "\n",
    "# Menampilkan tahun yang terlewat\n",
    "print(\"Tahun yang terlewat:\")\n",
    "print(missing_years)"
   ]
  },
  {
   "cell_type": "markdown",
   "id": "4a67c00c-5701-429f-ae2f-da210caf6731",
   "metadata": {},
   "source": [
    "### Check Null Values"
   ]
  },
  {
   "cell_type": "code",
   "execution_count": 228,
   "id": "3ddbf8e9-4c08-46e1-b419-15f28a4c6b6f",
   "metadata": {
    "scrolled": true
   },
   "outputs": [
    {
     "data": {
      "text/html": [
       "<div>\n",
       "<style scoped>\n",
       "    .dataframe tbody tr th:only-of-type {\n",
       "        vertical-align: middle;\n",
       "    }\n",
       "\n",
       "    .dataframe tbody tr th {\n",
       "        vertical-align: top;\n",
       "    }\n",
       "\n",
       "    .dataframe thead th {\n",
       "        text-align: right;\n",
       "    }\n",
       "</style>\n",
       "<table border=\"1\" class=\"dataframe\">\n",
       "  <thead>\n",
       "    <tr style=\"text-align: right;\">\n",
       "      <th></th>\n",
       "      <th>country</th>\n",
       "      <th>year</th>\n",
       "      <th>estimated_population</th>\n",
       "      <th>tb_prevalence</th>\n",
       "      <th>tb_incident</th>\n",
       "      <th>tb_mortality</th>\n",
       "      <th>tb_hiv_mortality</th>\n",
       "      <th>tb_deaths</th>\n",
       "      <th>tb_hiv_deaths</th>\n",
       "      <th>tb_hiv_positive</th>\n",
       "      <th>year_only</th>\n",
       "    </tr>\n",
       "  </thead>\n",
       "  <tbody>\n",
       "    <tr>\n",
       "      <th>1084</th>\n",
       "      <td>Comoros</td>\n",
       "      <td>1990-01-01</td>\n",
       "      <td>412790</td>\n",
       "      <td>390.0</td>\n",
       "      <td>220.0</td>\n",
       "      <td>11.0</td>\n",
       "      <td>0.0</td>\n",
       "      <td>47.0</td>\n",
       "      <td>0.0</td>\n",
       "      <td>NaN</td>\n",
       "      <td>1990</td>\n",
       "    </tr>\n",
       "    <tr>\n",
       "      <th>1085</th>\n",
       "      <td>Comoros</td>\n",
       "      <td>1991-01-01</td>\n",
       "      <td>422969</td>\n",
       "      <td>380.0</td>\n",
       "      <td>220.0</td>\n",
       "      <td>11.0</td>\n",
       "      <td>0.0</td>\n",
       "      <td>45.0</td>\n",
       "      <td>0.0</td>\n",
       "      <td>NaN</td>\n",
       "      <td>1991</td>\n",
       "    </tr>\n",
       "    <tr>\n",
       "      <th>1086</th>\n",
       "      <td>Comoros</td>\n",
       "      <td>1992-01-01</td>\n",
       "      <td>433286</td>\n",
       "      <td>370.0</td>\n",
       "      <td>220.0</td>\n",
       "      <td>10.0</td>\n",
       "      <td>0.0</td>\n",
       "      <td>43.0</td>\n",
       "      <td>0.0</td>\n",
       "      <td>NaN</td>\n",
       "      <td>1992</td>\n",
       "    </tr>\n",
       "    <tr>\n",
       "      <th>1087</th>\n",
       "      <td>Comoros</td>\n",
       "      <td>1993-01-01</td>\n",
       "      <td>443820</td>\n",
       "      <td>360.0</td>\n",
       "      <td>220.0</td>\n",
       "      <td>9.5</td>\n",
       "      <td>0.0</td>\n",
       "      <td>42.0</td>\n",
       "      <td>0.0</td>\n",
       "      <td>NaN</td>\n",
       "      <td>1993</td>\n",
       "    </tr>\n",
       "    <tr>\n",
       "      <th>1088</th>\n",
       "      <td>Comoros</td>\n",
       "      <td>1994-01-01</td>\n",
       "      <td>454665</td>\n",
       "      <td>360.0</td>\n",
       "      <td>220.0</td>\n",
       "      <td>8.9</td>\n",
       "      <td>0.0</td>\n",
       "      <td>41.0</td>\n",
       "      <td>0.0</td>\n",
       "      <td>NaN</td>\n",
       "      <td>1994</td>\n",
       "    </tr>\n",
       "    <tr>\n",
       "      <th>1089</th>\n",
       "      <td>Comoros</td>\n",
       "      <td>1995-01-01</td>\n",
       "      <td>465895</td>\n",
       "      <td>350.0</td>\n",
       "      <td>210.0</td>\n",
       "      <td>8.4</td>\n",
       "      <td>0.0</td>\n",
       "      <td>39.0</td>\n",
       "      <td>0.0</td>\n",
       "      <td>NaN</td>\n",
       "      <td>1995</td>\n",
       "    </tr>\n",
       "    <tr>\n",
       "      <th>1090</th>\n",
       "      <td>Comoros</td>\n",
       "      <td>1996-01-01</td>\n",
       "      <td>477548</td>\n",
       "      <td>340.0</td>\n",
       "      <td>210.0</td>\n",
       "      <td>7.9</td>\n",
       "      <td>0.0</td>\n",
       "      <td>38.0</td>\n",
       "      <td>0.0</td>\n",
       "      <td>NaN</td>\n",
       "      <td>1996</td>\n",
       "    </tr>\n",
       "    <tr>\n",
       "      <th>1091</th>\n",
       "      <td>Comoros</td>\n",
       "      <td>1997-01-01</td>\n",
       "      <td>489627</td>\n",
       "      <td>330.0</td>\n",
       "      <td>210.0</td>\n",
       "      <td>7.3</td>\n",
       "      <td>0.0</td>\n",
       "      <td>36.0</td>\n",
       "      <td>0.0</td>\n",
       "      <td>NaN</td>\n",
       "      <td>1997</td>\n",
       "    </tr>\n",
       "    <tr>\n",
       "      <th>1092</th>\n",
       "      <td>Comoros</td>\n",
       "      <td>1998-01-01</td>\n",
       "      <td>502128</td>\n",
       "      <td>330.0</td>\n",
       "      <td>210.0</td>\n",
       "      <td>6.9</td>\n",
       "      <td>0.0</td>\n",
       "      <td>35.0</td>\n",
       "      <td>0.0</td>\n",
       "      <td>NaN</td>\n",
       "      <td>1998</td>\n",
       "    </tr>\n",
       "    <tr>\n",
       "      <th>1093</th>\n",
       "      <td>Comoros</td>\n",
       "      <td>1999-01-01</td>\n",
       "      <td>515028</td>\n",
       "      <td>330.0</td>\n",
       "      <td>210.0</td>\n",
       "      <td>7.0</td>\n",
       "      <td>0.0</td>\n",
       "      <td>36.0</td>\n",
       "      <td>0.0</td>\n",
       "      <td>NaN</td>\n",
       "      <td>1999</td>\n",
       "    </tr>\n",
       "    <tr>\n",
       "      <th>1094</th>\n",
       "      <td>Comoros</td>\n",
       "      <td>2000-01-01</td>\n",
       "      <td>528312</td>\n",
       "      <td>340.0</td>\n",
       "      <td>210.0</td>\n",
       "      <td>7.3</td>\n",
       "      <td>0.0</td>\n",
       "      <td>39.0</td>\n",
       "      <td>0.0</td>\n",
       "      <td>NaN</td>\n",
       "      <td>2000</td>\n",
       "    </tr>\n",
       "    <tr>\n",
       "      <th>1095</th>\n",
       "      <td>Comoros</td>\n",
       "      <td>2001-01-01</td>\n",
       "      <td>541976</td>\n",
       "      <td>350.0</td>\n",
       "      <td>210.0</td>\n",
       "      <td>7.6</td>\n",
       "      <td>0.0</td>\n",
       "      <td>41.0</td>\n",
       "      <td>0.0</td>\n",
       "      <td>NaN</td>\n",
       "      <td>2001</td>\n",
       "    </tr>\n",
       "    <tr>\n",
       "      <th>1096</th>\n",
       "      <td>Comoros</td>\n",
       "      <td>2002-01-01</td>\n",
       "      <td>556028</td>\n",
       "      <td>360.0</td>\n",
       "      <td>210.0</td>\n",
       "      <td>7.9</td>\n",
       "      <td>0.0</td>\n",
       "      <td>44.0</td>\n",
       "      <td>0.0</td>\n",
       "      <td>NaN</td>\n",
       "      <td>2002</td>\n",
       "    </tr>\n",
       "    <tr>\n",
       "      <th>1097</th>\n",
       "      <td>Comoros</td>\n",
       "      <td>2003-01-01</td>\n",
       "      <td>570491</td>\n",
       "      <td>370.0</td>\n",
       "      <td>210.0</td>\n",
       "      <td>8.3</td>\n",
       "      <td>0.0</td>\n",
       "      <td>47.0</td>\n",
       "      <td>0.0</td>\n",
       "      <td>NaN</td>\n",
       "      <td>2003</td>\n",
       "    </tr>\n",
       "    <tr>\n",
       "      <th>1098</th>\n",
       "      <td>Comoros</td>\n",
       "      <td>2004-01-01</td>\n",
       "      <td>585389</td>\n",
       "      <td>380.0</td>\n",
       "      <td>210.0</td>\n",
       "      <td>8.4</td>\n",
       "      <td>0.0</td>\n",
       "      <td>49.0</td>\n",
       "      <td>0.0</td>\n",
       "      <td>NaN</td>\n",
       "      <td>2004</td>\n",
       "    </tr>\n",
       "    <tr>\n",
       "      <th>1099</th>\n",
       "      <td>Comoros</td>\n",
       "      <td>2005-01-01</td>\n",
       "      <td>600733</td>\n",
       "      <td>400.0</td>\n",
       "      <td>220.0</td>\n",
       "      <td>8.6</td>\n",
       "      <td>0.0</td>\n",
       "      <td>52.0</td>\n",
       "      <td>0.0</td>\n",
       "      <td>NaN</td>\n",
       "      <td>2005</td>\n",
       "    </tr>\n",
       "    <tr>\n",
       "      <th>1100</th>\n",
       "      <td>Comoros</td>\n",
       "      <td>2006-01-01</td>\n",
       "      <td>616526</td>\n",
       "      <td>400.0</td>\n",
       "      <td>220.0</td>\n",
       "      <td>8.3</td>\n",
       "      <td>0.0</td>\n",
       "      <td>51.0</td>\n",
       "      <td>0.0</td>\n",
       "      <td>NaN</td>\n",
       "      <td>2006</td>\n",
       "    </tr>\n",
       "    <tr>\n",
       "      <th>1101</th>\n",
       "      <td>Comoros</td>\n",
       "      <td>2007-01-01</td>\n",
       "      <td>632736</td>\n",
       "      <td>390.0</td>\n",
       "      <td>220.0</td>\n",
       "      <td>7.9</td>\n",
       "      <td>0.0</td>\n",
       "      <td>50.0</td>\n",
       "      <td>0.0</td>\n",
       "      <td>NaN</td>\n",
       "      <td>2007</td>\n",
       "    </tr>\n",
       "    <tr>\n",
       "      <th>1102</th>\n",
       "      <td>Comoros</td>\n",
       "      <td>2008-01-01</td>\n",
       "      <td>649291</td>\n",
       "      <td>400.0</td>\n",
       "      <td>220.0</td>\n",
       "      <td>7.8</td>\n",
       "      <td>0.0</td>\n",
       "      <td>50.0</td>\n",
       "      <td>0.0</td>\n",
       "      <td>NaN</td>\n",
       "      <td>2008</td>\n",
       "    </tr>\n",
       "    <tr>\n",
       "      <th>1103</th>\n",
       "      <td>Comoros</td>\n",
       "      <td>2009-01-01</td>\n",
       "      <td>666097</td>\n",
       "      <td>400.0</td>\n",
       "      <td>220.0</td>\n",
       "      <td>7.4</td>\n",
       "      <td>0.0</td>\n",
       "      <td>50.0</td>\n",
       "      <td>0.0</td>\n",
       "      <td>NaN</td>\n",
       "      <td>2009</td>\n",
       "    </tr>\n",
       "    <tr>\n",
       "      <th>1104</th>\n",
       "      <td>Comoros</td>\n",
       "      <td>2010-01-01</td>\n",
       "      <td>683081</td>\n",
       "      <td>410.0</td>\n",
       "      <td>230.0</td>\n",
       "      <td>7.4</td>\n",
       "      <td>0.0</td>\n",
       "      <td>51.0</td>\n",
       "      <td>0.0</td>\n",
       "      <td>NaN</td>\n",
       "      <td>2010</td>\n",
       "    </tr>\n",
       "    <tr>\n",
       "      <th>1105</th>\n",
       "      <td>Comoros</td>\n",
       "      <td>2011-01-01</td>\n",
       "      <td>700216</td>\n",
       "      <td>430.0</td>\n",
       "      <td>240.0</td>\n",
       "      <td>7.8</td>\n",
       "      <td>0.0</td>\n",
       "      <td>55.0</td>\n",
       "      <td>0.0</td>\n",
       "      <td>NaN</td>\n",
       "      <td>2011</td>\n",
       "    </tr>\n",
       "    <tr>\n",
       "      <th>1106</th>\n",
       "      <td>Comoros</td>\n",
       "      <td>2012-01-01</td>\n",
       "      <td>717503</td>\n",
       "      <td>440.0</td>\n",
       "      <td>250.0</td>\n",
       "      <td>7.8</td>\n",
       "      <td>0.0</td>\n",
       "      <td>56.0</td>\n",
       "      <td>0.0</td>\n",
       "      <td>NaN</td>\n",
       "      <td>2012</td>\n",
       "    </tr>\n",
       "    <tr>\n",
       "      <th>1107</th>\n",
       "      <td>Comoros</td>\n",
       "      <td>2013-01-01</td>\n",
       "      <td>734917</td>\n",
       "      <td>450.0</td>\n",
       "      <td>250.0</td>\n",
       "      <td>7.8</td>\n",
       "      <td>0.0</td>\n",
       "      <td>58.0</td>\n",
       "      <td>0.0</td>\n",
       "      <td>NaN</td>\n",
       "      <td>2013</td>\n",
       "    </tr>\n",
       "    <tr>\n",
       "      <th>4021</th>\n",
       "      <td>Seychelles</td>\n",
       "      <td>1990-01-01</td>\n",
       "      <td>69474</td>\n",
       "      <td>79.0</td>\n",
       "      <td>47.0</td>\n",
       "      <td>1.5</td>\n",
       "      <td>0.0</td>\n",
       "      <td>1.1</td>\n",
       "      <td>0.0</td>\n",
       "      <td>NaN</td>\n",
       "      <td>1990</td>\n",
       "    </tr>\n",
       "    <tr>\n",
       "      <th>4022</th>\n",
       "      <td>Seychelles</td>\n",
       "      <td>1991-01-01</td>\n",
       "      <td>70307</td>\n",
       "      <td>27.0</td>\n",
       "      <td>23.0</td>\n",
       "      <td>1.5</td>\n",
       "      <td>0.0</td>\n",
       "      <td>1.1</td>\n",
       "      <td>0.0</td>\n",
       "      <td>NaN</td>\n",
       "      <td>1991</td>\n",
       "    </tr>\n",
       "    <tr>\n",
       "      <th>4023</th>\n",
       "      <td>Seychelles</td>\n",
       "      <td>1992-01-01</td>\n",
       "      <td>71489</td>\n",
       "      <td>20.0</td>\n",
       "      <td>12.0</td>\n",
       "      <td>1.5</td>\n",
       "      <td>0.0</td>\n",
       "      <td>1.1</td>\n",
       "      <td>0.0</td>\n",
       "      <td>NaN</td>\n",
       "      <td>1992</td>\n",
       "    </tr>\n",
       "    <tr>\n",
       "      <th>4024</th>\n",
       "      <td>Seychelles</td>\n",
       "      <td>1993-01-01</td>\n",
       "      <td>72873</td>\n",
       "      <td>17.0</td>\n",
       "      <td>5.8</td>\n",
       "      <td>1.5</td>\n",
       "      <td>0.0</td>\n",
       "      <td>1.1</td>\n",
       "      <td>0.0</td>\n",
       "      <td>NaN</td>\n",
       "      <td>1993</td>\n",
       "    </tr>\n",
       "    <tr>\n",
       "      <th>4025</th>\n",
       "      <td>Seychelles</td>\n",
       "      <td>1994-01-01</td>\n",
       "      <td>74239</td>\n",
       "      <td>15.0</td>\n",
       "      <td>7.3</td>\n",
       "      <td>1.5</td>\n",
       "      <td>0.0</td>\n",
       "      <td>1.1</td>\n",
       "      <td>0.0</td>\n",
       "      <td>NaN</td>\n",
       "      <td>1994</td>\n",
       "    </tr>\n",
       "    <tr>\n",
       "      <th>4026</th>\n",
       "      <td>Seychelles</td>\n",
       "      <td>1995-01-01</td>\n",
       "      <td>75433</td>\n",
       "      <td>13.0</td>\n",
       "      <td>9.2</td>\n",
       "      <td>1.5</td>\n",
       "      <td>0.0</td>\n",
       "      <td>1.2</td>\n",
       "      <td>0.0</td>\n",
       "      <td>NaN</td>\n",
       "      <td>1995</td>\n",
       "    </tr>\n",
       "    <tr>\n",
       "      <th>4027</th>\n",
       "      <td>Seychelles</td>\n",
       "      <td>1996-01-01</td>\n",
       "      <td>76391</td>\n",
       "      <td>26.0</td>\n",
       "      <td>17.0</td>\n",
       "      <td>1.5</td>\n",
       "      <td>0.0</td>\n",
       "      <td>1.2</td>\n",
       "      <td>0.0</td>\n",
       "      <td>NaN</td>\n",
       "      <td>1996</td>\n",
       "    </tr>\n",
       "    <tr>\n",
       "      <th>4028</th>\n",
       "      <td>Seychelles</td>\n",
       "      <td>1997-01-01</td>\n",
       "      <td>77173</td>\n",
       "      <td>32.0</td>\n",
       "      <td>21.0</td>\n",
       "      <td>1.5</td>\n",
       "      <td>0.0</td>\n",
       "      <td>1.2</td>\n",
       "      <td>0.0</td>\n",
       "      <td>NaN</td>\n",
       "      <td>1997</td>\n",
       "    </tr>\n",
       "    <tr>\n",
       "      <th>4029</th>\n",
       "      <td>Seychelles</td>\n",
       "      <td>1998-01-01</td>\n",
       "      <td>77891</td>\n",
       "      <td>18.0</td>\n",
       "      <td>13.0</td>\n",
       "      <td>1.5</td>\n",
       "      <td>0.0</td>\n",
       "      <td>1.2</td>\n",
       "      <td>0.0</td>\n",
       "      <td>NaN</td>\n",
       "      <td>1998</td>\n",
       "    </tr>\n",
       "    <tr>\n",
       "      <th>4030</th>\n",
       "      <td>Seychelles</td>\n",
       "      <td>1999-01-01</td>\n",
       "      <td>78720</td>\n",
       "      <td>36.0</td>\n",
       "      <td>24.0</td>\n",
       "      <td>1.5</td>\n",
       "      <td>0.0</td>\n",
       "      <td>1.2</td>\n",
       "      <td>0.0</td>\n",
       "      <td>NaN</td>\n",
       "      <td>1999</td>\n",
       "    </tr>\n",
       "    <tr>\n",
       "      <th>4031</th>\n",
       "      <td>Seychelles</td>\n",
       "      <td>2000-01-01</td>\n",
       "      <td>79774</td>\n",
       "      <td>31.0</td>\n",
       "      <td>23.0</td>\n",
       "      <td>1.5</td>\n",
       "      <td>0.0</td>\n",
       "      <td>1.2</td>\n",
       "      <td>0.0</td>\n",
       "      <td>NaN</td>\n",
       "      <td>2000</td>\n",
       "    </tr>\n",
       "    <tr>\n",
       "      <th>4032</th>\n",
       "      <td>Seychelles</td>\n",
       "      <td>2001-01-01</td>\n",
       "      <td>81093</td>\n",
       "      <td>27.0</td>\n",
       "      <td>22.0</td>\n",
       "      <td>2.6</td>\n",
       "      <td>0.0</td>\n",
       "      <td>2.1</td>\n",
       "      <td>0.0</td>\n",
       "      <td>NaN</td>\n",
       "      <td>2001</td>\n",
       "    </tr>\n",
       "    <tr>\n",
       "      <th>4033</th>\n",
       "      <td>Seychelles</td>\n",
       "      <td>2002-01-01</td>\n",
       "      <td>82611</td>\n",
       "      <td>57.0</td>\n",
       "      <td>33.0</td>\n",
       "      <td>5.1</td>\n",
       "      <td>0.0</td>\n",
       "      <td>4.2</td>\n",
       "      <td>0.0</td>\n",
       "      <td>NaN</td>\n",
       "      <td>2002</td>\n",
       "    </tr>\n",
       "    <tr>\n",
       "      <th>4034</th>\n",
       "      <td>Seychelles</td>\n",
       "      <td>2003-01-01</td>\n",
       "      <td>84218</td>\n",
       "      <td>19.0</td>\n",
       "      <td>12.0</td>\n",
       "      <td>0.0</td>\n",
       "      <td>0.0</td>\n",
       "      <td>0.0</td>\n",
       "      <td>0.0</td>\n",
       "      <td>NaN</td>\n",
       "      <td>2003</td>\n",
       "    </tr>\n",
       "    <tr>\n",
       "      <th>4035</th>\n",
       "      <td>Seychelles</td>\n",
       "      <td>2004-01-01</td>\n",
       "      <td>85751</td>\n",
       "      <td>30.0</td>\n",
       "      <td>21.0</td>\n",
       "      <td>0.0</td>\n",
       "      <td>0.0</td>\n",
       "      <td>0.0</td>\n",
       "      <td>0.0</td>\n",
       "      <td>NaN</td>\n",
       "      <td>2004</td>\n",
       "    </tr>\n",
       "    <tr>\n",
       "      <th>4036</th>\n",
       "      <td>Seychelles</td>\n",
       "      <td>2005-01-01</td>\n",
       "      <td>87094</td>\n",
       "      <td>20.0</td>\n",
       "      <td>16.0</td>\n",
       "      <td>2.5</td>\n",
       "      <td>0.0</td>\n",
       "      <td>2.2</td>\n",
       "      <td>0.0</td>\n",
       "      <td>NaN</td>\n",
       "      <td>2005</td>\n",
       "    </tr>\n",
       "    <tr>\n",
       "      <th>4037</th>\n",
       "      <td>Seychelles</td>\n",
       "      <td>2006-01-01</td>\n",
       "      <td>88210</td>\n",
       "      <td>14.0</td>\n",
       "      <td>12.0</td>\n",
       "      <td>1.2</td>\n",
       "      <td>0.0</td>\n",
       "      <td>1.1</td>\n",
       "      <td>0.0</td>\n",
       "      <td>NaN</td>\n",
       "      <td>2006</td>\n",
       "    </tr>\n",
       "    <tr>\n",
       "      <th>4038</th>\n",
       "      <td>Seychelles</td>\n",
       "      <td>2007-01-01</td>\n",
       "      <td>89134</td>\n",
       "      <td>13.0</td>\n",
       "      <td>9.2</td>\n",
       "      <td>1.2</td>\n",
       "      <td>0.0</td>\n",
       "      <td>1.1</td>\n",
       "      <td>0.0</td>\n",
       "      <td>NaN</td>\n",
       "      <td>2007</td>\n",
       "    </tr>\n",
       "    <tr>\n",
       "      <th>4039</th>\n",
       "      <td>Seychelles</td>\n",
       "      <td>2008-01-01</td>\n",
       "      <td>89902</td>\n",
       "      <td>14.0</td>\n",
       "      <td>6.9</td>\n",
       "      <td>2.3</td>\n",
       "      <td>0.0</td>\n",
       "      <td>2.1</td>\n",
       "      <td>0.0</td>\n",
       "      <td>NaN</td>\n",
       "      <td>2008</td>\n",
       "    </tr>\n",
       "    <tr>\n",
       "      <th>4040</th>\n",
       "      <td>Seychelles</td>\n",
       "      <td>2009-01-01</td>\n",
       "      <td>90577</td>\n",
       "      <td>24.0</td>\n",
       "      <td>17.0</td>\n",
       "      <td>2.3</td>\n",
       "      <td>0.0</td>\n",
       "      <td>2.1</td>\n",
       "      <td>0.0</td>\n",
       "      <td>NaN</td>\n",
       "      <td>2009</td>\n",
       "    </tr>\n",
       "    <tr>\n",
       "      <th>4041</th>\n",
       "      <td>Seychelles</td>\n",
       "      <td>2010-01-01</td>\n",
       "      <td>91208</td>\n",
       "      <td>28.0</td>\n",
       "      <td>20.0</td>\n",
       "      <td>0.0</td>\n",
       "      <td>0.0</td>\n",
       "      <td>0.0</td>\n",
       "      <td>0.0</td>\n",
       "      <td>NaN</td>\n",
       "      <td>2010</td>\n",
       "    </tr>\n",
       "    <tr>\n",
       "      <th>4042</th>\n",
       "      <td>Seychelles</td>\n",
       "      <td>2011-01-01</td>\n",
       "      <td>91799</td>\n",
       "      <td>36.0</td>\n",
       "      <td>24.0</td>\n",
       "      <td>1.1</td>\n",
       "      <td>0.0</td>\n",
       "      <td>1.0</td>\n",
       "      <td>0.0</td>\n",
       "      <td>NaN</td>\n",
       "      <td>2011</td>\n",
       "    </tr>\n",
       "    <tr>\n",
       "      <th>4043</th>\n",
       "      <td>Seychelles</td>\n",
       "      <td>2012-01-01</td>\n",
       "      <td>92339</td>\n",
       "      <td>28.0</td>\n",
       "      <td>23.0</td>\n",
       "      <td>0.0</td>\n",
       "      <td>0.0</td>\n",
       "      <td>0.0</td>\n",
       "      <td>0.0</td>\n",
       "      <td>NaN</td>\n",
       "      <td>2012</td>\n",
       "    </tr>\n",
       "    <tr>\n",
       "      <th>4044</th>\n",
       "      <td>Seychelles</td>\n",
       "      <td>2013-01-01</td>\n",
       "      <td>92838</td>\n",
       "      <td>34.0</td>\n",
       "      <td>28.0</td>\n",
       "      <td>1.5</td>\n",
       "      <td>0.0</td>\n",
       "      <td>1.4</td>\n",
       "      <td>0.0</td>\n",
       "      <td>NaN</td>\n",
       "      <td>2013</td>\n",
       "    </tr>\n",
       "  </tbody>\n",
       "</table>\n",
       "</div>"
      ],
      "text/plain": [
       "         country       year  estimated_population  tb_prevalence  tb_incident  \\\n",
       "1084     Comoros 1990-01-01                412790          390.0        220.0   \n",
       "1085     Comoros 1991-01-01                422969          380.0        220.0   \n",
       "1086     Comoros 1992-01-01                433286          370.0        220.0   \n",
       "1087     Comoros 1993-01-01                443820          360.0        220.0   \n",
       "1088     Comoros 1994-01-01                454665          360.0        220.0   \n",
       "1089     Comoros 1995-01-01                465895          350.0        210.0   \n",
       "1090     Comoros 1996-01-01                477548          340.0        210.0   \n",
       "1091     Comoros 1997-01-01                489627          330.0        210.0   \n",
       "1092     Comoros 1998-01-01                502128          330.0        210.0   \n",
       "1093     Comoros 1999-01-01                515028          330.0        210.0   \n",
       "1094     Comoros 2000-01-01                528312          340.0        210.0   \n",
       "1095     Comoros 2001-01-01                541976          350.0        210.0   \n",
       "1096     Comoros 2002-01-01                556028          360.0        210.0   \n",
       "1097     Comoros 2003-01-01                570491          370.0        210.0   \n",
       "1098     Comoros 2004-01-01                585389          380.0        210.0   \n",
       "1099     Comoros 2005-01-01                600733          400.0        220.0   \n",
       "1100     Comoros 2006-01-01                616526          400.0        220.0   \n",
       "1101     Comoros 2007-01-01                632736          390.0        220.0   \n",
       "1102     Comoros 2008-01-01                649291          400.0        220.0   \n",
       "1103     Comoros 2009-01-01                666097          400.0        220.0   \n",
       "1104     Comoros 2010-01-01                683081          410.0        230.0   \n",
       "1105     Comoros 2011-01-01                700216          430.0        240.0   \n",
       "1106     Comoros 2012-01-01                717503          440.0        250.0   \n",
       "1107     Comoros 2013-01-01                734917          450.0        250.0   \n",
       "4021  Seychelles 1990-01-01                 69474           79.0         47.0   \n",
       "4022  Seychelles 1991-01-01                 70307           27.0         23.0   \n",
       "4023  Seychelles 1992-01-01                 71489           20.0         12.0   \n",
       "4024  Seychelles 1993-01-01                 72873           17.0          5.8   \n",
       "4025  Seychelles 1994-01-01                 74239           15.0          7.3   \n",
       "4026  Seychelles 1995-01-01                 75433           13.0          9.2   \n",
       "4027  Seychelles 1996-01-01                 76391           26.0         17.0   \n",
       "4028  Seychelles 1997-01-01                 77173           32.0         21.0   \n",
       "4029  Seychelles 1998-01-01                 77891           18.0         13.0   \n",
       "4030  Seychelles 1999-01-01                 78720           36.0         24.0   \n",
       "4031  Seychelles 2000-01-01                 79774           31.0         23.0   \n",
       "4032  Seychelles 2001-01-01                 81093           27.0         22.0   \n",
       "4033  Seychelles 2002-01-01                 82611           57.0         33.0   \n",
       "4034  Seychelles 2003-01-01                 84218           19.0         12.0   \n",
       "4035  Seychelles 2004-01-01                 85751           30.0         21.0   \n",
       "4036  Seychelles 2005-01-01                 87094           20.0         16.0   \n",
       "4037  Seychelles 2006-01-01                 88210           14.0         12.0   \n",
       "4038  Seychelles 2007-01-01                 89134           13.0          9.2   \n",
       "4039  Seychelles 2008-01-01                 89902           14.0          6.9   \n",
       "4040  Seychelles 2009-01-01                 90577           24.0         17.0   \n",
       "4041  Seychelles 2010-01-01                 91208           28.0         20.0   \n",
       "4042  Seychelles 2011-01-01                 91799           36.0         24.0   \n",
       "4043  Seychelles 2012-01-01                 92339           28.0         23.0   \n",
       "4044  Seychelles 2013-01-01                 92838           34.0         28.0   \n",
       "\n",
       "      tb_mortality  tb_hiv_mortality  tb_deaths  tb_hiv_deaths  \\\n",
       "1084          11.0               0.0       47.0            0.0   \n",
       "1085          11.0               0.0       45.0            0.0   \n",
       "1086          10.0               0.0       43.0            0.0   \n",
       "1087           9.5               0.0       42.0            0.0   \n",
       "1088           8.9               0.0       41.0            0.0   \n",
       "1089           8.4               0.0       39.0            0.0   \n",
       "1090           7.9               0.0       38.0            0.0   \n",
       "1091           7.3               0.0       36.0            0.0   \n",
       "1092           6.9               0.0       35.0            0.0   \n",
       "1093           7.0               0.0       36.0            0.0   \n",
       "1094           7.3               0.0       39.0            0.0   \n",
       "1095           7.6               0.0       41.0            0.0   \n",
       "1096           7.9               0.0       44.0            0.0   \n",
       "1097           8.3               0.0       47.0            0.0   \n",
       "1098           8.4               0.0       49.0            0.0   \n",
       "1099           8.6               0.0       52.0            0.0   \n",
       "1100           8.3               0.0       51.0            0.0   \n",
       "1101           7.9               0.0       50.0            0.0   \n",
       "1102           7.8               0.0       50.0            0.0   \n",
       "1103           7.4               0.0       50.0            0.0   \n",
       "1104           7.4               0.0       51.0            0.0   \n",
       "1105           7.8               0.0       55.0            0.0   \n",
       "1106           7.8               0.0       56.0            0.0   \n",
       "1107           7.8               0.0       58.0            0.0   \n",
       "4021           1.5               0.0        1.1            0.0   \n",
       "4022           1.5               0.0        1.1            0.0   \n",
       "4023           1.5               0.0        1.1            0.0   \n",
       "4024           1.5               0.0        1.1            0.0   \n",
       "4025           1.5               0.0        1.1            0.0   \n",
       "4026           1.5               0.0        1.2            0.0   \n",
       "4027           1.5               0.0        1.2            0.0   \n",
       "4028           1.5               0.0        1.2            0.0   \n",
       "4029           1.5               0.0        1.2            0.0   \n",
       "4030           1.5               0.0        1.2            0.0   \n",
       "4031           1.5               0.0        1.2            0.0   \n",
       "4032           2.6               0.0        2.1            0.0   \n",
       "4033           5.1               0.0        4.2            0.0   \n",
       "4034           0.0               0.0        0.0            0.0   \n",
       "4035           0.0               0.0        0.0            0.0   \n",
       "4036           2.5               0.0        2.2            0.0   \n",
       "4037           1.2               0.0        1.1            0.0   \n",
       "4038           1.2               0.0        1.1            0.0   \n",
       "4039           2.3               0.0        2.1            0.0   \n",
       "4040           2.3               0.0        2.1            0.0   \n",
       "4041           0.0               0.0        0.0            0.0   \n",
       "4042           1.1               0.0        1.0            0.0   \n",
       "4043           0.0               0.0        0.0            0.0   \n",
       "4044           1.5               0.0        1.4            0.0   \n",
       "\n",
       "      tb_hiv_positive  year_only  \n",
       "1084              NaN       1990  \n",
       "1085              NaN       1991  \n",
       "1086              NaN       1992  \n",
       "1087              NaN       1993  \n",
       "1088              NaN       1994  \n",
       "1089              NaN       1995  \n",
       "1090              NaN       1996  \n",
       "1091              NaN       1997  \n",
       "1092              NaN       1998  \n",
       "1093              NaN       1999  \n",
       "1094              NaN       2000  \n",
       "1095              NaN       2001  \n",
       "1096              NaN       2002  \n",
       "1097              NaN       2003  \n",
       "1098              NaN       2004  \n",
       "1099              NaN       2005  \n",
       "1100              NaN       2006  \n",
       "1101              NaN       2007  \n",
       "1102              NaN       2008  \n",
       "1103              NaN       2009  \n",
       "1104              NaN       2010  \n",
       "1105              NaN       2011  \n",
       "1106              NaN       2012  \n",
       "1107              NaN       2013  \n",
       "4021              NaN       1990  \n",
       "4022              NaN       1991  \n",
       "4023              NaN       1992  \n",
       "4024              NaN       1993  \n",
       "4025              NaN       1994  \n",
       "4026              NaN       1995  \n",
       "4027              NaN       1996  \n",
       "4028              NaN       1997  \n",
       "4029              NaN       1998  \n",
       "4030              NaN       1999  \n",
       "4031              NaN       2000  \n",
       "4032              NaN       2001  \n",
       "4033              NaN       2002  \n",
       "4034              NaN       2003  \n",
       "4035              NaN       2004  \n",
       "4036              NaN       2005  \n",
       "4037              NaN       2006  \n",
       "4038              NaN       2007  \n",
       "4039              NaN       2008  \n",
       "4040              NaN       2009  \n",
       "4041              NaN       2010  \n",
       "4042              NaN       2011  \n",
       "4043              NaN       2012  \n",
       "4044              NaN       2013  "
      ]
     },
     "execution_count": 228,
     "metadata": {},
     "output_type": "execute_result"
    }
   ],
   "source": [
    "df.loc[(df.tb_hiv_positive.isna())]"
   ]
  },
  {
   "cell_type": "markdown",
   "id": "10955718-d51d-4648-948d-6dadc78c9d83",
   "metadata": {},
   "source": [
    "- Negara Comoros dan Seychelles sama-sama memiliki nilai null pada kolom `hiv_in_tb` dan `tb_hiv_positive`\n",
    "- Kedua negara kebetulan tidak memiliki kejadian pasien TB yang memiliki kondisi positif HIV\n",
    "- Maka nilai null pada kolom `hiv_in_tb` dan `tb_hiv_positive` akan diisi dengan 0"
   ]
  },
  {
   "cell_type": "code",
   "execution_count": 229,
   "id": "3d294388-2d51-4e9b-bab5-575e88852767",
   "metadata": {},
   "outputs": [],
   "source": [
    "df.tb_hiv_positive = df.tb_hiv_positive.fillna(0)"
   ]
  },
  {
   "cell_type": "code",
   "execution_count": 230,
   "id": "e24a18fa-1fe0-45b9-8e1c-0cb063e4670c",
   "metadata": {},
   "outputs": [],
   "source": [
    "#df.hiv_in_tb = df.hiv_in_tb.fillna(0)"
   ]
  },
  {
   "cell_type": "code",
   "execution_count": 231,
   "id": "07637307-b43b-46c4-992a-ec1528de1176",
   "metadata": {},
   "outputs": [
    {
     "data": {
      "text/html": [
       "<div>\n",
       "<style scoped>\n",
       "    .dataframe tbody tr th:only-of-type {\n",
       "        vertical-align: middle;\n",
       "    }\n",
       "\n",
       "    .dataframe tbody tr th {\n",
       "        vertical-align: top;\n",
       "    }\n",
       "\n",
       "    .dataframe thead th {\n",
       "        text-align: right;\n",
       "    }\n",
       "</style>\n",
       "<table border=\"1\" class=\"dataframe\">\n",
       "  <thead>\n",
       "    <tr style=\"text-align: right;\">\n",
       "      <th></th>\n",
       "      <th>country</th>\n",
       "      <th>year</th>\n",
       "      <th>estimated_population</th>\n",
       "      <th>tb_prevalence</th>\n",
       "      <th>tb_incident</th>\n",
       "      <th>tb_mortality</th>\n",
       "      <th>tb_hiv_mortality</th>\n",
       "      <th>tb_deaths</th>\n",
       "      <th>tb_hiv_deaths</th>\n",
       "      <th>tb_hiv_positive</th>\n",
       "      <th>year_only</th>\n",
       "    </tr>\n",
       "  </thead>\n",
       "  <tbody>\n",
       "  </tbody>\n",
       "</table>\n",
       "</div>"
      ],
      "text/plain": [
       "Empty DataFrame\n",
       "Columns: [country, year, estimated_population, tb_prevalence, tb_incident, tb_mortality, tb_hiv_mortality, tb_deaths, tb_hiv_deaths, tb_hiv_positive, year_only]\n",
       "Index: []"
      ]
     },
     "execution_count": 231,
     "metadata": {},
     "output_type": "execute_result"
    }
   ],
   "source": [
    "df.loc[(df.tb_hiv_positive.isna())]"
   ]
  },
  {
   "cell_type": "markdown",
   "id": "75767ec7-8afc-47db-bd9b-7646492ed5f7",
   "metadata": {},
   "source": [
    "### Convert Some Float dtypes to Integer"
   ]
  },
  {
   "cell_type": "code",
   "execution_count": 232,
   "id": "d007d97b-5450-4913-8647-7770bafa45d3",
   "metadata": {},
   "outputs": [],
   "source": [
    "columns_int = ['tb_prevalence', 'tb_incident', 'tb_deaths', 'tb_hiv_deaths', 'tb_hiv_positive']\n",
    "\n",
    "df[columns_int] = df[columns_int].astype(int)"
   ]
  },
  {
   "cell_type": "code",
   "execution_count": 233,
   "id": "ad3d9db7-58df-4be8-8264-d8896585f303",
   "metadata": {},
   "outputs": [
    {
     "name": "stdout",
     "output_type": "stream",
     "text": [
      "<class 'pandas.core.frame.DataFrame'>\n",
      "Index: 1104 entries, 48 to 5119\n",
      "Data columns (total 11 columns):\n",
      " #   Column                Non-Null Count  Dtype         \n",
      "---  ------                --------------  -----         \n",
      " 0   country               1104 non-null   object        \n",
      " 1   year                  1104 non-null   datetime64[ns]\n",
      " 2   estimated_population  1104 non-null   int64         \n",
      " 3   tb_prevalence         1104 non-null   int32         \n",
      " 4   tb_incident           1104 non-null   int32         \n",
      " 5   tb_mortality          1104 non-null   float64       \n",
      " 6   tb_hiv_mortality      1104 non-null   float64       \n",
      " 7   tb_deaths             1104 non-null   int32         \n",
      " 8   tb_hiv_deaths         1104 non-null   int32         \n",
      " 9   tb_hiv_positive       1104 non-null   int32         \n",
      " 10  year_only             1104 non-null   int32         \n",
      "dtypes: datetime64[ns](1), float64(2), int32(6), int64(1), object(1)\n",
      "memory usage: 77.6+ KB\n"
     ]
    }
   ],
   "source": [
    "df.info()"
   ]
  },
  {
   "cell_type": "markdown",
   "id": "0f8fef1a-89e7-427d-bde5-c6e627aae893",
   "metadata": {},
   "source": [
    "### Check Anomalies"
   ]
  },
  {
   "cell_type": "code",
   "execution_count": 234,
   "id": "dc76ceed-1fcb-461c-9d2d-c54041012e38",
   "metadata": {},
   "outputs": [
    {
     "name": "stdout",
     "output_type": "stream",
     "text": [
      "<class 'pandas.core.frame.DataFrame'>\n",
      "Index: 1104 entries, 48 to 5119\n",
      "Data columns (total 11 columns):\n",
      " #   Column                Non-Null Count  Dtype         \n",
      "---  ------                --------------  -----         \n",
      " 0   country               1104 non-null   object        \n",
      " 1   year                  1104 non-null   datetime64[ns]\n",
      " 2   estimated_population  1104 non-null   int64         \n",
      " 3   tb_prevalence         1104 non-null   int32         \n",
      " 4   tb_incident           1104 non-null   int32         \n",
      " 5   tb_mortality          1104 non-null   float64       \n",
      " 6   tb_hiv_mortality      1104 non-null   float64       \n",
      " 7   tb_deaths             1104 non-null   int32         \n",
      " 8   tb_hiv_deaths         1104 non-null   int32         \n",
      " 9   tb_hiv_positive       1104 non-null   int32         \n",
      " 10  year_only             1104 non-null   int32         \n",
      "dtypes: datetime64[ns](1), float64(2), int32(6), int64(1), object(1)\n",
      "memory usage: 77.6+ KB\n"
     ]
    }
   ],
   "source": [
    "df.info()"
   ]
  },
  {
   "cell_type": "code",
   "execution_count": 235,
   "id": "c7446676-5fc7-4dde-9909-ec64367e6b86",
   "metadata": {},
   "outputs": [
    {
     "data": {
      "text/html": [
       "<div>\n",
       "<style scoped>\n",
       "    .dataframe tbody tr th:only-of-type {\n",
       "        vertical-align: middle;\n",
       "    }\n",
       "\n",
       "    .dataframe tbody tr th {\n",
       "        vertical-align: top;\n",
       "    }\n",
       "\n",
       "    .dataframe thead th {\n",
       "        text-align: right;\n",
       "    }\n",
       "</style>\n",
       "<table border=\"1\" class=\"dataframe\">\n",
       "  <thead>\n",
       "    <tr style=\"text-align: right;\">\n",
       "      <th></th>\n",
       "      <th>country</th>\n",
       "      <th>year</th>\n",
       "      <th>estimated_population</th>\n",
       "      <th>tb_prevalence</th>\n",
       "      <th>tb_incident</th>\n",
       "      <th>tb_mortality</th>\n",
       "      <th>tb_hiv_mortality</th>\n",
       "      <th>tb_deaths</th>\n",
       "      <th>tb_hiv_deaths</th>\n",
       "      <th>tb_hiv_positive</th>\n",
       "      <th>year_only</th>\n",
       "    </tr>\n",
       "  </thead>\n",
       "  <tbody>\n",
       "    <tr>\n",
       "      <th>48</th>\n",
       "      <td>Algeria</td>\n",
       "      <td>1990-01-01</td>\n",
       "      <td>26239708</td>\n",
       "      <td>26000</td>\n",
       "      <td>17000</td>\n",
       "      <td>11.0</td>\n",
       "      <td>0.01</td>\n",
       "      <td>2800</td>\n",
       "      <td>3</td>\n",
       "      <td>11</td>\n",
       "      <td>1990</td>\n",
       "    </tr>\n",
       "    <tr>\n",
       "      <th>49</th>\n",
       "      <td>Algeria</td>\n",
       "      <td>1991-01-01</td>\n",
       "      <td>26893663</td>\n",
       "      <td>27000</td>\n",
       "      <td>17000</td>\n",
       "      <td>10.0</td>\n",
       "      <td>0.01</td>\n",
       "      <td>2700</td>\n",
       "      <td>4</td>\n",
       "      <td>13</td>\n",
       "      <td>1991</td>\n",
       "    </tr>\n",
       "    <tr>\n",
       "      <th>50</th>\n",
       "      <td>Algeria</td>\n",
       "      <td>1992-01-01</td>\n",
       "      <td>27535151</td>\n",
       "      <td>27000</td>\n",
       "      <td>18000</td>\n",
       "      <td>10.0</td>\n",
       "      <td>0.02</td>\n",
       "      <td>2800</td>\n",
       "      <td>5</td>\n",
       "      <td>16</td>\n",
       "      <td>1992</td>\n",
       "    </tr>\n",
       "    <tr>\n",
       "      <th>51</th>\n",
       "      <td>Algeria</td>\n",
       "      <td>1993-01-01</td>\n",
       "      <td>28157560</td>\n",
       "      <td>29000</td>\n",
       "      <td>19000</td>\n",
       "      <td>10.0</td>\n",
       "      <td>0.02</td>\n",
       "      <td>2900</td>\n",
       "      <td>6</td>\n",
       "      <td>19</td>\n",
       "      <td>1993</td>\n",
       "    </tr>\n",
       "    <tr>\n",
       "      <th>52</th>\n",
       "      <td>Algeria</td>\n",
       "      <td>1994-01-01</td>\n",
       "      <td>28752749</td>\n",
       "      <td>31000</td>\n",
       "      <td>20000</td>\n",
       "      <td>11.0</td>\n",
       "      <td>0.02</td>\n",
       "      <td>3100</td>\n",
       "      <td>7</td>\n",
       "      <td>24</td>\n",
       "      <td>1994</td>\n",
       "    </tr>\n",
       "    <tr>\n",
       "      <th>...</th>\n",
       "      <td>...</td>\n",
       "      <td>...</td>\n",
       "      <td>...</td>\n",
       "      <td>...</td>\n",
       "      <td>...</td>\n",
       "      <td>...</td>\n",
       "      <td>...</td>\n",
       "      <td>...</td>\n",
       "      <td>...</td>\n",
       "      <td>...</td>\n",
       "      <td>...</td>\n",
       "    </tr>\n",
       "    <tr>\n",
       "      <th>5115</th>\n",
       "      <td>Zimbabwe</td>\n",
       "      <td>2009-01-01</td>\n",
       "      <td>12888918</td>\n",
       "      <td>58000</td>\n",
       "      <td>87000</td>\n",
       "      <td>39.0</td>\n",
       "      <td>206.00</td>\n",
       "      <td>5000</td>\n",
       "      <td>27000</td>\n",
       "      <td>66000</td>\n",
       "      <td>2009</td>\n",
       "    </tr>\n",
       "    <tr>\n",
       "      <th>5116</th>\n",
       "      <td>Zimbabwe</td>\n",
       "      <td>2010-01-01</td>\n",
       "      <td>13076978</td>\n",
       "      <td>54000</td>\n",
       "      <td>83000</td>\n",
       "      <td>36.0</td>\n",
       "      <td>196.00</td>\n",
       "      <td>4700</td>\n",
       "      <td>26000</td>\n",
       "      <td>64000</td>\n",
       "      <td>2010</td>\n",
       "    </tr>\n",
       "    <tr>\n",
       "      <th>5117</th>\n",
       "      <td>Zimbabwe</td>\n",
       "      <td>2011-01-01</td>\n",
       "      <td>13358738</td>\n",
       "      <td>56000</td>\n",
       "      <td>80000</td>\n",
       "      <td>38.0</td>\n",
       "      <td>176.00</td>\n",
       "      <td>5100</td>\n",
       "      <td>24000</td>\n",
       "      <td>60000</td>\n",
       "      <td>2011</td>\n",
       "    </tr>\n",
       "    <tr>\n",
       "      <th>5118</th>\n",
       "      <td>Zimbabwe</td>\n",
       "      <td>2012-01-01</td>\n",
       "      <td>13724317</td>\n",
       "      <td>58000</td>\n",
       "      <td>79000</td>\n",
       "      <td>41.0</td>\n",
       "      <td>160.00</td>\n",
       "      <td>5600</td>\n",
       "      <td>22000</td>\n",
       "      <td>56000</td>\n",
       "      <td>2012</td>\n",
       "    </tr>\n",
       "    <tr>\n",
       "      <th>5119</th>\n",
       "      <td>Zimbabwe</td>\n",
       "      <td>2013-01-01</td>\n",
       "      <td>14149648</td>\n",
       "      <td>58000</td>\n",
       "      <td>78000</td>\n",
       "      <td>40.0</td>\n",
       "      <td>153.00</td>\n",
       "      <td>5700</td>\n",
       "      <td>22000</td>\n",
       "      <td>56000</td>\n",
       "      <td>2013</td>\n",
       "    </tr>\n",
       "  </tbody>\n",
       "</table>\n",
       "<p>1104 rows × 11 columns</p>\n",
       "</div>"
      ],
      "text/plain": [
       "       country       year  estimated_population  tb_prevalence  tb_incident  \\\n",
       "48     Algeria 1990-01-01              26239708          26000        17000   \n",
       "49     Algeria 1991-01-01              26893663          27000        17000   \n",
       "50     Algeria 1992-01-01              27535151          27000        18000   \n",
       "51     Algeria 1993-01-01              28157560          29000        19000   \n",
       "52     Algeria 1994-01-01              28752749          31000        20000   \n",
       "...        ...        ...                   ...            ...          ...   \n",
       "5115  Zimbabwe 2009-01-01              12888918          58000        87000   \n",
       "5116  Zimbabwe 2010-01-01              13076978          54000        83000   \n",
       "5117  Zimbabwe 2011-01-01              13358738          56000        80000   \n",
       "5118  Zimbabwe 2012-01-01              13724317          58000        79000   \n",
       "5119  Zimbabwe 2013-01-01              14149648          58000        78000   \n",
       "\n",
       "      tb_mortality  tb_hiv_mortality  tb_deaths  tb_hiv_deaths  \\\n",
       "48            11.0              0.01       2800              3   \n",
       "49            10.0              0.01       2700              4   \n",
       "50            10.0              0.02       2800              5   \n",
       "51            10.0              0.02       2900              6   \n",
       "52            11.0              0.02       3100              7   \n",
       "...            ...               ...        ...            ...   \n",
       "5115          39.0            206.00       5000          27000   \n",
       "5116          36.0            196.00       4700          26000   \n",
       "5117          38.0            176.00       5100          24000   \n",
       "5118          41.0            160.00       5600          22000   \n",
       "5119          40.0            153.00       5700          22000   \n",
       "\n",
       "      tb_hiv_positive  year_only  \n",
       "48                 11       1990  \n",
       "49                 13       1991  \n",
       "50                 16       1992  \n",
       "51                 19       1993  \n",
       "52                 24       1994  \n",
       "...               ...        ...  \n",
       "5115            66000       2009  \n",
       "5116            64000       2010  \n",
       "5117            60000       2011  \n",
       "5118            56000       2012  \n",
       "5119            56000       2013  \n",
       "\n",
       "[1104 rows x 11 columns]"
      ]
     },
     "execution_count": 235,
     "metadata": {},
     "output_type": "execute_result"
    }
   ],
   "source": [
    "df"
   ]
  },
  {
   "cell_type": "code",
   "execution_count": 236,
   "id": "c63082a0-4a91-480d-b4ea-d948bb2318c9",
   "metadata": {},
   "outputs": [
    {
     "data": {
      "text/html": [
       "<div>\n",
       "<style scoped>\n",
       "    .dataframe tbody tr th:only-of-type {\n",
       "        vertical-align: middle;\n",
       "    }\n",
       "\n",
       "    .dataframe tbody tr th {\n",
       "        vertical-align: top;\n",
       "    }\n",
       "\n",
       "    .dataframe thead th {\n",
       "        text-align: right;\n",
       "    }\n",
       "</style>\n",
       "<table border=\"1\" class=\"dataframe\">\n",
       "  <thead>\n",
       "    <tr style=\"text-align: right;\">\n",
       "      <th></th>\n",
       "      <th>year</th>\n",
       "      <th>estimated_population</th>\n",
       "      <th>tb_prevalence</th>\n",
       "      <th>tb_incident</th>\n",
       "      <th>tb_mortality</th>\n",
       "      <th>tb_hiv_mortality</th>\n",
       "      <th>tb_deaths</th>\n",
       "      <th>tb_hiv_deaths</th>\n",
       "      <th>tb_hiv_positive</th>\n",
       "      <th>year_only</th>\n",
       "    </tr>\n",
       "  </thead>\n",
       "  <tbody>\n",
       "    <tr>\n",
       "      <th>count</th>\n",
       "      <td>1104</td>\n",
       "      <td>1.104000e+03</td>\n",
       "      <td>1104.00</td>\n",
       "      <td>1104.00</td>\n",
       "      <td>1104.00</td>\n",
       "      <td>1104.00</td>\n",
       "      <td>1104.00</td>\n",
       "      <td>1104.00</td>\n",
       "      <td>1104.00</td>\n",
       "      <td>1104.00</td>\n",
       "    </tr>\n",
       "    <tr>\n",
       "      <th>mean</th>\n",
       "      <td>2001-07-02 06:00:00</td>\n",
       "      <td>1.502680e+07</td>\n",
       "      <td>54283.84</td>\n",
       "      <td>47151.34</td>\n",
       "      <td>45.92</td>\n",
       "      <td>51.41</td>\n",
       "      <td>8400.85</td>\n",
       "      <td>6800.82</td>\n",
       "      <td>15868.21</td>\n",
       "      <td>2001.50</td>\n",
       "    </tr>\n",
       "    <tr>\n",
       "      <th>min</th>\n",
       "      <td>1990-01-01 00:00:00</td>\n",
       "      <td>6.947400e+04</td>\n",
       "      <td>13.00</td>\n",
       "      <td>5.00</td>\n",
       "      <td>0.00</td>\n",
       "      <td>0.00</td>\n",
       "      <td>0.00</td>\n",
       "      <td>0.00</td>\n",
       "      <td>0.00</td>\n",
       "      <td>1990.00</td>\n",
       "    </tr>\n",
       "    <tr>\n",
       "      <th>25%</th>\n",
       "      <td>1995-10-01 18:00:00</td>\n",
       "      <td>1.867912e+06</td>\n",
       "      <td>8475.00</td>\n",
       "      <td>5900.00</td>\n",
       "      <td>18.00</td>\n",
       "      <td>3.50</td>\n",
       "      <td>830.00</td>\n",
       "      <td>150.00</td>\n",
       "      <td>417.50</td>\n",
       "      <td>1995.75</td>\n",
       "    </tr>\n",
       "    <tr>\n",
       "      <th>50%</th>\n",
       "      <td>2001-07-02 12:00:00</td>\n",
       "      <td>8.283363e+06</td>\n",
       "      <td>22000.00</td>\n",
       "      <td>16000.00</td>\n",
       "      <td>36.00</td>\n",
       "      <td>12.50</td>\n",
       "      <td>2500.00</td>\n",
       "      <td>990.00</td>\n",
       "      <td>2200.00</td>\n",
       "      <td>2001.50</td>\n",
       "    </tr>\n",
       "    <tr>\n",
       "      <th>75%</th>\n",
       "      <td>2007-04-02 06:00:00</td>\n",
       "      <td>1.651969e+07</td>\n",
       "      <td>55000.00</td>\n",
       "      <td>49000.00</td>\n",
       "      <td>64.00</td>\n",
       "      <td>52.00</td>\n",
       "      <td>6100.00</td>\n",
       "      <td>7000.00</td>\n",
       "      <td>16000.00</td>\n",
       "      <td>2007.25</td>\n",
       "    </tr>\n",
       "    <tr>\n",
       "      <th>max</th>\n",
       "      <td>2013-01-01 00:00:00</td>\n",
       "      <td>1.736153e+08</td>\n",
       "      <td>570000.00</td>\n",
       "      <td>590000.00</td>\n",
       "      <td>278.00</td>\n",
       "      <td>481.00</td>\n",
       "      <td>160000.00</td>\n",
       "      <td>96000.00</td>\n",
       "      <td>320000.00</td>\n",
       "      <td>2013.00</td>\n",
       "    </tr>\n",
       "    <tr>\n",
       "      <th>std</th>\n",
       "      <td>NaN</td>\n",
       "      <td>2.309186e+07</td>\n",
       "      <td>89575.92</td>\n",
       "      <td>87247.79</td>\n",
       "      <td>40.03</td>\n",
       "      <td>86.84</td>\n",
       "      <td>20633.53</td>\n",
       "      <td>14639.60</td>\n",
       "      <td>36021.29</td>\n",
       "      <td>6.93</td>\n",
       "    </tr>\n",
       "  </tbody>\n",
       "</table>\n",
       "</div>"
      ],
      "text/plain": [
       "                      year  estimated_population  tb_prevalence  tb_incident  \\\n",
       "count                 1104          1.104000e+03        1104.00      1104.00   \n",
       "mean   2001-07-02 06:00:00          1.502680e+07       54283.84     47151.34   \n",
       "min    1990-01-01 00:00:00          6.947400e+04          13.00         5.00   \n",
       "25%    1995-10-01 18:00:00          1.867912e+06        8475.00      5900.00   \n",
       "50%    2001-07-02 12:00:00          8.283363e+06       22000.00     16000.00   \n",
       "75%    2007-04-02 06:00:00          1.651969e+07       55000.00     49000.00   \n",
       "max    2013-01-01 00:00:00          1.736153e+08      570000.00    590000.00   \n",
       "std                    NaN          2.309186e+07       89575.92     87247.79   \n",
       "\n",
       "       tb_mortality  tb_hiv_mortality  tb_deaths  tb_hiv_deaths  \\\n",
       "count       1104.00           1104.00    1104.00        1104.00   \n",
       "mean          45.92             51.41    8400.85        6800.82   \n",
       "min            0.00              0.00       0.00           0.00   \n",
       "25%           18.00              3.50     830.00         150.00   \n",
       "50%           36.00             12.50    2500.00         990.00   \n",
       "75%           64.00             52.00    6100.00        7000.00   \n",
       "max          278.00            481.00  160000.00       96000.00   \n",
       "std           40.03             86.84   20633.53       14639.60   \n",
       "\n",
       "       tb_hiv_positive  year_only  \n",
       "count          1104.00    1104.00  \n",
       "mean          15868.21    2001.50  \n",
       "min               0.00    1990.00  \n",
       "25%             417.50    1995.75  \n",
       "50%            2200.00    2001.50  \n",
       "75%           16000.00    2007.25  \n",
       "max          320000.00    2013.00  \n",
       "std           36021.29       6.93  "
      ]
     },
     "execution_count": 236,
     "metadata": {},
     "output_type": "execute_result"
    }
   ],
   "source": [
    "numerical = df.select_dtypes(exclude=['object']).columns.tolist()\n",
    "numerical = df[numerical]\n",
    "numerical.describe().round(2)"
   ]
  },
  {
   "cell_type": "markdown",
   "id": "f4559463-102e-4a47-83a1-1a65a8604a3b",
   "metadata": {},
   "source": [
    "#### Cek Lebih Lanjut Kolom `year`"
   ]
  },
  {
   "cell_type": "code",
   "execution_count": 172,
   "id": "8a108ac6-d9f2-4d16-ba27-fe77b154289c",
   "metadata": {},
   "outputs": [
    {
     "name": "stdout",
     "output_type": "stream",
     "text": [
      "69474\n",
      "173615345\n",
      "8283363.0\n"
     ]
    }
   ],
   "source": [
    "print(df.estimated_population.min())\n",
    "print(df.estimated_population.max())\n",
    "print(df.estimated_population.median())"
   ]
  },
  {
   "cell_type": "markdown",
   "id": "396734da-2f9a-47b3-9ee1-7a7aec658973",
   "metadata": {},
   "source": [
    "Berdasarkan informasi statistik sekilas dari kolom data, tidak terdapat nilai anomali karena range data dalam tiap kolom sudah serupa."
   ]
  },
  {
   "cell_type": "markdown",
   "id": "0044de8c-4cea-4f3f-9556-067cd3d549e7",
   "metadata": {},
   "source": [
    "#### Cek Lebih Lanjut Kolom `tb_deaths` dan `tb_mortality`"
   ]
  },
  {
   "cell_type": "code",
   "execution_count": 257,
   "id": "f1a04123-facb-46b2-a71d-83efb9a77d05",
   "metadata": {},
   "outputs": [
    {
     "data": {
      "text/html": [
       "<div>\n",
       "<style scoped>\n",
       "    .dataframe tbody tr th:only-of-type {\n",
       "        vertical-align: middle;\n",
       "    }\n",
       "\n",
       "    .dataframe tbody tr th {\n",
       "        vertical-align: top;\n",
       "    }\n",
       "\n",
       "    .dataframe thead th {\n",
       "        text-align: right;\n",
       "    }\n",
       "</style>\n",
       "<table border=\"1\" class=\"dataframe\">\n",
       "  <thead>\n",
       "    <tr style=\"text-align: right;\">\n",
       "      <th></th>\n",
       "      <th>country</th>\n",
       "      <th>year</th>\n",
       "      <th>estimated_population</th>\n",
       "      <th>tb_prevalence</th>\n",
       "      <th>tb_incident</th>\n",
       "      <th>tb_mortality</th>\n",
       "      <th>tb_hiv_mortality</th>\n",
       "      <th>tb_deaths</th>\n",
       "      <th>tb_hiv_deaths</th>\n",
       "      <th>tb_hiv_positive</th>\n",
       "      <th>year_only</th>\n",
       "    </tr>\n",
       "  </thead>\n",
       "  <tbody>\n",
       "    <tr>\n",
       "      <th>901</th>\n",
       "      <td>Seychelles</td>\n",
       "      <td>2003-01-01</td>\n",
       "      <td>84218</td>\n",
       "      <td>19</td>\n",
       "      <td>12</td>\n",
       "      <td>0.0</td>\n",
       "      <td>0.0</td>\n",
       "      <td>0</td>\n",
       "      <td>0</td>\n",
       "      <td>0</td>\n",
       "      <td>2003</td>\n",
       "    </tr>\n",
       "    <tr>\n",
       "      <th>902</th>\n",
       "      <td>Seychelles</td>\n",
       "      <td>2004-01-01</td>\n",
       "      <td>85751</td>\n",
       "      <td>30</td>\n",
       "      <td>21</td>\n",
       "      <td>0.0</td>\n",
       "      <td>0.0</td>\n",
       "      <td>0</td>\n",
       "      <td>0</td>\n",
       "      <td>0</td>\n",
       "      <td>2004</td>\n",
       "    </tr>\n",
       "    <tr>\n",
       "      <th>908</th>\n",
       "      <td>Seychelles</td>\n",
       "      <td>2010-01-01</td>\n",
       "      <td>91208</td>\n",
       "      <td>28</td>\n",
       "      <td>20</td>\n",
       "      <td>0.0</td>\n",
       "      <td>0.0</td>\n",
       "      <td>0</td>\n",
       "      <td>0</td>\n",
       "      <td>0</td>\n",
       "      <td>2010</td>\n",
       "    </tr>\n",
       "    <tr>\n",
       "      <th>910</th>\n",
       "      <td>Seychelles</td>\n",
       "      <td>2012-01-01</td>\n",
       "      <td>92339</td>\n",
       "      <td>28</td>\n",
       "      <td>23</td>\n",
       "      <td>0.0</td>\n",
       "      <td>0.0</td>\n",
       "      <td>0</td>\n",
       "      <td>0</td>\n",
       "      <td>0</td>\n",
       "      <td>2012</td>\n",
       "    </tr>\n",
       "  </tbody>\n",
       "</table>\n",
       "</div>"
      ],
      "text/plain": [
       "        country       year  estimated_population  tb_prevalence  tb_incident  \\\n",
       "901  Seychelles 2003-01-01                 84218             19           12   \n",
       "902  Seychelles 2004-01-01                 85751             30           21   \n",
       "908  Seychelles 2010-01-01                 91208             28           20   \n",
       "910  Seychelles 2012-01-01                 92339             28           23   \n",
       "\n",
       "     tb_mortality  tb_hiv_mortality  tb_deaths  tb_hiv_deaths  \\\n",
       "901           0.0               0.0          0              0   \n",
       "902           0.0               0.0          0              0   \n",
       "908           0.0               0.0          0              0   \n",
       "910           0.0               0.0          0              0   \n",
       "\n",
       "     tb_hiv_positive  year_only  \n",
       "901                0       2003  \n",
       "902                0       2004  \n",
       "908                0       2010  \n",
       "910                0       2012  "
      ]
     },
     "execution_count": 257,
     "metadata": {},
     "output_type": "execute_result"
    }
   ],
   "source": [
    "df.query('tb_deaths == 0')"
   ]
  },
  {
   "cell_type": "code",
   "execution_count": 259,
   "id": "7eeceeaa-41ab-4903-817a-f4ec5ccd9fe8",
   "metadata": {},
   "outputs": [
    {
     "data": {
      "text/html": [
       "<div>\n",
       "<style scoped>\n",
       "    .dataframe tbody tr th:only-of-type {\n",
       "        vertical-align: middle;\n",
       "    }\n",
       "\n",
       "    .dataframe tbody tr th {\n",
       "        vertical-align: top;\n",
       "    }\n",
       "\n",
       "    .dataframe thead th {\n",
       "        text-align: right;\n",
       "    }\n",
       "</style>\n",
       "<table border=\"1\" class=\"dataframe\">\n",
       "  <thead>\n",
       "    <tr style=\"text-align: right;\">\n",
       "      <th></th>\n",
       "      <th>country</th>\n",
       "      <th>year</th>\n",
       "      <th>estimated_population</th>\n",
       "      <th>tb_prevalence</th>\n",
       "      <th>tb_incident</th>\n",
       "      <th>tb_mortality</th>\n",
       "      <th>tb_hiv_mortality</th>\n",
       "      <th>tb_deaths</th>\n",
       "      <th>tb_hiv_deaths</th>\n",
       "      <th>tb_hiv_positive</th>\n",
       "      <th>year_only</th>\n",
       "    </tr>\n",
       "  </thead>\n",
       "  <tbody>\n",
       "    <tr>\n",
       "      <th>240</th>\n",
       "      <td>Comoros</td>\n",
       "      <td>1990-01-01</td>\n",
       "      <td>412790</td>\n",
       "      <td>390</td>\n",
       "      <td>220</td>\n",
       "      <td>11.0</td>\n",
       "      <td>0.0</td>\n",
       "      <td>47</td>\n",
       "      <td>0</td>\n",
       "      <td>0</td>\n",
       "      <td>1990</td>\n",
       "    </tr>\n",
       "    <tr>\n",
       "      <th>241</th>\n",
       "      <td>Comoros</td>\n",
       "      <td>1991-01-01</td>\n",
       "      <td>422969</td>\n",
       "      <td>380</td>\n",
       "      <td>220</td>\n",
       "      <td>11.0</td>\n",
       "      <td>0.0</td>\n",
       "      <td>45</td>\n",
       "      <td>0</td>\n",
       "      <td>0</td>\n",
       "      <td>1991</td>\n",
       "    </tr>\n",
       "    <tr>\n",
       "      <th>242</th>\n",
       "      <td>Comoros</td>\n",
       "      <td>1992-01-01</td>\n",
       "      <td>433286</td>\n",
       "      <td>370</td>\n",
       "      <td>220</td>\n",
       "      <td>10.0</td>\n",
       "      <td>0.0</td>\n",
       "      <td>43</td>\n",
       "      <td>0</td>\n",
       "      <td>0</td>\n",
       "      <td>1992</td>\n",
       "    </tr>\n",
       "    <tr>\n",
       "      <th>243</th>\n",
       "      <td>Comoros</td>\n",
       "      <td>1993-01-01</td>\n",
       "      <td>443820</td>\n",
       "      <td>360</td>\n",
       "      <td>220</td>\n",
       "      <td>9.5</td>\n",
       "      <td>0.0</td>\n",
       "      <td>42</td>\n",
       "      <td>0</td>\n",
       "      <td>0</td>\n",
       "      <td>1993</td>\n",
       "    </tr>\n",
       "    <tr>\n",
       "      <th>244</th>\n",
       "      <td>Comoros</td>\n",
       "      <td>1994-01-01</td>\n",
       "      <td>454665</td>\n",
       "      <td>360</td>\n",
       "      <td>220</td>\n",
       "      <td>8.9</td>\n",
       "      <td>0.0</td>\n",
       "      <td>41</td>\n",
       "      <td>0</td>\n",
       "      <td>0</td>\n",
       "      <td>1994</td>\n",
       "    </tr>\n",
       "    <tr>\n",
       "      <th>245</th>\n",
       "      <td>Comoros</td>\n",
       "      <td>1995-01-01</td>\n",
       "      <td>465895</td>\n",
       "      <td>350</td>\n",
       "      <td>210</td>\n",
       "      <td>8.4</td>\n",
       "      <td>0.0</td>\n",
       "      <td>39</td>\n",
       "      <td>0</td>\n",
       "      <td>0</td>\n",
       "      <td>1995</td>\n",
       "    </tr>\n",
       "    <tr>\n",
       "      <th>246</th>\n",
       "      <td>Comoros</td>\n",
       "      <td>1996-01-01</td>\n",
       "      <td>477548</td>\n",
       "      <td>340</td>\n",
       "      <td>210</td>\n",
       "      <td>7.9</td>\n",
       "      <td>0.0</td>\n",
       "      <td>38</td>\n",
       "      <td>0</td>\n",
       "      <td>0</td>\n",
       "      <td>1996</td>\n",
       "    </tr>\n",
       "    <tr>\n",
       "      <th>247</th>\n",
       "      <td>Comoros</td>\n",
       "      <td>1997-01-01</td>\n",
       "      <td>489627</td>\n",
       "      <td>330</td>\n",
       "      <td>210</td>\n",
       "      <td>7.3</td>\n",
       "      <td>0.0</td>\n",
       "      <td>36</td>\n",
       "      <td>0</td>\n",
       "      <td>0</td>\n",
       "      <td>1997</td>\n",
       "    </tr>\n",
       "    <tr>\n",
       "      <th>248</th>\n",
       "      <td>Comoros</td>\n",
       "      <td>1998-01-01</td>\n",
       "      <td>502128</td>\n",
       "      <td>330</td>\n",
       "      <td>210</td>\n",
       "      <td>6.9</td>\n",
       "      <td>0.0</td>\n",
       "      <td>35</td>\n",
       "      <td>0</td>\n",
       "      <td>0</td>\n",
       "      <td>1998</td>\n",
       "    </tr>\n",
       "    <tr>\n",
       "      <th>249</th>\n",
       "      <td>Comoros</td>\n",
       "      <td>1999-01-01</td>\n",
       "      <td>515028</td>\n",
       "      <td>330</td>\n",
       "      <td>210</td>\n",
       "      <td>7.0</td>\n",
       "      <td>0.0</td>\n",
       "      <td>36</td>\n",
       "      <td>0</td>\n",
       "      <td>0</td>\n",
       "      <td>1999</td>\n",
       "    </tr>\n",
       "    <tr>\n",
       "      <th>250</th>\n",
       "      <td>Comoros</td>\n",
       "      <td>2000-01-01</td>\n",
       "      <td>528312</td>\n",
       "      <td>340</td>\n",
       "      <td>210</td>\n",
       "      <td>7.3</td>\n",
       "      <td>0.0</td>\n",
       "      <td>39</td>\n",
       "      <td>0</td>\n",
       "      <td>0</td>\n",
       "      <td>2000</td>\n",
       "    </tr>\n",
       "    <tr>\n",
       "      <th>251</th>\n",
       "      <td>Comoros</td>\n",
       "      <td>2001-01-01</td>\n",
       "      <td>541976</td>\n",
       "      <td>350</td>\n",
       "      <td>210</td>\n",
       "      <td>7.6</td>\n",
       "      <td>0.0</td>\n",
       "      <td>41</td>\n",
       "      <td>0</td>\n",
       "      <td>0</td>\n",
       "      <td>2001</td>\n",
       "    </tr>\n",
       "    <tr>\n",
       "      <th>252</th>\n",
       "      <td>Comoros</td>\n",
       "      <td>2002-01-01</td>\n",
       "      <td>556028</td>\n",
       "      <td>360</td>\n",
       "      <td>210</td>\n",
       "      <td>7.9</td>\n",
       "      <td>0.0</td>\n",
       "      <td>44</td>\n",
       "      <td>0</td>\n",
       "      <td>0</td>\n",
       "      <td>2002</td>\n",
       "    </tr>\n",
       "    <tr>\n",
       "      <th>253</th>\n",
       "      <td>Comoros</td>\n",
       "      <td>2003-01-01</td>\n",
       "      <td>570491</td>\n",
       "      <td>370</td>\n",
       "      <td>210</td>\n",
       "      <td>8.3</td>\n",
       "      <td>0.0</td>\n",
       "      <td>47</td>\n",
       "      <td>0</td>\n",
       "      <td>0</td>\n",
       "      <td>2003</td>\n",
       "    </tr>\n",
       "    <tr>\n",
       "      <th>254</th>\n",
       "      <td>Comoros</td>\n",
       "      <td>2004-01-01</td>\n",
       "      <td>585389</td>\n",
       "      <td>380</td>\n",
       "      <td>210</td>\n",
       "      <td>8.4</td>\n",
       "      <td>0.0</td>\n",
       "      <td>49</td>\n",
       "      <td>0</td>\n",
       "      <td>0</td>\n",
       "      <td>2004</td>\n",
       "    </tr>\n",
       "    <tr>\n",
       "      <th>255</th>\n",
       "      <td>Comoros</td>\n",
       "      <td>2005-01-01</td>\n",
       "      <td>600733</td>\n",
       "      <td>400</td>\n",
       "      <td>220</td>\n",
       "      <td>8.6</td>\n",
       "      <td>0.0</td>\n",
       "      <td>52</td>\n",
       "      <td>0</td>\n",
       "      <td>0</td>\n",
       "      <td>2005</td>\n",
       "    </tr>\n",
       "    <tr>\n",
       "      <th>256</th>\n",
       "      <td>Comoros</td>\n",
       "      <td>2006-01-01</td>\n",
       "      <td>616526</td>\n",
       "      <td>400</td>\n",
       "      <td>220</td>\n",
       "      <td>8.3</td>\n",
       "      <td>0.0</td>\n",
       "      <td>51</td>\n",
       "      <td>0</td>\n",
       "      <td>0</td>\n",
       "      <td>2006</td>\n",
       "    </tr>\n",
       "    <tr>\n",
       "      <th>257</th>\n",
       "      <td>Comoros</td>\n",
       "      <td>2007-01-01</td>\n",
       "      <td>632736</td>\n",
       "      <td>390</td>\n",
       "      <td>220</td>\n",
       "      <td>7.9</td>\n",
       "      <td>0.0</td>\n",
       "      <td>50</td>\n",
       "      <td>0</td>\n",
       "      <td>0</td>\n",
       "      <td>2007</td>\n",
       "    </tr>\n",
       "    <tr>\n",
       "      <th>258</th>\n",
       "      <td>Comoros</td>\n",
       "      <td>2008-01-01</td>\n",
       "      <td>649291</td>\n",
       "      <td>400</td>\n",
       "      <td>220</td>\n",
       "      <td>7.8</td>\n",
       "      <td>0.0</td>\n",
       "      <td>50</td>\n",
       "      <td>0</td>\n",
       "      <td>0</td>\n",
       "      <td>2008</td>\n",
       "    </tr>\n",
       "    <tr>\n",
       "      <th>259</th>\n",
       "      <td>Comoros</td>\n",
       "      <td>2009-01-01</td>\n",
       "      <td>666097</td>\n",
       "      <td>400</td>\n",
       "      <td>220</td>\n",
       "      <td>7.4</td>\n",
       "      <td>0.0</td>\n",
       "      <td>50</td>\n",
       "      <td>0</td>\n",
       "      <td>0</td>\n",
       "      <td>2009</td>\n",
       "    </tr>\n",
       "    <tr>\n",
       "      <th>260</th>\n",
       "      <td>Comoros</td>\n",
       "      <td>2010-01-01</td>\n",
       "      <td>683081</td>\n",
       "      <td>410</td>\n",
       "      <td>230</td>\n",
       "      <td>7.4</td>\n",
       "      <td>0.0</td>\n",
       "      <td>51</td>\n",
       "      <td>0</td>\n",
       "      <td>0</td>\n",
       "      <td>2010</td>\n",
       "    </tr>\n",
       "    <tr>\n",
       "      <th>261</th>\n",
       "      <td>Comoros</td>\n",
       "      <td>2011-01-01</td>\n",
       "      <td>700216</td>\n",
       "      <td>430</td>\n",
       "      <td>240</td>\n",
       "      <td>7.8</td>\n",
       "      <td>0.0</td>\n",
       "      <td>55</td>\n",
       "      <td>0</td>\n",
       "      <td>0</td>\n",
       "      <td>2011</td>\n",
       "    </tr>\n",
       "    <tr>\n",
       "      <th>262</th>\n",
       "      <td>Comoros</td>\n",
       "      <td>2012-01-01</td>\n",
       "      <td>717503</td>\n",
       "      <td>440</td>\n",
       "      <td>250</td>\n",
       "      <td>7.8</td>\n",
       "      <td>0.0</td>\n",
       "      <td>56</td>\n",
       "      <td>0</td>\n",
       "      <td>0</td>\n",
       "      <td>2012</td>\n",
       "    </tr>\n",
       "    <tr>\n",
       "      <th>263</th>\n",
       "      <td>Comoros</td>\n",
       "      <td>2013-01-01</td>\n",
       "      <td>734917</td>\n",
       "      <td>450</td>\n",
       "      <td>250</td>\n",
       "      <td>7.8</td>\n",
       "      <td>0.0</td>\n",
       "      <td>58</td>\n",
       "      <td>0</td>\n",
       "      <td>0</td>\n",
       "      <td>2013</td>\n",
       "    </tr>\n",
       "    <tr>\n",
       "      <th>840</th>\n",
       "      <td>Sao Tome and Principe</td>\n",
       "      <td>1990-01-01</td>\n",
       "      <td>117395</td>\n",
       "      <td>300</td>\n",
       "      <td>160</td>\n",
       "      <td>37.0</td>\n",
       "      <td>0.0</td>\n",
       "      <td>44</td>\n",
       "      <td>0</td>\n",
       "      <td>0</td>\n",
       "      <td>1990</td>\n",
       "    </tr>\n",
       "    <tr>\n",
       "      <th>888</th>\n",
       "      <td>Seychelles</td>\n",
       "      <td>1990-01-01</td>\n",
       "      <td>69474</td>\n",
       "      <td>79</td>\n",
       "      <td>47</td>\n",
       "      <td>1.5</td>\n",
       "      <td>0.0</td>\n",
       "      <td>1</td>\n",
       "      <td>0</td>\n",
       "      <td>0</td>\n",
       "      <td>1990</td>\n",
       "    </tr>\n",
       "    <tr>\n",
       "      <th>889</th>\n",
       "      <td>Seychelles</td>\n",
       "      <td>1991-01-01</td>\n",
       "      <td>70307</td>\n",
       "      <td>27</td>\n",
       "      <td>23</td>\n",
       "      <td>1.5</td>\n",
       "      <td>0.0</td>\n",
       "      <td>1</td>\n",
       "      <td>0</td>\n",
       "      <td>0</td>\n",
       "      <td>1991</td>\n",
       "    </tr>\n",
       "    <tr>\n",
       "      <th>890</th>\n",
       "      <td>Seychelles</td>\n",
       "      <td>1992-01-01</td>\n",
       "      <td>71489</td>\n",
       "      <td>20</td>\n",
       "      <td>12</td>\n",
       "      <td>1.5</td>\n",
       "      <td>0.0</td>\n",
       "      <td>1</td>\n",
       "      <td>0</td>\n",
       "      <td>0</td>\n",
       "      <td>1992</td>\n",
       "    </tr>\n",
       "    <tr>\n",
       "      <th>891</th>\n",
       "      <td>Seychelles</td>\n",
       "      <td>1993-01-01</td>\n",
       "      <td>72873</td>\n",
       "      <td>17</td>\n",
       "      <td>5</td>\n",
       "      <td>1.5</td>\n",
       "      <td>0.0</td>\n",
       "      <td>1</td>\n",
       "      <td>0</td>\n",
       "      <td>0</td>\n",
       "      <td>1993</td>\n",
       "    </tr>\n",
       "    <tr>\n",
       "      <th>892</th>\n",
       "      <td>Seychelles</td>\n",
       "      <td>1994-01-01</td>\n",
       "      <td>74239</td>\n",
       "      <td>15</td>\n",
       "      <td>7</td>\n",
       "      <td>1.5</td>\n",
       "      <td>0.0</td>\n",
       "      <td>1</td>\n",
       "      <td>0</td>\n",
       "      <td>0</td>\n",
       "      <td>1994</td>\n",
       "    </tr>\n",
       "    <tr>\n",
       "      <th>893</th>\n",
       "      <td>Seychelles</td>\n",
       "      <td>1995-01-01</td>\n",
       "      <td>75433</td>\n",
       "      <td>13</td>\n",
       "      <td>9</td>\n",
       "      <td>1.5</td>\n",
       "      <td>0.0</td>\n",
       "      <td>1</td>\n",
       "      <td>0</td>\n",
       "      <td>0</td>\n",
       "      <td>1995</td>\n",
       "    </tr>\n",
       "    <tr>\n",
       "      <th>894</th>\n",
       "      <td>Seychelles</td>\n",
       "      <td>1996-01-01</td>\n",
       "      <td>76391</td>\n",
       "      <td>26</td>\n",
       "      <td>17</td>\n",
       "      <td>1.5</td>\n",
       "      <td>0.0</td>\n",
       "      <td>1</td>\n",
       "      <td>0</td>\n",
       "      <td>0</td>\n",
       "      <td>1996</td>\n",
       "    </tr>\n",
       "    <tr>\n",
       "      <th>895</th>\n",
       "      <td>Seychelles</td>\n",
       "      <td>1997-01-01</td>\n",
       "      <td>77173</td>\n",
       "      <td>32</td>\n",
       "      <td>21</td>\n",
       "      <td>1.5</td>\n",
       "      <td>0.0</td>\n",
       "      <td>1</td>\n",
       "      <td>0</td>\n",
       "      <td>0</td>\n",
       "      <td>1997</td>\n",
       "    </tr>\n",
       "    <tr>\n",
       "      <th>896</th>\n",
       "      <td>Seychelles</td>\n",
       "      <td>1998-01-01</td>\n",
       "      <td>77891</td>\n",
       "      <td>18</td>\n",
       "      <td>13</td>\n",
       "      <td>1.5</td>\n",
       "      <td>0.0</td>\n",
       "      <td>1</td>\n",
       "      <td>0</td>\n",
       "      <td>0</td>\n",
       "      <td>1998</td>\n",
       "    </tr>\n",
       "    <tr>\n",
       "      <th>897</th>\n",
       "      <td>Seychelles</td>\n",
       "      <td>1999-01-01</td>\n",
       "      <td>78720</td>\n",
       "      <td>36</td>\n",
       "      <td>24</td>\n",
       "      <td>1.5</td>\n",
       "      <td>0.0</td>\n",
       "      <td>1</td>\n",
       "      <td>0</td>\n",
       "      <td>0</td>\n",
       "      <td>1999</td>\n",
       "    </tr>\n",
       "    <tr>\n",
       "      <th>898</th>\n",
       "      <td>Seychelles</td>\n",
       "      <td>2000-01-01</td>\n",
       "      <td>79774</td>\n",
       "      <td>31</td>\n",
       "      <td>23</td>\n",
       "      <td>1.5</td>\n",
       "      <td>0.0</td>\n",
       "      <td>1</td>\n",
       "      <td>0</td>\n",
       "      <td>0</td>\n",
       "      <td>2000</td>\n",
       "    </tr>\n",
       "    <tr>\n",
       "      <th>899</th>\n",
       "      <td>Seychelles</td>\n",
       "      <td>2001-01-01</td>\n",
       "      <td>81093</td>\n",
       "      <td>27</td>\n",
       "      <td>22</td>\n",
       "      <td>2.6</td>\n",
       "      <td>0.0</td>\n",
       "      <td>2</td>\n",
       "      <td>0</td>\n",
       "      <td>0</td>\n",
       "      <td>2001</td>\n",
       "    </tr>\n",
       "    <tr>\n",
       "      <th>900</th>\n",
       "      <td>Seychelles</td>\n",
       "      <td>2002-01-01</td>\n",
       "      <td>82611</td>\n",
       "      <td>57</td>\n",
       "      <td>33</td>\n",
       "      <td>5.1</td>\n",
       "      <td>0.0</td>\n",
       "      <td>4</td>\n",
       "      <td>0</td>\n",
       "      <td>0</td>\n",
       "      <td>2002</td>\n",
       "    </tr>\n",
       "    <tr>\n",
       "      <th>901</th>\n",
       "      <td>Seychelles</td>\n",
       "      <td>2003-01-01</td>\n",
       "      <td>84218</td>\n",
       "      <td>19</td>\n",
       "      <td>12</td>\n",
       "      <td>0.0</td>\n",
       "      <td>0.0</td>\n",
       "      <td>0</td>\n",
       "      <td>0</td>\n",
       "      <td>0</td>\n",
       "      <td>2003</td>\n",
       "    </tr>\n",
       "    <tr>\n",
       "      <th>902</th>\n",
       "      <td>Seychelles</td>\n",
       "      <td>2004-01-01</td>\n",
       "      <td>85751</td>\n",
       "      <td>30</td>\n",
       "      <td>21</td>\n",
       "      <td>0.0</td>\n",
       "      <td>0.0</td>\n",
       "      <td>0</td>\n",
       "      <td>0</td>\n",
       "      <td>0</td>\n",
       "      <td>2004</td>\n",
       "    </tr>\n",
       "    <tr>\n",
       "      <th>903</th>\n",
       "      <td>Seychelles</td>\n",
       "      <td>2005-01-01</td>\n",
       "      <td>87094</td>\n",
       "      <td>20</td>\n",
       "      <td>16</td>\n",
       "      <td>2.5</td>\n",
       "      <td>0.0</td>\n",
       "      <td>2</td>\n",
       "      <td>0</td>\n",
       "      <td>0</td>\n",
       "      <td>2005</td>\n",
       "    </tr>\n",
       "    <tr>\n",
       "      <th>904</th>\n",
       "      <td>Seychelles</td>\n",
       "      <td>2006-01-01</td>\n",
       "      <td>88210</td>\n",
       "      <td>14</td>\n",
       "      <td>12</td>\n",
       "      <td>1.2</td>\n",
       "      <td>0.0</td>\n",
       "      <td>1</td>\n",
       "      <td>0</td>\n",
       "      <td>0</td>\n",
       "      <td>2006</td>\n",
       "    </tr>\n",
       "    <tr>\n",
       "      <th>905</th>\n",
       "      <td>Seychelles</td>\n",
       "      <td>2007-01-01</td>\n",
       "      <td>89134</td>\n",
       "      <td>13</td>\n",
       "      <td>9</td>\n",
       "      <td>1.2</td>\n",
       "      <td>0.0</td>\n",
       "      <td>1</td>\n",
       "      <td>0</td>\n",
       "      <td>0</td>\n",
       "      <td>2007</td>\n",
       "    </tr>\n",
       "    <tr>\n",
       "      <th>906</th>\n",
       "      <td>Seychelles</td>\n",
       "      <td>2008-01-01</td>\n",
       "      <td>89902</td>\n",
       "      <td>14</td>\n",
       "      <td>6</td>\n",
       "      <td>2.3</td>\n",
       "      <td>0.0</td>\n",
       "      <td>2</td>\n",
       "      <td>0</td>\n",
       "      <td>0</td>\n",
       "      <td>2008</td>\n",
       "    </tr>\n",
       "    <tr>\n",
       "      <th>907</th>\n",
       "      <td>Seychelles</td>\n",
       "      <td>2009-01-01</td>\n",
       "      <td>90577</td>\n",
       "      <td>24</td>\n",
       "      <td>17</td>\n",
       "      <td>2.3</td>\n",
       "      <td>0.0</td>\n",
       "      <td>2</td>\n",
       "      <td>0</td>\n",
       "      <td>0</td>\n",
       "      <td>2009</td>\n",
       "    </tr>\n",
       "    <tr>\n",
       "      <th>908</th>\n",
       "      <td>Seychelles</td>\n",
       "      <td>2010-01-01</td>\n",
       "      <td>91208</td>\n",
       "      <td>28</td>\n",
       "      <td>20</td>\n",
       "      <td>0.0</td>\n",
       "      <td>0.0</td>\n",
       "      <td>0</td>\n",
       "      <td>0</td>\n",
       "      <td>0</td>\n",
       "      <td>2010</td>\n",
       "    </tr>\n",
       "    <tr>\n",
       "      <th>909</th>\n",
       "      <td>Seychelles</td>\n",
       "      <td>2011-01-01</td>\n",
       "      <td>91799</td>\n",
       "      <td>36</td>\n",
       "      <td>24</td>\n",
       "      <td>1.1</td>\n",
       "      <td>0.0</td>\n",
       "      <td>1</td>\n",
       "      <td>0</td>\n",
       "      <td>0</td>\n",
       "      <td>2011</td>\n",
       "    </tr>\n",
       "    <tr>\n",
       "      <th>910</th>\n",
       "      <td>Seychelles</td>\n",
       "      <td>2012-01-01</td>\n",
       "      <td>92339</td>\n",
       "      <td>28</td>\n",
       "      <td>23</td>\n",
       "      <td>0.0</td>\n",
       "      <td>0.0</td>\n",
       "      <td>0</td>\n",
       "      <td>0</td>\n",
       "      <td>0</td>\n",
       "      <td>2012</td>\n",
       "    </tr>\n",
       "    <tr>\n",
       "      <th>911</th>\n",
       "      <td>Seychelles</td>\n",
       "      <td>2013-01-01</td>\n",
       "      <td>92838</td>\n",
       "      <td>34</td>\n",
       "      <td>28</td>\n",
       "      <td>1.5</td>\n",
       "      <td>0.0</td>\n",
       "      <td>1</td>\n",
       "      <td>0</td>\n",
       "      <td>0</td>\n",
       "      <td>2013</td>\n",
       "    </tr>\n",
       "  </tbody>\n",
       "</table>\n",
       "</div>"
      ],
      "text/plain": [
       "                   country       year  estimated_population  tb_prevalence  \\\n",
       "240                Comoros 1990-01-01                412790            390   \n",
       "241                Comoros 1991-01-01                422969            380   \n",
       "242                Comoros 1992-01-01                433286            370   \n",
       "243                Comoros 1993-01-01                443820            360   \n",
       "244                Comoros 1994-01-01                454665            360   \n",
       "245                Comoros 1995-01-01                465895            350   \n",
       "246                Comoros 1996-01-01                477548            340   \n",
       "247                Comoros 1997-01-01                489627            330   \n",
       "248                Comoros 1998-01-01                502128            330   \n",
       "249                Comoros 1999-01-01                515028            330   \n",
       "250                Comoros 2000-01-01                528312            340   \n",
       "251                Comoros 2001-01-01                541976            350   \n",
       "252                Comoros 2002-01-01                556028            360   \n",
       "253                Comoros 2003-01-01                570491            370   \n",
       "254                Comoros 2004-01-01                585389            380   \n",
       "255                Comoros 2005-01-01                600733            400   \n",
       "256                Comoros 2006-01-01                616526            400   \n",
       "257                Comoros 2007-01-01                632736            390   \n",
       "258                Comoros 2008-01-01                649291            400   \n",
       "259                Comoros 2009-01-01                666097            400   \n",
       "260                Comoros 2010-01-01                683081            410   \n",
       "261                Comoros 2011-01-01                700216            430   \n",
       "262                Comoros 2012-01-01                717503            440   \n",
       "263                Comoros 2013-01-01                734917            450   \n",
       "840  Sao Tome and Principe 1990-01-01                117395            300   \n",
       "888             Seychelles 1990-01-01                 69474             79   \n",
       "889             Seychelles 1991-01-01                 70307             27   \n",
       "890             Seychelles 1992-01-01                 71489             20   \n",
       "891             Seychelles 1993-01-01                 72873             17   \n",
       "892             Seychelles 1994-01-01                 74239             15   \n",
       "893             Seychelles 1995-01-01                 75433             13   \n",
       "894             Seychelles 1996-01-01                 76391             26   \n",
       "895             Seychelles 1997-01-01                 77173             32   \n",
       "896             Seychelles 1998-01-01                 77891             18   \n",
       "897             Seychelles 1999-01-01                 78720             36   \n",
       "898             Seychelles 2000-01-01                 79774             31   \n",
       "899             Seychelles 2001-01-01                 81093             27   \n",
       "900             Seychelles 2002-01-01                 82611             57   \n",
       "901             Seychelles 2003-01-01                 84218             19   \n",
       "902             Seychelles 2004-01-01                 85751             30   \n",
       "903             Seychelles 2005-01-01                 87094             20   \n",
       "904             Seychelles 2006-01-01                 88210             14   \n",
       "905             Seychelles 2007-01-01                 89134             13   \n",
       "906             Seychelles 2008-01-01                 89902             14   \n",
       "907             Seychelles 2009-01-01                 90577             24   \n",
       "908             Seychelles 2010-01-01                 91208             28   \n",
       "909             Seychelles 2011-01-01                 91799             36   \n",
       "910             Seychelles 2012-01-01                 92339             28   \n",
       "911             Seychelles 2013-01-01                 92838             34   \n",
       "\n",
       "     tb_incident  tb_mortality  tb_hiv_mortality  tb_deaths  tb_hiv_deaths  \\\n",
       "240          220          11.0               0.0         47              0   \n",
       "241          220          11.0               0.0         45              0   \n",
       "242          220          10.0               0.0         43              0   \n",
       "243          220           9.5               0.0         42              0   \n",
       "244          220           8.9               0.0         41              0   \n",
       "245          210           8.4               0.0         39              0   \n",
       "246          210           7.9               0.0         38              0   \n",
       "247          210           7.3               0.0         36              0   \n",
       "248          210           6.9               0.0         35              0   \n",
       "249          210           7.0               0.0         36              0   \n",
       "250          210           7.3               0.0         39              0   \n",
       "251          210           7.6               0.0         41              0   \n",
       "252          210           7.9               0.0         44              0   \n",
       "253          210           8.3               0.0         47              0   \n",
       "254          210           8.4               0.0         49              0   \n",
       "255          220           8.6               0.0         52              0   \n",
       "256          220           8.3               0.0         51              0   \n",
       "257          220           7.9               0.0         50              0   \n",
       "258          220           7.8               0.0         50              0   \n",
       "259          220           7.4               0.0         50              0   \n",
       "260          230           7.4               0.0         51              0   \n",
       "261          240           7.8               0.0         55              0   \n",
       "262          250           7.8               0.0         56              0   \n",
       "263          250           7.8               0.0         58              0   \n",
       "840          160          37.0               0.0         44              0   \n",
       "888           47           1.5               0.0          1              0   \n",
       "889           23           1.5               0.0          1              0   \n",
       "890           12           1.5               0.0          1              0   \n",
       "891            5           1.5               0.0          1              0   \n",
       "892            7           1.5               0.0          1              0   \n",
       "893            9           1.5               0.0          1              0   \n",
       "894           17           1.5               0.0          1              0   \n",
       "895           21           1.5               0.0          1              0   \n",
       "896           13           1.5               0.0          1              0   \n",
       "897           24           1.5               0.0          1              0   \n",
       "898           23           1.5               0.0          1              0   \n",
       "899           22           2.6               0.0          2              0   \n",
       "900           33           5.1               0.0          4              0   \n",
       "901           12           0.0               0.0          0              0   \n",
       "902           21           0.0               0.0          0              0   \n",
       "903           16           2.5               0.0          2              0   \n",
       "904           12           1.2               0.0          1              0   \n",
       "905            9           1.2               0.0          1              0   \n",
       "906            6           2.3               0.0          2              0   \n",
       "907           17           2.3               0.0          2              0   \n",
       "908           20           0.0               0.0          0              0   \n",
       "909           24           1.1               0.0          1              0   \n",
       "910           23           0.0               0.0          0              0   \n",
       "911           28           1.5               0.0          1              0   \n",
       "\n",
       "     tb_hiv_positive  year_only  \n",
       "240                0       1990  \n",
       "241                0       1991  \n",
       "242                0       1992  \n",
       "243                0       1993  \n",
       "244                0       1994  \n",
       "245                0       1995  \n",
       "246                0       1996  \n",
       "247                0       1997  \n",
       "248                0       1998  \n",
       "249                0       1999  \n",
       "250                0       2000  \n",
       "251                0       2001  \n",
       "252                0       2002  \n",
       "253                0       2003  \n",
       "254                0       2004  \n",
       "255                0       2005  \n",
       "256                0       2006  \n",
       "257                0       2007  \n",
       "258                0       2008  \n",
       "259                0       2009  \n",
       "260                0       2010  \n",
       "261                0       2011  \n",
       "262                0       2012  \n",
       "263                0       2013  \n",
       "840                0       1990  \n",
       "888                0       1990  \n",
       "889                0       1991  \n",
       "890                0       1992  \n",
       "891                0       1993  \n",
       "892                0       1994  \n",
       "893                0       1995  \n",
       "894                0       1996  \n",
       "895                0       1997  \n",
       "896                0       1998  \n",
       "897                0       1999  \n",
       "898                0       2000  \n",
       "899                0       2001  \n",
       "900                0       2002  \n",
       "901                0       2003  \n",
       "902                0       2004  \n",
       "903                0       2005  \n",
       "904                0       2006  \n",
       "905                0       2007  \n",
       "906                0       2008  \n",
       "907                0       2009  \n",
       "908                0       2010  \n",
       "909                0       2011  \n",
       "910                0       2012  \n",
       "911                0       2013  "
      ]
     },
     "execution_count": 259,
     "metadata": {},
     "output_type": "execute_result"
    }
   ],
   "source": [
    "df.query('tb_hiv_deaths == 0')"
   ]
  },
  {
   "cell_type": "code",
   "execution_count": 258,
   "id": "b4c691ea-8537-46db-a650-db36edb21ecd",
   "metadata": {},
   "outputs": [
    {
     "data": {
      "text/html": [
       "<div>\n",
       "<style scoped>\n",
       "    .dataframe tbody tr th:only-of-type {\n",
       "        vertical-align: middle;\n",
       "    }\n",
       "\n",
       "    .dataframe tbody tr th {\n",
       "        vertical-align: top;\n",
       "    }\n",
       "\n",
       "    .dataframe thead th {\n",
       "        text-align: right;\n",
       "    }\n",
       "</style>\n",
       "<table border=\"1\" class=\"dataframe\">\n",
       "  <thead>\n",
       "    <tr style=\"text-align: right;\">\n",
       "      <th></th>\n",
       "      <th>country</th>\n",
       "      <th>year</th>\n",
       "      <th>estimated_population</th>\n",
       "      <th>tb_prevalence</th>\n",
       "      <th>tb_incident</th>\n",
       "      <th>tb_mortality</th>\n",
       "      <th>tb_hiv_mortality</th>\n",
       "      <th>tb_deaths</th>\n",
       "      <th>tb_hiv_deaths</th>\n",
       "      <th>tb_hiv_positive</th>\n",
       "      <th>year_only</th>\n",
       "    </tr>\n",
       "  </thead>\n",
       "  <tbody>\n",
       "    <tr>\n",
       "      <th>901</th>\n",
       "      <td>Seychelles</td>\n",
       "      <td>2003-01-01</td>\n",
       "      <td>84218</td>\n",
       "      <td>19</td>\n",
       "      <td>12</td>\n",
       "      <td>0.0</td>\n",
       "      <td>0.0</td>\n",
       "      <td>0</td>\n",
       "      <td>0</td>\n",
       "      <td>0</td>\n",
       "      <td>2003</td>\n",
       "    </tr>\n",
       "    <tr>\n",
       "      <th>902</th>\n",
       "      <td>Seychelles</td>\n",
       "      <td>2004-01-01</td>\n",
       "      <td>85751</td>\n",
       "      <td>30</td>\n",
       "      <td>21</td>\n",
       "      <td>0.0</td>\n",
       "      <td>0.0</td>\n",
       "      <td>0</td>\n",
       "      <td>0</td>\n",
       "      <td>0</td>\n",
       "      <td>2004</td>\n",
       "    </tr>\n",
       "    <tr>\n",
       "      <th>908</th>\n",
       "      <td>Seychelles</td>\n",
       "      <td>2010-01-01</td>\n",
       "      <td>91208</td>\n",
       "      <td>28</td>\n",
       "      <td>20</td>\n",
       "      <td>0.0</td>\n",
       "      <td>0.0</td>\n",
       "      <td>0</td>\n",
       "      <td>0</td>\n",
       "      <td>0</td>\n",
       "      <td>2010</td>\n",
       "    </tr>\n",
       "    <tr>\n",
       "      <th>910</th>\n",
       "      <td>Seychelles</td>\n",
       "      <td>2012-01-01</td>\n",
       "      <td>92339</td>\n",
       "      <td>28</td>\n",
       "      <td>23</td>\n",
       "      <td>0.0</td>\n",
       "      <td>0.0</td>\n",
       "      <td>0</td>\n",
       "      <td>0</td>\n",
       "      <td>0</td>\n",
       "      <td>2012</td>\n",
       "    </tr>\n",
       "  </tbody>\n",
       "</table>\n",
       "</div>"
      ],
      "text/plain": [
       "        country       year  estimated_population  tb_prevalence  tb_incident  \\\n",
       "901  Seychelles 2003-01-01                 84218             19           12   \n",
       "902  Seychelles 2004-01-01                 85751             30           21   \n",
       "908  Seychelles 2010-01-01                 91208             28           20   \n",
       "910  Seychelles 2012-01-01                 92339             28           23   \n",
       "\n",
       "     tb_mortality  tb_hiv_mortality  tb_deaths  tb_hiv_deaths  \\\n",
       "901           0.0               0.0          0              0   \n",
       "902           0.0               0.0          0              0   \n",
       "908           0.0               0.0          0              0   \n",
       "910           0.0               0.0          0              0   \n",
       "\n",
       "     tb_hiv_positive  year_only  \n",
       "901                0       2003  \n",
       "902                0       2004  \n",
       "908                0       2010  \n",
       "910                0       2012  "
      ]
     },
     "execution_count": 258,
     "metadata": {},
     "output_type": "execute_result"
    }
   ],
   "source": [
    "df.query('tb_mortality == 0')"
   ]
  },
  {
   "cell_type": "markdown",
   "id": "b750ef78-0cdd-4b10-a59e-a9868c73ed59",
   "metadata": {},
   "source": [
    "### Cek Nama Negara\n",
    "Melakukan perbandingan secara manual dari https://www.afro.who.int/countries serta melakukan google search untuk memastikan lebih lanjut"
   ]
  },
  {
   "cell_type": "code",
   "execution_count": 238,
   "id": "fa28211b-976c-45e0-9c3d-a8b577a1414c",
   "metadata": {},
   "outputs": [
    {
     "data": {
      "text/html": [
       "<div>\n",
       "<style scoped>\n",
       "    .dataframe tbody tr th:only-of-type {\n",
       "        vertical-align: middle;\n",
       "    }\n",
       "\n",
       "    .dataframe tbody tr th {\n",
       "        vertical-align: top;\n",
       "    }\n",
       "\n",
       "    .dataframe thead th {\n",
       "        text-align: right;\n",
       "    }\n",
       "</style>\n",
       "<table border=\"1\" class=\"dataframe\">\n",
       "  <thead>\n",
       "    <tr style=\"text-align: right;\">\n",
       "      <th></th>\n",
       "      <th>count</th>\n",
       "    </tr>\n",
       "    <tr>\n",
       "      <th>country</th>\n",
       "      <th></th>\n",
       "    </tr>\n",
       "  </thead>\n",
       "  <tbody>\n",
       "    <tr>\n",
       "      <th>Algeria</th>\n",
       "      <td>24</td>\n",
       "    </tr>\n",
       "    <tr>\n",
       "      <th>Angola</th>\n",
       "      <td>24</td>\n",
       "    </tr>\n",
       "    <tr>\n",
       "      <th>Benin</th>\n",
       "      <td>24</td>\n",
       "    </tr>\n",
       "    <tr>\n",
       "      <th>Botswana</th>\n",
       "      <td>24</td>\n",
       "    </tr>\n",
       "    <tr>\n",
       "      <th>Burkina Faso</th>\n",
       "      <td>24</td>\n",
       "    </tr>\n",
       "    <tr>\n",
       "      <th>Burundi</th>\n",
       "      <td>24</td>\n",
       "    </tr>\n",
       "    <tr>\n",
       "      <th>Cabo Verde</th>\n",
       "      <td>24</td>\n",
       "    </tr>\n",
       "    <tr>\n",
       "      <th>Cameroon</th>\n",
       "      <td>24</td>\n",
       "    </tr>\n",
       "    <tr>\n",
       "      <th>Central African Republic</th>\n",
       "      <td>24</td>\n",
       "    </tr>\n",
       "    <tr>\n",
       "      <th>Chad</th>\n",
       "      <td>24</td>\n",
       "    </tr>\n",
       "    <tr>\n",
       "      <th>Comoros</th>\n",
       "      <td>24</td>\n",
       "    </tr>\n",
       "    <tr>\n",
       "      <th>Congo</th>\n",
       "      <td>24</td>\n",
       "    </tr>\n",
       "    <tr>\n",
       "      <th>Côte d'Ivoire</th>\n",
       "      <td>24</td>\n",
       "    </tr>\n",
       "    <tr>\n",
       "      <th>Democratic Republic of the Congo</th>\n",
       "      <td>24</td>\n",
       "    </tr>\n",
       "    <tr>\n",
       "      <th>Equatorial Guinea</th>\n",
       "      <td>24</td>\n",
       "    </tr>\n",
       "    <tr>\n",
       "      <th>Eritrea</th>\n",
       "      <td>24</td>\n",
       "    </tr>\n",
       "    <tr>\n",
       "      <th>Ethiopia</th>\n",
       "      <td>24</td>\n",
       "    </tr>\n",
       "    <tr>\n",
       "      <th>Gabon</th>\n",
       "      <td>24</td>\n",
       "    </tr>\n",
       "    <tr>\n",
       "      <th>Gambia</th>\n",
       "      <td>24</td>\n",
       "    </tr>\n",
       "    <tr>\n",
       "      <th>Ghana</th>\n",
       "      <td>24</td>\n",
       "    </tr>\n",
       "    <tr>\n",
       "      <th>Guinea</th>\n",
       "      <td>24</td>\n",
       "    </tr>\n",
       "    <tr>\n",
       "      <th>Guinea-Bissau</th>\n",
       "      <td>24</td>\n",
       "    </tr>\n",
       "    <tr>\n",
       "      <th>Kenya</th>\n",
       "      <td>24</td>\n",
       "    </tr>\n",
       "    <tr>\n",
       "      <th>Lesotho</th>\n",
       "      <td>24</td>\n",
       "    </tr>\n",
       "    <tr>\n",
       "      <th>Liberia</th>\n",
       "      <td>24</td>\n",
       "    </tr>\n",
       "    <tr>\n",
       "      <th>Madagascar</th>\n",
       "      <td>24</td>\n",
       "    </tr>\n",
       "    <tr>\n",
       "      <th>Malawi</th>\n",
       "      <td>24</td>\n",
       "    </tr>\n",
       "    <tr>\n",
       "      <th>Mali</th>\n",
       "      <td>24</td>\n",
       "    </tr>\n",
       "    <tr>\n",
       "      <th>Mauritania</th>\n",
       "      <td>24</td>\n",
       "    </tr>\n",
       "    <tr>\n",
       "      <th>Mauritius</th>\n",
       "      <td>24</td>\n",
       "    </tr>\n",
       "    <tr>\n",
       "      <th>Mozambique</th>\n",
       "      <td>24</td>\n",
       "    </tr>\n",
       "    <tr>\n",
       "      <th>Namibia</th>\n",
       "      <td>24</td>\n",
       "    </tr>\n",
       "    <tr>\n",
       "      <th>Niger</th>\n",
       "      <td>24</td>\n",
       "    </tr>\n",
       "    <tr>\n",
       "      <th>Nigeria</th>\n",
       "      <td>24</td>\n",
       "    </tr>\n",
       "    <tr>\n",
       "      <th>Rwanda</th>\n",
       "      <td>24</td>\n",
       "    </tr>\n",
       "    <tr>\n",
       "      <th>Sao Tome and Principe</th>\n",
       "      <td>24</td>\n",
       "    </tr>\n",
       "    <tr>\n",
       "      <th>Senegal</th>\n",
       "      <td>24</td>\n",
       "    </tr>\n",
       "    <tr>\n",
       "      <th>Seychelles</th>\n",
       "      <td>24</td>\n",
       "    </tr>\n",
       "    <tr>\n",
       "      <th>Sierra Leone</th>\n",
       "      <td>24</td>\n",
       "    </tr>\n",
       "    <tr>\n",
       "      <th>South Africa</th>\n",
       "      <td>24</td>\n",
       "    </tr>\n",
       "    <tr>\n",
       "      <th>Swaziland</th>\n",
       "      <td>24</td>\n",
       "    </tr>\n",
       "    <tr>\n",
       "      <th>Togo</th>\n",
       "      <td>24</td>\n",
       "    </tr>\n",
       "    <tr>\n",
       "      <th>Uganda</th>\n",
       "      <td>24</td>\n",
       "    </tr>\n",
       "    <tr>\n",
       "      <th>United Republic of Tanzania</th>\n",
       "      <td>24</td>\n",
       "    </tr>\n",
       "    <tr>\n",
       "      <th>Zambia</th>\n",
       "      <td>24</td>\n",
       "    </tr>\n",
       "    <tr>\n",
       "      <th>Zimbabwe</th>\n",
       "      <td>24</td>\n",
       "    </tr>\n",
       "  </tbody>\n",
       "</table>\n",
       "</div>"
      ],
      "text/plain": [
       "                                  count\n",
       "country                                \n",
       "Algeria                              24\n",
       "Angola                               24\n",
       "Benin                                24\n",
       "Botswana                             24\n",
       "Burkina Faso                         24\n",
       "Burundi                              24\n",
       "Cabo Verde                           24\n",
       "Cameroon                             24\n",
       "Central African Republic             24\n",
       "Chad                                 24\n",
       "Comoros                              24\n",
       "Congo                                24\n",
       "Côte d'Ivoire                        24\n",
       "Democratic Republic of the Congo     24\n",
       "Equatorial Guinea                    24\n",
       "Eritrea                              24\n",
       "Ethiopia                             24\n",
       "Gabon                                24\n",
       "Gambia                               24\n",
       "Ghana                                24\n",
       "Guinea                               24\n",
       "Guinea-Bissau                        24\n",
       "Kenya                                24\n",
       "Lesotho                              24\n",
       "Liberia                              24\n",
       "Madagascar                           24\n",
       "Malawi                               24\n",
       "Mali                                 24\n",
       "Mauritania                           24\n",
       "Mauritius                            24\n",
       "Mozambique                           24\n",
       "Namibia                              24\n",
       "Niger                                24\n",
       "Nigeria                              24\n",
       "Rwanda                               24\n",
       "Sao Tome and Principe                24\n",
       "Senegal                              24\n",
       "Seychelles                           24\n",
       "Sierra Leone                         24\n",
       "South Africa                         24\n",
       "Swaziland                            24\n",
       "Togo                                 24\n",
       "Uganda                               24\n",
       "United Republic of Tanzania          24\n",
       "Zambia                               24\n",
       "Zimbabwe                             24"
      ]
     },
     "execution_count": 238,
     "metadata": {},
     "output_type": "execute_result"
    }
   ],
   "source": [
    "sort_c = df.country.value_counts().to_frame()\n",
    "sort_c.sort_index()"
   ]
  },
  {
   "cell_type": "markdown",
   "id": "a1291ed7-b0d3-46db-9d99-d397395c2068",
   "metadata": {},
   "source": [
    "Semua nama negara sudah sesuai kecuali Swaziland yang berubah menjadi Eswatini pada tahun 2018. Karena data ini hanya berada pada range tahun 1990-2013 (sebelum 2018) nama negara tidak diubah."
   ]
  },
  {
   "cell_type": "markdown",
   "id": "14cf6c7f-aa3c-4d97-8b64-723e08ae690a",
   "metadata": {},
   "source": [
    "## Explore Kolom `tb_hiv_positive`"
   ]
  },
  {
   "cell_type": "code",
   "execution_count": 239,
   "id": "aa14357c-b55d-4027-912a-bc7cae595a7f",
   "metadata": {},
   "outputs": [
    {
     "data": {
      "application/vnd.plotly.v1+json": {
       "config": {
        "plotlyServerURL": "https://plot.ly"
       },
       "data": [
        {
         "hovertemplate": "Year=%{x}<br>Frequency=%{y}<extra></extra>",
         "legendgroup": "",
         "line": {
          "color": "#636efa",
          "dash": "solid"
         },
         "marker": {
          "symbol": "circle"
         },
         "mode": "lines",
         "name": "",
         "orientation": "v",
         "showlegend": false,
         "type": "scatter",
         "x": [
          "1990-01-01T00:00:00",
          "1991-01-01T00:00:00",
          "1992-01-01T00:00:00",
          "1993-01-01T00:00:00",
          "1994-01-01T00:00:00",
          "1995-01-01T00:00:00",
          "1996-01-01T00:00:00",
          "1997-01-01T00:00:00",
          "1998-01-01T00:00:00",
          "1999-01-01T00:00:00",
          "2000-01-01T00:00:00",
          "2001-01-01T00:00:00",
          "2002-01-01T00:00:00",
          "2003-01-01T00:00:00",
          "2004-01-01T00:00:00",
          "2005-01-01T00:00:00",
          "2006-01-01T00:00:00",
          "2007-01-01T00:00:00",
          "2008-01-01T00:00:00",
          "2009-01-01T00:00:00",
          "2010-01-01T00:00:00",
          "2011-01-01T00:00:00",
          "2012-01-01T00:00:00",
          "2013-01-01T00:00:00"
         ],
         "xaxis": "x",
         "y": [
          1100,
          2300,
          4600,
          8200,
          14000,
          22000,
          34000,
          50000,
          71000,
          98000,
          130000,
          160000,
          200000,
          230000,
          260000,
          280000,
          290000,
          300000,
          300000,
          310000,
          320000,
          310000,
          290000,
          270000
         ],
         "yaxis": "y"
        }
       ],
       "layout": {
        "autosize": true,
        "legend": {
         "tracegroupgap": 0
        },
        "template": {
         "data": {
          "bar": [
           {
            "error_x": {
             "color": "#2a3f5f"
            },
            "error_y": {
             "color": "#2a3f5f"
            },
            "marker": {
             "line": {
              "color": "#E5ECF6",
              "width": 0.5
             },
             "pattern": {
              "fillmode": "overlay",
              "size": 10,
              "solidity": 0.2
             }
            },
            "type": "bar"
           }
          ],
          "barpolar": [
           {
            "marker": {
             "line": {
              "color": "#E5ECF6",
              "width": 0.5
             },
             "pattern": {
              "fillmode": "overlay",
              "size": 10,
              "solidity": 0.2
             }
            },
            "type": "barpolar"
           }
          ],
          "carpet": [
           {
            "aaxis": {
             "endlinecolor": "#2a3f5f",
             "gridcolor": "white",
             "linecolor": "white",
             "minorgridcolor": "white",
             "startlinecolor": "#2a3f5f"
            },
            "baxis": {
             "endlinecolor": "#2a3f5f",
             "gridcolor": "white",
             "linecolor": "white",
             "minorgridcolor": "white",
             "startlinecolor": "#2a3f5f"
            },
            "type": "carpet"
           }
          ],
          "choropleth": [
           {
            "colorbar": {
             "outlinewidth": 0,
             "ticks": ""
            },
            "type": "choropleth"
           }
          ],
          "contour": [
           {
            "colorbar": {
             "outlinewidth": 0,
             "ticks": ""
            },
            "colorscale": [
             [
              0,
              "#0d0887"
             ],
             [
              0.1111111111111111,
              "#46039f"
             ],
             [
              0.2222222222222222,
              "#7201a8"
             ],
             [
              0.3333333333333333,
              "#9c179e"
             ],
             [
              0.4444444444444444,
              "#bd3786"
             ],
             [
              0.5555555555555556,
              "#d8576b"
             ],
             [
              0.6666666666666666,
              "#ed7953"
             ],
             [
              0.7777777777777778,
              "#fb9f3a"
             ],
             [
              0.8888888888888888,
              "#fdca26"
             ],
             [
              1,
              "#f0f921"
             ]
            ],
            "type": "contour"
           }
          ],
          "contourcarpet": [
           {
            "colorbar": {
             "outlinewidth": 0,
             "ticks": ""
            },
            "type": "contourcarpet"
           }
          ],
          "heatmap": [
           {
            "colorbar": {
             "outlinewidth": 0,
             "ticks": ""
            },
            "colorscale": [
             [
              0,
              "#0d0887"
             ],
             [
              0.1111111111111111,
              "#46039f"
             ],
             [
              0.2222222222222222,
              "#7201a8"
             ],
             [
              0.3333333333333333,
              "#9c179e"
             ],
             [
              0.4444444444444444,
              "#bd3786"
             ],
             [
              0.5555555555555556,
              "#d8576b"
             ],
             [
              0.6666666666666666,
              "#ed7953"
             ],
             [
              0.7777777777777778,
              "#fb9f3a"
             ],
             [
              0.8888888888888888,
              "#fdca26"
             ],
             [
              1,
              "#f0f921"
             ]
            ],
            "type": "heatmap"
           }
          ],
          "heatmapgl": [
           {
            "colorbar": {
             "outlinewidth": 0,
             "ticks": ""
            },
            "colorscale": [
             [
              0,
              "#0d0887"
             ],
             [
              0.1111111111111111,
              "#46039f"
             ],
             [
              0.2222222222222222,
              "#7201a8"
             ],
             [
              0.3333333333333333,
              "#9c179e"
             ],
             [
              0.4444444444444444,
              "#bd3786"
             ],
             [
              0.5555555555555556,
              "#d8576b"
             ],
             [
              0.6666666666666666,
              "#ed7953"
             ],
             [
              0.7777777777777778,
              "#fb9f3a"
             ],
             [
              0.8888888888888888,
              "#fdca26"
             ],
             [
              1,
              "#f0f921"
             ]
            ],
            "type": "heatmapgl"
           }
          ],
          "histogram": [
           {
            "marker": {
             "pattern": {
              "fillmode": "overlay",
              "size": 10,
              "solidity": 0.2
             }
            },
            "type": "histogram"
           }
          ],
          "histogram2d": [
           {
            "colorbar": {
             "outlinewidth": 0,
             "ticks": ""
            },
            "colorscale": [
             [
              0,
              "#0d0887"
             ],
             [
              0.1111111111111111,
              "#46039f"
             ],
             [
              0.2222222222222222,
              "#7201a8"
             ],
             [
              0.3333333333333333,
              "#9c179e"
             ],
             [
              0.4444444444444444,
              "#bd3786"
             ],
             [
              0.5555555555555556,
              "#d8576b"
             ],
             [
              0.6666666666666666,
              "#ed7953"
             ],
             [
              0.7777777777777778,
              "#fb9f3a"
             ],
             [
              0.8888888888888888,
              "#fdca26"
             ],
             [
              1,
              "#f0f921"
             ]
            ],
            "type": "histogram2d"
           }
          ],
          "histogram2dcontour": [
           {
            "colorbar": {
             "outlinewidth": 0,
             "ticks": ""
            },
            "colorscale": [
             [
              0,
              "#0d0887"
             ],
             [
              0.1111111111111111,
              "#46039f"
             ],
             [
              0.2222222222222222,
              "#7201a8"
             ],
             [
              0.3333333333333333,
              "#9c179e"
             ],
             [
              0.4444444444444444,
              "#bd3786"
             ],
             [
              0.5555555555555556,
              "#d8576b"
             ],
             [
              0.6666666666666666,
              "#ed7953"
             ],
             [
              0.7777777777777778,
              "#fb9f3a"
             ],
             [
              0.8888888888888888,
              "#fdca26"
             ],
             [
              1,
              "#f0f921"
             ]
            ],
            "type": "histogram2dcontour"
           }
          ],
          "mesh3d": [
           {
            "colorbar": {
             "outlinewidth": 0,
             "ticks": ""
            },
            "type": "mesh3d"
           }
          ],
          "parcoords": [
           {
            "line": {
             "colorbar": {
              "outlinewidth": 0,
              "ticks": ""
             }
            },
            "type": "parcoords"
           }
          ],
          "pie": [
           {
            "automargin": true,
            "type": "pie"
           }
          ],
          "scatter": [
           {
            "fillpattern": {
             "fillmode": "overlay",
             "size": 10,
             "solidity": 0.2
            },
            "type": "scatter"
           }
          ],
          "scatter3d": [
           {
            "line": {
             "colorbar": {
              "outlinewidth": 0,
              "ticks": ""
             }
            },
            "marker": {
             "colorbar": {
              "outlinewidth": 0,
              "ticks": ""
             }
            },
            "type": "scatter3d"
           }
          ],
          "scattercarpet": [
           {
            "marker": {
             "colorbar": {
              "outlinewidth": 0,
              "ticks": ""
             }
            },
            "type": "scattercarpet"
           }
          ],
          "scattergeo": [
           {
            "marker": {
             "colorbar": {
              "outlinewidth": 0,
              "ticks": ""
             }
            },
            "type": "scattergeo"
           }
          ],
          "scattergl": [
           {
            "marker": {
             "colorbar": {
              "outlinewidth": 0,
              "ticks": ""
             }
            },
            "type": "scattergl"
           }
          ],
          "scattermapbox": [
           {
            "marker": {
             "colorbar": {
              "outlinewidth": 0,
              "ticks": ""
             }
            },
            "type": "scattermapbox"
           }
          ],
          "scatterpolar": [
           {
            "marker": {
             "colorbar": {
              "outlinewidth": 0,
              "ticks": ""
             }
            },
            "type": "scatterpolar"
           }
          ],
          "scatterpolargl": [
           {
            "marker": {
             "colorbar": {
              "outlinewidth": 0,
              "ticks": ""
             }
            },
            "type": "scatterpolargl"
           }
          ],
          "scatterternary": [
           {
            "marker": {
             "colorbar": {
              "outlinewidth": 0,
              "ticks": ""
             }
            },
            "type": "scatterternary"
           }
          ],
          "surface": [
           {
            "colorbar": {
             "outlinewidth": 0,
             "ticks": ""
            },
            "colorscale": [
             [
              0,
              "#0d0887"
             ],
             [
              0.1111111111111111,
              "#46039f"
             ],
             [
              0.2222222222222222,
              "#7201a8"
             ],
             [
              0.3333333333333333,
              "#9c179e"
             ],
             [
              0.4444444444444444,
              "#bd3786"
             ],
             [
              0.5555555555555556,
              "#d8576b"
             ],
             [
              0.6666666666666666,
              "#ed7953"
             ],
             [
              0.7777777777777778,
              "#fb9f3a"
             ],
             [
              0.8888888888888888,
              "#fdca26"
             ],
             [
              1,
              "#f0f921"
             ]
            ],
            "type": "surface"
           }
          ],
          "table": [
           {
            "cells": {
             "fill": {
              "color": "#EBF0F8"
             },
             "line": {
              "color": "white"
             }
            },
            "header": {
             "fill": {
              "color": "#C8D4E3"
             },
             "line": {
              "color": "white"
             }
            },
            "type": "table"
           }
          ]
         },
         "layout": {
          "annotationdefaults": {
           "arrowcolor": "#2a3f5f",
           "arrowhead": 0,
           "arrowwidth": 1
          },
          "autotypenumbers": "strict",
          "coloraxis": {
           "colorbar": {
            "outlinewidth": 0,
            "ticks": ""
           }
          },
          "colorscale": {
           "diverging": [
            [
             0,
             "#8e0152"
            ],
            [
             0.1,
             "#c51b7d"
            ],
            [
             0.2,
             "#de77ae"
            ],
            [
             0.3,
             "#f1b6da"
            ],
            [
             0.4,
             "#fde0ef"
            ],
            [
             0.5,
             "#f7f7f7"
            ],
            [
             0.6,
             "#e6f5d0"
            ],
            [
             0.7,
             "#b8e186"
            ],
            [
             0.8,
             "#7fbc41"
            ],
            [
             0.9,
             "#4d9221"
            ],
            [
             1,
             "#276419"
            ]
           ],
           "sequential": [
            [
             0,
             "#0d0887"
            ],
            [
             0.1111111111111111,
             "#46039f"
            ],
            [
             0.2222222222222222,
             "#7201a8"
            ],
            [
             0.3333333333333333,
             "#9c179e"
            ],
            [
             0.4444444444444444,
             "#bd3786"
            ],
            [
             0.5555555555555556,
             "#d8576b"
            ],
            [
             0.6666666666666666,
             "#ed7953"
            ],
            [
             0.7777777777777778,
             "#fb9f3a"
            ],
            [
             0.8888888888888888,
             "#fdca26"
            ],
            [
             1,
             "#f0f921"
            ]
           ],
           "sequentialminus": [
            [
             0,
             "#0d0887"
            ],
            [
             0.1111111111111111,
             "#46039f"
            ],
            [
             0.2222222222222222,
             "#7201a8"
            ],
            [
             0.3333333333333333,
             "#9c179e"
            ],
            [
             0.4444444444444444,
             "#bd3786"
            ],
            [
             0.5555555555555556,
             "#d8576b"
            ],
            [
             0.6666666666666666,
             "#ed7953"
            ],
            [
             0.7777777777777778,
             "#fb9f3a"
            ],
            [
             0.8888888888888888,
             "#fdca26"
            ],
            [
             1,
             "#f0f921"
            ]
           ]
          },
          "colorway": [
           "#636efa",
           "#EF553B",
           "#00cc96",
           "#ab63fa",
           "#FFA15A",
           "#19d3f3",
           "#FF6692",
           "#B6E880",
           "#FF97FF",
           "#FECB52"
          ],
          "font": {
           "color": "#2a3f5f"
          },
          "geo": {
           "bgcolor": "white",
           "lakecolor": "white",
           "landcolor": "#E5ECF6",
           "showlakes": true,
           "showland": true,
           "subunitcolor": "white"
          },
          "hoverlabel": {
           "align": "left"
          },
          "hovermode": "closest",
          "mapbox": {
           "style": "light"
          },
          "paper_bgcolor": "white",
          "plot_bgcolor": "#E5ECF6",
          "polar": {
           "angularaxis": {
            "gridcolor": "white",
            "linecolor": "white",
            "ticks": ""
           },
           "bgcolor": "#E5ECF6",
           "radialaxis": {
            "gridcolor": "white",
            "linecolor": "white",
            "ticks": ""
           }
          },
          "scene": {
           "xaxis": {
            "backgroundcolor": "#E5ECF6",
            "gridcolor": "white",
            "gridwidth": 2,
            "linecolor": "white",
            "showbackground": true,
            "ticks": "",
            "zerolinecolor": "white"
           },
           "yaxis": {
            "backgroundcolor": "#E5ECF6",
            "gridcolor": "white",
            "gridwidth": 2,
            "linecolor": "white",
            "showbackground": true,
            "ticks": "",
            "zerolinecolor": "white"
           },
           "zaxis": {
            "backgroundcolor": "#E5ECF6",
            "gridcolor": "white",
            "gridwidth": 2,
            "linecolor": "white",
            "showbackground": true,
            "ticks": "",
            "zerolinecolor": "white"
           }
          },
          "shapedefaults": {
           "line": {
            "color": "#2a3f5f"
           }
          },
          "ternary": {
           "aaxis": {
            "gridcolor": "white",
            "linecolor": "white",
            "ticks": ""
           },
           "baxis": {
            "gridcolor": "white",
            "linecolor": "white",
            "ticks": ""
           },
           "bgcolor": "#E5ECF6",
           "caxis": {
            "gridcolor": "white",
            "linecolor": "white",
            "ticks": ""
           }
          },
          "title": {
           "x": 0.05
          },
          "xaxis": {
           "automargin": true,
           "gridcolor": "white",
           "linecolor": "white",
           "ticks": "",
           "title": {
            "standoff": 15
           },
           "zerolinecolor": "white",
           "zerolinewidth": 2
          },
          "yaxis": {
           "automargin": true,
           "gridcolor": "white",
           "linecolor": "white",
           "ticks": "",
           "title": {
            "standoff": 15
           },
           "zerolinecolor": "white",
           "zerolinewidth": 2
          }
         }
        },
        "title": {
         "text": "Estimated incidence of TB cases who are HIV-positive"
        },
        "xaxis": {
         "anchor": "y",
         "autorange": true,
         "domain": [
          0,
          1
         ],
         "range": [
          "1990-01-01",
          "2013-01-01"
         ],
         "title": {
          "text": "Year"
         },
         "type": "date"
        },
        "yaxis": {
         "anchor": "x",
         "autorange": true,
         "domain": [
          0,
          1
         ],
         "range": [
          -16616.666666666668,
          337716.6666666667
         ],
         "title": {
          "text": "Frequency"
         },
         "type": "linear"
        }
       }
      },
      "image/png": "[encoded data removed]",
      "text/html": [
       "<div>                            <div id=\"22404d0b-64f5-470c-98af-dee91abe2683\" class=\"plotly-graph-div\" style=\"height:525px; width:100%;\"></div>            <script type=\"text/javascript\">                require([\"plotly\"], function(Plotly) {                    window.PLOTLYENV=window.PLOTLYENV || {};                                    if (document.getElementById(\"22404d0b-64f5-470c-98af-dee91abe2683\")) {                    Plotly.newPlot(                        \"22404d0b-64f5-470c-98af-dee91abe2683\",                        [{\"hovertemplate\":\"Year=%{x}\\u003cbr\\u003eFrequency=%{y}\\u003cextra\\u003e\\u003c\\u002fextra\\u003e\",\"legendgroup\":\"\",\"line\":{\"color\":\"#636efa\",\"dash\":\"solid\"},\"marker\":{\"symbol\":\"circle\"},\"mode\":\"lines\",\"name\":\"\",\"orientation\":\"v\",\"showlegend\":false,\"x\":[\"1990-01-01T00:00:00\",\"1991-01-01T00:00:00\",\"1992-01-01T00:00:00\",\"1993-01-01T00:00:00\",\"1994-01-01T00:00:00\",\"1995-01-01T00:00:00\",\"1996-01-01T00:00:00\",\"1997-01-01T00:00:00\",\"1998-01-01T00:00:00\",\"1999-01-01T00:00:00\",\"2000-01-01T00:00:00\",\"2001-01-01T00:00:00\",\"2002-01-01T00:00:00\",\"2003-01-01T00:00:00\",\"2004-01-01T00:00:00\",\"2005-01-01T00:00:00\",\"2006-01-01T00:00:00\",\"2007-01-01T00:00:00\",\"2008-01-01T00:00:00\",\"2009-01-01T00:00:00\",\"2010-01-01T00:00:00\",\"2011-01-01T00:00:00\",\"2012-01-01T00:00:00\",\"2013-01-01T00:00:00\"],\"xaxis\":\"x\",\"y\":[1100,2300,4600,8200,14000,22000,34000,50000,71000,98000,130000,160000,200000,230000,260000,280000,290000,300000,300000,310000,320000,310000,290000,270000],\"yaxis\":\"y\",\"type\":\"scatter\"}],                        {\"template\":{\"data\":{\"histogram2dcontour\":[{\"type\":\"histogram2dcontour\",\"colorbar\":{\"outlinewidth\":0,\"ticks\":\"\"},\"colorscale\":[[0.0,\"#0d0887\"],[0.1111111111111111,\"#46039f\"],[0.2222222222222222,\"#7201a8\"],[0.3333333333333333,\"#9c179e\"],[0.4444444444444444,\"#bd3786\"],[0.5555555555555556,\"#d8576b\"],[0.6666666666666666,\"#ed7953\"],[0.7777777777777778,\"#fb9f3a\"],[0.8888888888888888,\"#fdca26\"],[1.0,\"#f0f921\"]]}],\"choropleth\":[{\"type\":\"choropleth\",\"colorbar\":{\"outlinewidth\":0,\"ticks\":\"\"}}],\"histogram2d\":[{\"type\":\"histogram2d\",\"colorbar\":{\"outlinewidth\":0,\"ticks\":\"\"},\"colorscale\":[[0.0,\"#0d0887\"],[0.1111111111111111,\"#46039f\"],[0.2222222222222222,\"#7201a8\"],[0.3333333333333333,\"#9c179e\"],[0.4444444444444444,\"#bd3786\"],[0.5555555555555556,\"#d8576b\"],[0.6666666666666666,\"#ed7953\"],[0.7777777777777778,\"#fb9f3a\"],[0.8888888888888888,\"#fdca26\"],[1.0,\"#f0f921\"]]}],\"heatmap\":[{\"type\":\"heatmap\",\"colorbar\":{\"outlinewidth\":0,\"ticks\":\"\"},\"colorscale\":[[0.0,\"#0d0887\"],[0.1111111111111111,\"#46039f\"],[0.2222222222222222,\"#7201a8\"],[0.3333333333333333,\"#9c179e\"],[0.4444444444444444,\"#bd3786\"],[0.5555555555555556,\"#d8576b\"],[0.6666666666666666,\"#ed7953\"],[0.7777777777777778,\"#fb9f3a\"],[0.8888888888888888,\"#fdca26\"],[1.0,\"#f0f921\"]]}],\"heatmapgl\":[{\"type\":\"heatmapgl\",\"colorbar\":{\"outlinewidth\":0,\"ticks\":\"\"},\"colorscale\":[[0.0,\"#0d0887\"],[0.1111111111111111,\"#46039f\"],[0.2222222222222222,\"#7201a8\"],[0.3333333333333333,\"#9c179e\"],[0.4444444444444444,\"#bd3786\"],[0.5555555555555556,\"#d8576b\"],[0.6666666666666666,\"#ed7953\"],[0.7777777777777778,\"#fb9f3a\"],[0.8888888888888888,\"#fdca26\"],[1.0,\"#f0f921\"]]}],\"contourcarpet\":[{\"type\":\"contourcarpet\",\"colorbar\":{\"outlinewidth\":0,\"ticks\":\"\"}}],\"contour\":[{\"type\":\"contour\",\"colorbar\":{\"outlinewidth\":0,\"ticks\":\"\"},\"colorscale\":[[0.0,\"#0d0887\"],[0.1111111111111111,\"#46039f\"],[0.2222222222222222,\"#7201a8\"],[0.3333333333333333,\"#9c179e\"],[0.4444444444444444,\"#bd3786\"],[0.5555555555555556,\"#d8576b\"],[0.6666666666666666,\"#ed7953\"],[0.7777777777777778,\"#fb9f3a\"],[0.8888888888888888,\"#fdca26\"],[1.0,\"#f0f921\"]]}],\"surface\":[{\"type\":\"surface\",\"colorbar\":{\"outlinewidth\":0,\"ticks\":\"\"},\"colorscale\":[[0.0,\"#0d0887\"],[0.1111111111111111,\"#46039f\"],[0.2222222222222222,\"#7201a8\"],[0.3333333333333333,\"#9c179e\"],[0.4444444444444444,\"#bd3786\"],[0.5555555555555556,\"#d8576b\"],[0.6666666666666666,\"#ed7953\"],[0.7777777777777778,\"#fb9f3a\"],[0.8888888888888888,\"#fdca26\"],[1.0,\"#f0f921\"]]}],\"mesh3d\":[{\"type\":\"mesh3d\",\"colorbar\":{\"outlinewidth\":0,\"ticks\":\"\"}}],\"scatter\":[{\"fillpattern\":{\"fillmode\":\"overlay\",\"size\":10,\"solidity\":0.2},\"type\":\"scatter\"}],\"parcoords\":[{\"type\":\"parcoords\",\"line\":{\"colorbar\":{\"outlinewidth\":0,\"ticks\":\"\"}}}],\"scatterpolargl\":[{\"type\":\"scatterpolargl\",\"marker\":{\"colorbar\":{\"outlinewidth\":0,\"ticks\":\"\"}}}],\"bar\":[{\"error_x\":{\"color\":\"#2a3f5f\"},\"error_y\":{\"color\":\"#2a3f5f\"},\"marker\":{\"line\":{\"color\":\"#E5ECF6\",\"width\":0.5},\"pattern\":{\"fillmode\":\"overlay\",\"size\":10,\"solidity\":0.2}},\"type\":\"bar\"}],\"scattergeo\":[{\"type\":\"scattergeo\",\"marker\":{\"colorbar\":{\"outlinewidth\":0,\"ticks\":\"\"}}}],\"scatterpolar\":[{\"type\":\"scatterpolar\",\"marker\":{\"colorbar\":{\"outlinewidth\":0,\"ticks\":\"\"}}}],\"histogram\":[{\"marker\":{\"pattern\":{\"fillmode\":\"overlay\",\"size\":10,\"solidity\":0.2}},\"type\":\"histogram\"}],\"scattergl\":[{\"type\":\"scattergl\",\"marker\":{\"colorbar\":{\"outlinewidth\":0,\"ticks\":\"\"}}}],\"scatter3d\":[{\"type\":\"scatter3d\",\"line\":{\"colorbar\":{\"outlinewidth\":0,\"ticks\":\"\"}},\"marker\":{\"colorbar\":{\"outlinewidth\":0,\"ticks\":\"\"}}}],\"scattermapbox\":[{\"type\":\"scattermapbox\",\"marker\":{\"colorbar\":{\"outlinewidth\":0,\"ticks\":\"\"}}}],\"scatterternary\":[{\"type\":\"scatterternary\",\"marker\":{\"colorbar\":{\"outlinewidth\":0,\"ticks\":\"\"}}}],\"scattercarpet\":[{\"type\":\"scattercarpet\",\"marker\":{\"colorbar\":{\"outlinewidth\":0,\"ticks\":\"\"}}}],\"carpet\":[{\"aaxis\":{\"endlinecolor\":\"#2a3f5f\",\"gridcolor\":\"white\",\"linecolor\":\"white\",\"minorgridcolor\":\"white\",\"startlinecolor\":\"#2a3f5f\"},\"baxis\":{\"endlinecolor\":\"#2a3f5f\",\"gridcolor\":\"white\",\"linecolor\":\"white\",\"minorgridcolor\":\"white\",\"startlinecolor\":\"#2a3f5f\"},\"type\":\"carpet\"}],\"table\":[{\"cells\":{\"fill\":{\"color\":\"#EBF0F8\"},\"line\":{\"color\":\"white\"}},\"header\":{\"fill\":{\"color\":\"#C8D4E3\"},\"line\":{\"color\":\"white\"}},\"type\":\"table\"}],\"barpolar\":[{\"marker\":{\"line\":{\"color\":\"#E5ECF6\",\"width\":0.5},\"pattern\":{\"fillmode\":\"overlay\",\"size\":10,\"solidity\":0.2}},\"type\":\"barpolar\"}],\"pie\":[{\"automargin\":true,\"type\":\"pie\"}]},\"layout\":{\"autotypenumbers\":\"strict\",\"colorway\":[\"#636efa\",\"#EF553B\",\"#00cc96\",\"#ab63fa\",\"#FFA15A\",\"#19d3f3\",\"#FF6692\",\"#B6E880\",\"#FF97FF\",\"#FECB52\"],\"font\":{\"color\":\"#2a3f5f\"},\"hovermode\":\"closest\",\"hoverlabel\":{\"align\":\"left\"},\"paper_bgcolor\":\"white\",\"plot_bgcolor\":\"#E5ECF6\",\"polar\":{\"bgcolor\":\"#E5ECF6\",\"angularaxis\":{\"gridcolor\":\"white\",\"linecolor\":\"white\",\"ticks\":\"\"},\"radialaxis\":{\"gridcolor\":\"white\",\"linecolor\":\"white\",\"ticks\":\"\"}},\"ternary\":{\"bgcolor\":\"#E5ECF6\",\"aaxis\":{\"gridcolor\":\"white\",\"linecolor\":\"white\",\"ticks\":\"\"},\"baxis\":{\"gridcolor\":\"white\",\"linecolor\":\"white\",\"ticks\":\"\"},\"caxis\":{\"gridcolor\":\"white\",\"linecolor\":\"white\",\"ticks\":\"\"}},\"coloraxis\":{\"colorbar\":{\"outlinewidth\":0,\"ticks\":\"\"}},\"colorscale\":{\"sequential\":[[0.0,\"#0d0887\"],[0.1111111111111111,\"#46039f\"],[0.2222222222222222,\"#7201a8\"],[0.3333333333333333,\"#9c179e\"],[0.4444444444444444,\"#bd3786\"],[0.5555555555555556,\"#d8576b\"],[0.6666666666666666,\"#ed7953\"],[0.7777777777777778,\"#fb9f3a\"],[0.8888888888888888,\"#fdca26\"],[1.0,\"#f0f921\"]],\"sequentialminus\":[[0.0,\"#0d0887\"],[0.1111111111111111,\"#46039f\"],[0.2222222222222222,\"#7201a8\"],[0.3333333333333333,\"#9c179e\"],[0.4444444444444444,\"#bd3786\"],[0.5555555555555556,\"#d8576b\"],[0.6666666666666666,\"#ed7953\"],[0.7777777777777778,\"#fb9f3a\"],[0.8888888888888888,\"#fdca26\"],[1.0,\"#f0f921\"]],\"diverging\":[[0,\"#8e0152\"],[0.1,\"#c51b7d\"],[0.2,\"#de77ae\"],[0.3,\"#f1b6da\"],[0.4,\"#fde0ef\"],[0.5,\"#f7f7f7\"],[0.6,\"#e6f5d0\"],[0.7,\"#b8e186\"],[0.8,\"#7fbc41\"],[0.9,\"#4d9221\"],[1,\"#276419\"]]},\"xaxis\":{\"gridcolor\":\"white\",\"linecolor\":\"white\",\"ticks\":\"\",\"title\":{\"standoff\":15},\"zerolinecolor\":\"white\",\"automargin\":true,\"zerolinewidth\":2},\"yaxis\":{\"gridcolor\":\"white\",\"linecolor\":\"white\",\"ticks\":\"\",\"title\":{\"standoff\":15},\"zerolinecolor\":\"white\",\"automargin\":true,\"zerolinewidth\":2},\"scene\":{\"xaxis\":{\"backgroundcolor\":\"#E5ECF6\",\"gridcolor\":\"white\",\"linecolor\":\"white\",\"showbackground\":true,\"ticks\":\"\",\"zerolinecolor\":\"white\",\"gridwidth\":2},\"yaxis\":{\"backgroundcolor\":\"#E5ECF6\",\"gridcolor\":\"white\",\"linecolor\":\"white\",\"showbackground\":true,\"ticks\":\"\",\"zerolinecolor\":\"white\",\"gridwidth\":2},\"zaxis\":{\"backgroundcolor\":\"#E5ECF6\",\"gridcolor\":\"white\",\"linecolor\":\"white\",\"showbackground\":true,\"ticks\":\"\",\"zerolinecolor\":\"white\",\"gridwidth\":2}},\"shapedefaults\":{\"line\":{\"color\":\"#2a3f5f\"}},\"annotationdefaults\":{\"arrowcolor\":\"#2a3f5f\",\"arrowhead\":0,\"arrowwidth\":1},\"geo\":{\"bgcolor\":\"white\",\"landcolor\":\"#E5ECF6\",\"subunitcolor\":\"white\",\"showland\":true,\"showlakes\":true,\"lakecolor\":\"white\"},\"title\":{\"x\":0.05},\"mapbox\":{\"style\":\"light\"}}},\"xaxis\":{\"anchor\":\"y\",\"domain\":[0.0,1.0],\"title\":{\"text\":\"Year\"}},\"yaxis\":{\"anchor\":\"x\",\"domain\":[0.0,1.0],\"title\":{\"text\":\"Frequency\"}},\"legend\":{\"tracegroupgap\":0},\"title\":{\"text\":\"Estimated incidence of TB cases who are HIV-positive\"}},                        {\"responsive\": true}                    ).then(function(){\n",
       "                            \n",
       "var gd = document.getElementById('22404d0b-64f5-470c-98af-dee91abe2683');\n",
       "var x = new MutationObserver(function (mutations, observer) {{\n",
       "        var display = window.getComputedStyle(gd).display;\n",
       "        if (!display || display === 'none') {{\n",
       "            console.log([gd, 'removed!']);\n",
       "            Plotly.purge(gd);\n",
       "            observer.disconnect();\n",
       "        }}\n",
       "}});\n",
       "\n",
       "// Listen for the removal of the full notebook cells\n",
       "var notebookContainer = gd.closest('#notebook-container');\n",
       "if (notebookContainer) {{\n",
       "    x.observe(notebookContainer, {childList: true});\n",
       "}}\n",
       "\n",
       "// Listen for the clearing of the current output cell\n",
       "var outputEl = gd.closest('.output');\n",
       "if (outputEl) {{\n",
       "    x.observe(outputEl, {childList: true});\n",
       "}}\n",
       "\n",
       "                        })                };                });            </script>        </div>"
      ]
     },
     "metadata": {},
     "output_type": "display_data"
    }
   ],
   "source": [
    "sample_country = df.loc[(df.country == 'South Africa')]\n",
    "fig = px.line(sample_country, x='year', y='tb_hiv_positive',\n",
    "             labels={\n",
    "                 'year':'Year',\n",
    "                 'tb_hiv_positive':'Frequency'\n",
    "             },\n",
    "             title='Estimated incidence of TB cases who are HIV-positive')\n",
    "fig.show()"
   ]
  },
  {
   "cell_type": "code",
   "execution_count": 244,
   "id": "8fb532f9-bbc7-4b8e-84bd-862dcf09f675",
   "metadata": {},
   "outputs": [],
   "source": [
    "tb_hiv = df.groupby(['country']).agg({\n",
    "    'tb_hiv_positive' : 'sum'\n",
    "})"
   ]
  },
  {
   "cell_type": "code",
   "execution_count": 245,
   "id": "11f84661-2468-407f-a62c-4115b20293b1",
   "metadata": {},
   "outputs": [
    {
     "data": {
      "text/html": [
       "<div>\n",
       "<style scoped>\n",
       "    .dataframe tbody tr th:only-of-type {\n",
       "        vertical-align: middle;\n",
       "    }\n",
       "\n",
       "    .dataframe tbody tr th {\n",
       "        vertical-align: top;\n",
       "    }\n",
       "\n",
       "    .dataframe thead th {\n",
       "        text-align: right;\n",
       "    }\n",
       "</style>\n",
       "<table border=\"1\" class=\"dataframe\">\n",
       "  <thead>\n",
       "    <tr style=\"text-align: right;\">\n",
       "      <th></th>\n",
       "      <th>tb_hiv_positive</th>\n",
       "    </tr>\n",
       "    <tr>\n",
       "      <th>country</th>\n",
       "      <th></th>\n",
       "    </tr>\n",
       "  </thead>\n",
       "  <tbody>\n",
       "    <tr>\n",
       "      <th>South Africa</th>\n",
       "      <td>3955200</td>\n",
       "    </tr>\n",
       "    <tr>\n",
       "      <th>Nigeria</th>\n",
       "      <td>2065000</td>\n",
       "    </tr>\n",
       "    <tr>\n",
       "      <th>Zimbabwe</th>\n",
       "      <td>1412000</td>\n",
       "    </tr>\n",
       "    <tr>\n",
       "      <th>Uganda</th>\n",
       "      <td>1377000</td>\n",
       "    </tr>\n",
       "    <tr>\n",
       "      <th>Mozambique</th>\n",
       "      <td>1117800</td>\n",
       "    </tr>\n",
       "    <tr>\n",
       "      <th>Zambia</th>\n",
       "      <td>1048000</td>\n",
       "    </tr>\n",
       "    <tr>\n",
       "      <th>Kenya</th>\n",
       "      <td>987600</td>\n",
       "    </tr>\n",
       "    <tr>\n",
       "      <th>Ethiopia</th>\n",
       "      <td>894500</td>\n",
       "    </tr>\n",
       "    <tr>\n",
       "      <th>United Republic of Tanzania</th>\n",
       "      <td>833000</td>\n",
       "    </tr>\n",
       "    <tr>\n",
       "      <th>Malawi</th>\n",
       "      <td>678000</td>\n",
       "    </tr>\n",
       "  </tbody>\n",
       "</table>\n",
       "</div>"
      ],
      "text/plain": [
       "                             tb_hiv_positive\n",
       "country                                     \n",
       "South Africa                         3955200\n",
       "Nigeria                              2065000\n",
       "Zimbabwe                             1412000\n",
       "Uganda                               1377000\n",
       "Mozambique                           1117800\n",
       "Zambia                               1048000\n",
       "Kenya                                 987600\n",
       "Ethiopia                              894500\n",
       "United Republic of Tanzania           833000\n",
       "Malawi                                678000"
      ]
     },
     "execution_count": 245,
     "metadata": {},
     "output_type": "execute_result"
    }
   ],
   "source": [
    "tb_hiv.sort_values('tb_hiv_positive', ascending=False).head(10)"
   ]
  },
  {
   "cell_type": "code",
   "execution_count": 246,
   "id": "eae34d12-2b07-41ce-b8c7-bc93af10bac1",
   "metadata": {},
   "outputs": [
    {
     "data": {
      "text/html": [
       "<div>\n",
       "<style scoped>\n",
       "    .dataframe tbody tr th:only-of-type {\n",
       "        vertical-align: middle;\n",
       "    }\n",
       "\n",
       "    .dataframe tbody tr th {\n",
       "        vertical-align: top;\n",
       "    }\n",
       "\n",
       "    .dataframe thead th {\n",
       "        text-align: right;\n",
       "    }\n",
       "</style>\n",
       "<table border=\"1\" class=\"dataframe\">\n",
       "  <thead>\n",
       "    <tr style=\"text-align: right;\">\n",
       "      <th></th>\n",
       "      <th>tb_hiv_positive</th>\n",
       "    </tr>\n",
       "    <tr>\n",
       "      <th>country</th>\n",
       "      <th></th>\n",
       "    </tr>\n",
       "  </thead>\n",
       "  <tbody>\n",
       "    <tr>\n",
       "      <th>Eritrea</th>\n",
       "      <td>11790</td>\n",
       "    </tr>\n",
       "    <tr>\n",
       "      <th>Gambia</th>\n",
       "      <td>5801</td>\n",
       "    </tr>\n",
       "    <tr>\n",
       "      <th>Mauritania</th>\n",
       "      <td>2547</td>\n",
       "    </tr>\n",
       "    <tr>\n",
       "      <th>Equatorial Guinea</th>\n",
       "      <td>2497</td>\n",
       "    </tr>\n",
       "    <tr>\n",
       "      <th>Algeria</th>\n",
       "      <td>1572</td>\n",
       "    </tr>\n",
       "    <tr>\n",
       "      <th>Cabo Verde</th>\n",
       "      <td>904</td>\n",
       "    </tr>\n",
       "    <tr>\n",
       "      <th>Mauritius</th>\n",
       "      <td>670</td>\n",
       "    </tr>\n",
       "    <tr>\n",
       "      <th>Sao Tome and Principe</th>\n",
       "      <td>482</td>\n",
       "    </tr>\n",
       "    <tr>\n",
       "      <th>Seychelles</th>\n",
       "      <td>0</td>\n",
       "    </tr>\n",
       "    <tr>\n",
       "      <th>Comoros</th>\n",
       "      <td>0</td>\n",
       "    </tr>\n",
       "  </tbody>\n",
       "</table>\n",
       "</div>"
      ],
      "text/plain": [
       "                       tb_hiv_positive\n",
       "country                               \n",
       "Eritrea                          11790\n",
       "Gambia                            5801\n",
       "Mauritania                        2547\n",
       "Equatorial Guinea                 2497\n",
       "Algeria                           1572\n",
       "Cabo Verde                         904\n",
       "Mauritius                          670\n",
       "Sao Tome and Principe              482\n",
       "Seychelles                           0\n",
       "Comoros                              0"
      ]
     },
     "execution_count": 246,
     "metadata": {},
     "output_type": "execute_result"
    }
   ],
   "source": [
    "tb_hiv.sort_values('tb_hiv_positive', ascending=False).tail(10)"
   ]
  },
  {
   "cell_type": "code",
   "execution_count": 249,
   "id": "fa483385-98c3-4fbe-9b77-063aba42f0e8",
   "metadata": {},
   "outputs": [
    {
     "data": {
      "application/vnd.plotly.v1+json": {
       "config": {
        "plotlyServerURL": "https://plot.ly"
       },
       "data": [
        {
         "alignmentgroup": "True",
         "hovertemplate": "Country=%{x}<br>Frequency=%{y}<extra></extra>",
         "legendgroup": "",
         "marker": {
          "color": "#636efa",
          "pattern": {
           "shape": ""
          }
         },
         "name": "",
         "offsetgroup": "",
         "orientation": "v",
         "showlegend": false,
         "textposition": "auto",
         "type": "bar",
         "x": [
          "South Africa",
          "Nigeria",
          "Zimbabwe",
          "Uganda",
          "Mozambique",
          "Zambia",
          "Kenya",
          "Ethiopia",
          "United Republic of Tanzania",
          "Malawi"
         ],
         "xaxis": "x",
         "y": [
          3955200,
          2065000,
          1412000,
          1377000,
          1117800,
          1048000,
          987600,
          894500,
          833000,
          678000
         ],
         "yaxis": "y"
        }
       ],
       "layout": {
        "autosize": true,
        "barmode": "relative",
        "legend": {
         "tracegroupgap": 0
        },
        "template": {
         "data": {
          "bar": [
           {
            "error_x": {
             "color": "#2a3f5f"
            },
            "error_y": {
             "color": "#2a3f5f"
            },
            "marker": {
             "line": {
              "color": "#E5ECF6",
              "width": 0.5
             },
             "pattern": {
              "fillmode": "overlay",
              "size": 10,
              "solidity": 0.2
             }
            },
            "type": "bar"
           }
          ],
          "barpolar": [
           {
            "marker": {
             "line": {
              "color": "#E5ECF6",
              "width": 0.5
             },
             "pattern": {
              "fillmode": "overlay",
              "size": 10,
              "solidity": 0.2
             }
            },
            "type": "barpolar"
           }
          ],
          "carpet": [
           {
            "aaxis": {
             "endlinecolor": "#2a3f5f",
             "gridcolor": "white",
             "linecolor": "white",
             "minorgridcolor": "white",
             "startlinecolor": "#2a3f5f"
            },
            "baxis": {
             "endlinecolor": "#2a3f5f",
             "gridcolor": "white",
             "linecolor": "white",
             "minorgridcolor": "white",
             "startlinecolor": "#2a3f5f"
            },
            "type": "carpet"
           }
          ],
          "choropleth": [
           {
            "colorbar": {
             "outlinewidth": 0,
             "ticks": ""
            },
            "type": "choropleth"
           }
          ],
          "contour": [
           {
            "colorbar": {
             "outlinewidth": 0,
             "ticks": ""
            },
            "colorscale": [
             [
              0,
              "#0d0887"
             ],
             [
              0.1111111111111111,
              "#46039f"
             ],
             [
              0.2222222222222222,
              "#7201a8"
             ],
             [
              0.3333333333333333,
              "#9c179e"
             ],
             [
              0.4444444444444444,
              "#bd3786"
             ],
             [
              0.5555555555555556,
              "#d8576b"
             ],
             [
              0.6666666666666666,
              "#ed7953"
             ],
             [
              0.7777777777777778,
              "#fb9f3a"
             ],
             [
              0.8888888888888888,
              "#fdca26"
             ],
             [
              1,
              "#f0f921"
             ]
            ],
            "type": "contour"
           }
          ],
          "contourcarpet": [
           {
            "colorbar": {
             "outlinewidth": 0,
             "ticks": ""
            },
            "type": "contourcarpet"
           }
          ],
          "heatmap": [
           {
            "colorbar": {
             "outlinewidth": 0,
             "ticks": ""
            },
            "colorscale": [
             [
              0,
              "#0d0887"
             ],
             [
              0.1111111111111111,
              "#46039f"
             ],
             [
              0.2222222222222222,
              "#7201a8"
             ],
             [
              0.3333333333333333,
              "#9c179e"
             ],
             [
              0.4444444444444444,
              "#bd3786"
             ],
             [
              0.5555555555555556,
              "#d8576b"
             ],
             [
              0.6666666666666666,
              "#ed7953"
             ],
             [
              0.7777777777777778,
              "#fb9f3a"
             ],
             [
              0.8888888888888888,
              "#fdca26"
             ],
             [
              1,
              "#f0f921"
             ]
            ],
            "type": "heatmap"
           }
          ],
          "heatmapgl": [
           {
            "colorbar": {
             "outlinewidth": 0,
             "ticks": ""
            },
            "colorscale": [
             [
              0,
              "#0d0887"
             ],
             [
              0.1111111111111111,
              "#46039f"
             ],
             [
              0.2222222222222222,
              "#7201a8"
             ],
             [
              0.3333333333333333,
              "#9c179e"
             ],
             [
              0.4444444444444444,
              "#bd3786"
             ],
             [
              0.5555555555555556,
              "#d8576b"
             ],
             [
              0.6666666666666666,
              "#ed7953"
             ],
             [
              0.7777777777777778,
              "#fb9f3a"
             ],
             [
              0.8888888888888888,
              "#fdca26"
             ],
             [
              1,
              "#f0f921"
             ]
            ],
            "type": "heatmapgl"
           }
          ],
          "histogram": [
           {
            "marker": {
             "pattern": {
              "fillmode": "overlay",
              "size": 10,
              "solidity": 0.2
             }
            },
            "type": "histogram"
           }
          ],
          "histogram2d": [
           {
            "colorbar": {
             "outlinewidth": 0,
             "ticks": ""
            },
            "colorscale": [
             [
              0,
              "#0d0887"
             ],
             [
              0.1111111111111111,
              "#46039f"
             ],
             [
              0.2222222222222222,
              "#7201a8"
             ],
             [
              0.3333333333333333,
              "#9c179e"
             ],
             [
              0.4444444444444444,
              "#bd3786"
             ],
             [
              0.5555555555555556,
              "#d8576b"
             ],
             [
              0.6666666666666666,
              "#ed7953"
             ],
             [
              0.7777777777777778,
              "#fb9f3a"
             ],
             [
              0.8888888888888888,
              "#fdca26"
             ],
             [
              1,
              "#f0f921"
             ]
            ],
            "type": "histogram2d"
           }
          ],
          "histogram2dcontour": [
           {
            "colorbar": {
             "outlinewidth": 0,
             "ticks": ""
            },
            "colorscale": [
             [
              0,
              "#0d0887"
             ],
             [
              0.1111111111111111,
              "#46039f"
             ],
             [
              0.2222222222222222,
              "#7201a8"
             ],
             [
              0.3333333333333333,
              "#9c179e"
             ],
             [
              0.4444444444444444,
              "#bd3786"
             ],
             [
              0.5555555555555556,
              "#d8576b"
             ],
             [
              0.6666666666666666,
              "#ed7953"
             ],
             [
              0.7777777777777778,
              "#fb9f3a"
             ],
             [
              0.8888888888888888,
              "#fdca26"
             ],
             [
              1,
              "#f0f921"
             ]
            ],
            "type": "histogram2dcontour"
           }
          ],
          "mesh3d": [
           {
            "colorbar": {
             "outlinewidth": 0,
             "ticks": ""
            },
            "type": "mesh3d"
           }
          ],
          "parcoords": [
           {
            "line": {
             "colorbar": {
              "outlinewidth": 0,
              "ticks": ""
             }
            },
            "type": "parcoords"
           }
          ],
          "pie": [
           {
            "automargin": true,
            "type": "pie"
           }
          ],
          "scatter": [
           {
            "fillpattern": {
             "fillmode": "overlay",
             "size": 10,
             "solidity": 0.2
            },
            "type": "scatter"
           }
          ],
          "scatter3d": [
           {
            "line": {
             "colorbar": {
              "outlinewidth": 0,
              "ticks": ""
             }
            },
            "marker": {
             "colorbar": {
              "outlinewidth": 0,
              "ticks": ""
             }
            },
            "type": "scatter3d"
           }
          ],
          "scattercarpet": [
           {
            "marker": {
             "colorbar": {
              "outlinewidth": 0,
              "ticks": ""
             }
            },
            "type": "scattercarpet"
           }
          ],
          "scattergeo": [
           {
            "marker": {
             "colorbar": {
              "outlinewidth": 0,
              "ticks": ""
             }
            },
            "type": "scattergeo"
           }
          ],
          "scattergl": [
           {
            "marker": {
             "colorbar": {
              "outlinewidth": 0,
              "ticks": ""
             }
            },
            "type": "scattergl"
           }
          ],
          "scattermapbox": [
           {
            "marker": {
             "colorbar": {
              "outlinewidth": 0,
              "ticks": ""
             }
            },
            "type": "scattermapbox"
           }
          ],
          "scatterpolar": [
           {
            "marker": {
             "colorbar": {
              "outlinewidth": 0,
              "ticks": ""
             }
            },
            "type": "scatterpolar"
           }
          ],
          "scatterpolargl": [
           {
            "marker": {
             "colorbar": {
              "outlinewidth": 0,
              "ticks": ""
             }
            },
            "type": "scatterpolargl"
           }
          ],
          "scatterternary": [
           {
            "marker": {
             "colorbar": {
              "outlinewidth": 0,
              "ticks": ""
             }
            },
            "type": "scatterternary"
           }
          ],
          "surface": [
           {
            "colorbar": {
             "outlinewidth": 0,
             "ticks": ""
            },
            "colorscale": [
             [
              0,
              "#0d0887"
             ],
             [
              0.1111111111111111,
              "#46039f"
             ],
             [
              0.2222222222222222,
              "#7201a8"
             ],
             [
              0.3333333333333333,
              "#9c179e"
             ],
             [
              0.4444444444444444,
              "#bd3786"
             ],
             [
              0.5555555555555556,
              "#d8576b"
             ],
             [
              0.6666666666666666,
              "#ed7953"
             ],
             [
              0.7777777777777778,
              "#fb9f3a"
             ],
             [
              0.8888888888888888,
              "#fdca26"
             ],
             [
              1,
              "#f0f921"
             ]
            ],
            "type": "surface"
           }
          ],
          "table": [
           {
            "cells": {
             "fill": {
              "color": "#EBF0F8"
             },
             "line": {
              "color": "white"
             }
            },
            "header": {
             "fill": {
              "color": "#C8D4E3"
             },
             "line": {
              "color": "white"
             }
            },
            "type": "table"
           }
          ]
         },
         "layout": {
          "annotationdefaults": {
           "arrowcolor": "#2a3f5f",
           "arrowhead": 0,
           "arrowwidth": 1
          },
          "autotypenumbers": "strict",
          "coloraxis": {
           "colorbar": {
            "outlinewidth": 0,
            "ticks": ""
           }
          },
          "colorscale": {
           "diverging": [
            [
             0,
             "#8e0152"
            ],
            [
             0.1,
             "#c51b7d"
            ],
            [
             0.2,
             "#de77ae"
            ],
            [
             0.3,
             "#f1b6da"
            ],
            [
             0.4,
             "#fde0ef"
            ],
            [
             0.5,
             "#f7f7f7"
            ],
            [
             0.6,
             "#e6f5d0"
            ],
            [
             0.7,
             "#b8e186"
            ],
            [
             0.8,
             "#7fbc41"
            ],
            [
             0.9,
             "#4d9221"
            ],
            [
             1,
             "#276419"
            ]
           ],
           "sequential": [
            [
             0,
             "#0d0887"
            ],
            [
             0.1111111111111111,
             "#46039f"
            ],
            [
             0.2222222222222222,
             "#7201a8"
            ],
            [
             0.3333333333333333,
             "#9c179e"
            ],
            [
             0.4444444444444444,
             "#bd3786"
            ],
            [
             0.5555555555555556,
             "#d8576b"
            ],
            [
             0.6666666666666666,
             "#ed7953"
            ],
            [
             0.7777777777777778,
             "#fb9f3a"
            ],
            [
             0.8888888888888888,
             "#fdca26"
            ],
            [
             1,
             "#f0f921"
            ]
           ],
           "sequentialminus": [
            [
             0,
             "#0d0887"
            ],
            [
             0.1111111111111111,
             "#46039f"
            ],
            [
             0.2222222222222222,
             "#7201a8"
            ],
            [
             0.3333333333333333,
             "#9c179e"
            ],
            [
             0.4444444444444444,
             "#bd3786"
            ],
            [
             0.5555555555555556,
             "#d8576b"
            ],
            [
             0.6666666666666666,
             "#ed7953"
            ],
            [
             0.7777777777777778,
             "#fb9f3a"
            ],
            [
             0.8888888888888888,
             "#fdca26"
            ],
            [
             1,
             "#f0f921"
            ]
           ]
          },
          "colorway": [
           "#636efa",
           "#EF553B",
           "#00cc96",
           "#ab63fa",
           "#FFA15A",
           "#19d3f3",
           "#FF6692",
           "#B6E880",
           "#FF97FF",
           "#FECB52"
          ],
          "font": {
           "color": "#2a3f5f"
          },
          "geo": {
           "bgcolor": "white",
           "lakecolor": "white",
           "landcolor": "#E5ECF6",
           "showlakes": true,
           "showland": true,
           "subunitcolor": "white"
          },
          "hoverlabel": {
           "align": "left"
          },
          "hovermode": "closest",
          "mapbox": {
           "style": "light"
          },
          "paper_bgcolor": "white",
          "plot_bgcolor": "#E5ECF6",
          "polar": {
           "angularaxis": {
            "gridcolor": "white",
            "linecolor": "white",
            "ticks": ""
           },
           "bgcolor": "#E5ECF6",
           "radialaxis": {
            "gridcolor": "white",
            "linecolor": "white",
            "ticks": ""
           }
          },
          "scene": {
           "xaxis": {
            "backgroundcolor": "#E5ECF6",
            "gridcolor": "white",
            "gridwidth": 2,
            "linecolor": "white",
            "showbackground": true,
            "ticks": "",
            "zerolinecolor": "white"
           },
           "yaxis": {
            "backgroundcolor": "#E5ECF6",
            "gridcolor": "white",
            "gridwidth": 2,
            "linecolor": "white",
            "showbackground": true,
            "ticks": "",
            "zerolinecolor": "white"
           },
           "zaxis": {
            "backgroundcolor": "#E5ECF6",
            "gridcolor": "white",
            "gridwidth": 2,
            "linecolor": "white",
            "showbackground": true,
            "ticks": "",
            "zerolinecolor": "white"
           }
          },
          "shapedefaults": {
           "line": {
            "color": "#2a3f5f"
           }
          },
          "ternary": {
           "aaxis": {
            "gridcolor": "white",
            "linecolor": "white",
            "ticks": ""
           },
           "baxis": {
            "gridcolor": "white",
            "linecolor": "white",
            "ticks": ""
           },
           "bgcolor": "#E5ECF6",
           "caxis": {
            "gridcolor": "white",
            "linecolor": "white",
            "ticks": ""
           }
          },
          "title": {
           "x": 0.05
          },
          "xaxis": {
           "automargin": true,
           "gridcolor": "white",
           "linecolor": "white",
           "ticks": "",
           "title": {
            "standoff": 15
           },
           "zerolinecolor": "white",
           "zerolinewidth": 2
          },
          "yaxis": {
           "automargin": true,
           "gridcolor": "white",
           "linecolor": "white",
           "ticks": "",
           "title": {
            "standoff": 15
           },
           "zerolinecolor": "white",
           "zerolinewidth": 2
          }
         }
        },
        "title": {
         "text": "10 Country with Most Estimated TB Cases Who are HIV-positive"
        },
        "xaxis": {
         "anchor": "y",
         "autorange": true,
         "domain": [
          0,
          1
         ],
         "range": [
          -0.5,
          9.5
         ],
         "tickangle": 0,
         "title": {
          "text": "Country"
         },
         "type": "category"
        },
        "yaxis": {
         "anchor": "x",
         "autorange": true,
         "domain": [
          0,
          1
         ],
         "range": [
          0,
          4163368.4210526315
         ],
         "title": {
          "text": "Frequency"
         },
         "type": "linear"
        }
       }
      },
      "image/png": "[encoded data removed]",
      "text/html": [
       "<div>                            <div id=\"882aee9a-c600-40dc-9768-cbac72c9aa56\" class=\"plotly-graph-div\" style=\"height:525px; width:100%;\"></div>            <script type=\"text/javascript\">                require([\"plotly\"], function(Plotly) {                    window.PLOTLYENV=window.PLOTLYENV || {};                                    if (document.getElementById(\"882aee9a-c600-40dc-9768-cbac72c9aa56\")) {                    Plotly.newPlot(                        \"882aee9a-c600-40dc-9768-cbac72c9aa56\",                        [{\"alignmentgroup\":\"True\",\"hovertemplate\":\"Country=%{x}\\u003cbr\\u003eFrequency=%{y}\\u003cextra\\u003e\\u003c\\u002fextra\\u003e\",\"legendgroup\":\"\",\"marker\":{\"color\":\"#636efa\",\"pattern\":{\"shape\":\"\"}},\"name\":\"\",\"offsetgroup\":\"\",\"orientation\":\"v\",\"showlegend\":false,\"textposition\":\"auto\",\"x\":[\"South Africa\",\"Nigeria\",\"Zimbabwe\",\"Uganda\",\"Mozambique\",\"Zambia\",\"Kenya\",\"Ethiopia\",\"United Republic of Tanzania\",\"Malawi\"],\"xaxis\":\"x\",\"y\":[3955200,2065000,1412000,1377000,1117800,1048000,987600,894500,833000,678000],\"yaxis\":\"y\",\"type\":\"bar\"}],                        {\"template\":{\"data\":{\"histogram2dcontour\":[{\"type\":\"histogram2dcontour\",\"colorbar\":{\"outlinewidth\":0,\"ticks\":\"\"},\"colorscale\":[[0.0,\"#0d0887\"],[0.1111111111111111,\"#46039f\"],[0.2222222222222222,\"#7201a8\"],[0.3333333333333333,\"#9c179e\"],[0.4444444444444444,\"#bd3786\"],[0.5555555555555556,\"#d8576b\"],[0.6666666666666666,\"#ed7953\"],[0.7777777777777778,\"#fb9f3a\"],[0.8888888888888888,\"#fdca26\"],[1.0,\"#f0f921\"]]}],\"choropleth\":[{\"type\":\"choropleth\",\"colorbar\":{\"outlinewidth\":0,\"ticks\":\"\"}}],\"histogram2d\":[{\"type\":\"histogram2d\",\"colorbar\":{\"outlinewidth\":0,\"ticks\":\"\"},\"colorscale\":[[0.0,\"#0d0887\"],[0.1111111111111111,\"#46039f\"],[0.2222222222222222,\"#7201a8\"],[0.3333333333333333,\"#9c179e\"],[0.4444444444444444,\"#bd3786\"],[0.5555555555555556,\"#d8576b\"],[0.6666666666666666,\"#ed7953\"],[0.7777777777777778,\"#fb9f3a\"],[0.8888888888888888,\"#fdca26\"],[1.0,\"#f0f921\"]]}],\"heatmap\":[{\"type\":\"heatmap\",\"colorbar\":{\"outlinewidth\":0,\"ticks\":\"\"},\"colorscale\":[[0.0,\"#0d0887\"],[0.1111111111111111,\"#46039f\"],[0.2222222222222222,\"#7201a8\"],[0.3333333333333333,\"#9c179e\"],[0.4444444444444444,\"#bd3786\"],[0.5555555555555556,\"#d8576b\"],[0.6666666666666666,\"#ed7953\"],[0.7777777777777778,\"#fb9f3a\"],[0.8888888888888888,\"#fdca26\"],[1.0,\"#f0f921\"]]}],\"heatmapgl\":[{\"type\":\"heatmapgl\",\"colorbar\":{\"outlinewidth\":0,\"ticks\":\"\"},\"colorscale\":[[0.0,\"#0d0887\"],[0.1111111111111111,\"#46039f\"],[0.2222222222222222,\"#7201a8\"],[0.3333333333333333,\"#9c179e\"],[0.4444444444444444,\"#bd3786\"],[0.5555555555555556,\"#d8576b\"],[0.6666666666666666,\"#ed7953\"],[0.7777777777777778,\"#fb9f3a\"],[0.8888888888888888,\"#fdca26\"],[1.0,\"#f0f921\"]]}],\"contourcarpet\":[{\"type\":\"contourcarpet\",\"colorbar\":{\"outlinewidth\":0,\"ticks\":\"\"}}],\"contour\":[{\"type\":\"contour\",\"colorbar\":{\"outlinewidth\":0,\"ticks\":\"\"},\"colorscale\":[[0.0,\"#0d0887\"],[0.1111111111111111,\"#46039f\"],[0.2222222222222222,\"#7201a8\"],[0.3333333333333333,\"#9c179e\"],[0.4444444444444444,\"#bd3786\"],[0.5555555555555556,\"#d8576b\"],[0.6666666666666666,\"#ed7953\"],[0.7777777777777778,\"#fb9f3a\"],[0.8888888888888888,\"#fdca26\"],[1.0,\"#f0f921\"]]}],\"surface\":[{\"type\":\"surface\",\"colorbar\":{\"outlinewidth\":0,\"ticks\":\"\"},\"colorscale\":[[0.0,\"#0d0887\"],[0.1111111111111111,\"#46039f\"],[0.2222222222222222,\"#7201a8\"],[0.3333333333333333,\"#9c179e\"],[0.4444444444444444,\"#bd3786\"],[0.5555555555555556,\"#d8576b\"],[0.6666666666666666,\"#ed7953\"],[0.7777777777777778,\"#fb9f3a\"],[0.8888888888888888,\"#fdca26\"],[1.0,\"#f0f921\"]]}],\"mesh3d\":[{\"type\":\"mesh3d\",\"colorbar\":{\"outlinewidth\":0,\"ticks\":\"\"}}],\"scatter\":[{\"fillpattern\":{\"fillmode\":\"overlay\",\"size\":10,\"solidity\":0.2},\"type\":\"scatter\"}],\"parcoords\":[{\"type\":\"parcoords\",\"line\":{\"colorbar\":{\"outlinewidth\":0,\"ticks\":\"\"}}}],\"scatterpolargl\":[{\"type\":\"scatterpolargl\",\"marker\":{\"colorbar\":{\"outlinewidth\":0,\"ticks\":\"\"}}}],\"bar\":[{\"error_x\":{\"color\":\"#2a3f5f\"},\"error_y\":{\"color\":\"#2a3f5f\"},\"marker\":{\"line\":{\"color\":\"#E5ECF6\",\"width\":0.5},\"pattern\":{\"fillmode\":\"overlay\",\"size\":10,\"solidity\":0.2}},\"type\":\"bar\"}],\"scattergeo\":[{\"type\":\"scattergeo\",\"marker\":{\"colorbar\":{\"outlinewidth\":0,\"ticks\":\"\"}}}],\"scatterpolar\":[{\"type\":\"scatterpolar\",\"marker\":{\"colorbar\":{\"outlinewidth\":0,\"ticks\":\"\"}}}],\"histogram\":[{\"marker\":{\"pattern\":{\"fillmode\":\"overlay\",\"size\":10,\"solidity\":0.2}},\"type\":\"histogram\"}],\"scattergl\":[{\"type\":\"scattergl\",\"marker\":{\"colorbar\":{\"outlinewidth\":0,\"ticks\":\"\"}}}],\"scatter3d\":[{\"type\":\"scatter3d\",\"line\":{\"colorbar\":{\"outlinewidth\":0,\"ticks\":\"\"}},\"marker\":{\"colorbar\":{\"outlinewidth\":0,\"ticks\":\"\"}}}],\"scattermapbox\":[{\"type\":\"scattermapbox\",\"marker\":{\"colorbar\":{\"outlinewidth\":0,\"ticks\":\"\"}}}],\"scatterternary\":[{\"type\":\"scatterternary\",\"marker\":{\"colorbar\":{\"outlinewidth\":0,\"ticks\":\"\"}}}],\"scattercarpet\":[{\"type\":\"scattercarpet\",\"marker\":{\"colorbar\":{\"outlinewidth\":0,\"ticks\":\"\"}}}],\"carpet\":[{\"aaxis\":{\"endlinecolor\":\"#2a3f5f\",\"gridcolor\":\"white\",\"linecolor\":\"white\",\"minorgridcolor\":\"white\",\"startlinecolor\":\"#2a3f5f\"},\"baxis\":{\"endlinecolor\":\"#2a3f5f\",\"gridcolor\":\"white\",\"linecolor\":\"white\",\"minorgridcolor\":\"white\",\"startlinecolor\":\"#2a3f5f\"},\"type\":\"carpet\"}],\"table\":[{\"cells\":{\"fill\":{\"color\":\"#EBF0F8\"},\"line\":{\"color\":\"white\"}},\"header\":{\"fill\":{\"color\":\"#C8D4E3\"},\"line\":{\"color\":\"white\"}},\"type\":\"table\"}],\"barpolar\":[{\"marker\":{\"line\":{\"color\":\"#E5ECF6\",\"width\":0.5},\"pattern\":{\"fillmode\":\"overlay\",\"size\":10,\"solidity\":0.2}},\"type\":\"barpolar\"}],\"pie\":[{\"automargin\":true,\"type\":\"pie\"}]},\"layout\":{\"autotypenumbers\":\"strict\",\"colorway\":[\"#636efa\",\"#EF553B\",\"#00cc96\",\"#ab63fa\",\"#FFA15A\",\"#19d3f3\",\"#FF6692\",\"#B6E880\",\"#FF97FF\",\"#FECB52\"],\"font\":{\"color\":\"#2a3f5f\"},\"hovermode\":\"closest\",\"hoverlabel\":{\"align\":\"left\"},\"paper_bgcolor\":\"white\",\"plot_bgcolor\":\"#E5ECF6\",\"polar\":{\"bgcolor\":\"#E5ECF6\",\"angularaxis\":{\"gridcolor\":\"white\",\"linecolor\":\"white\",\"ticks\":\"\"},\"radialaxis\":{\"gridcolor\":\"white\",\"linecolor\":\"white\",\"ticks\":\"\"}},\"ternary\":{\"bgcolor\":\"#E5ECF6\",\"aaxis\":{\"gridcolor\":\"white\",\"linecolor\":\"white\",\"ticks\":\"\"},\"baxis\":{\"gridcolor\":\"white\",\"linecolor\":\"white\",\"ticks\":\"\"},\"caxis\":{\"gridcolor\":\"white\",\"linecolor\":\"white\",\"ticks\":\"\"}},\"coloraxis\":{\"colorbar\":{\"outlinewidth\":0,\"ticks\":\"\"}},\"colorscale\":{\"sequential\":[[0.0,\"#0d0887\"],[0.1111111111111111,\"#46039f\"],[0.2222222222222222,\"#7201a8\"],[0.3333333333333333,\"#9c179e\"],[0.4444444444444444,\"#bd3786\"],[0.5555555555555556,\"#d8576b\"],[0.6666666666666666,\"#ed7953\"],[0.7777777777777778,\"#fb9f3a\"],[0.8888888888888888,\"#fdca26\"],[1.0,\"#f0f921\"]],\"sequentialminus\":[[0.0,\"#0d0887\"],[0.1111111111111111,\"#46039f\"],[0.2222222222222222,\"#7201a8\"],[0.3333333333333333,\"#9c179e\"],[0.4444444444444444,\"#bd3786\"],[0.5555555555555556,\"#d8576b\"],[0.6666666666666666,\"#ed7953\"],[0.7777777777777778,\"#fb9f3a\"],[0.8888888888888888,\"#fdca26\"],[1.0,\"#f0f921\"]],\"diverging\":[[0,\"#8e0152\"],[0.1,\"#c51b7d\"],[0.2,\"#de77ae\"],[0.3,\"#f1b6da\"],[0.4,\"#fde0ef\"],[0.5,\"#f7f7f7\"],[0.6,\"#e6f5d0\"],[0.7,\"#b8e186\"],[0.8,\"#7fbc41\"],[0.9,\"#4d9221\"],[1,\"#276419\"]]},\"xaxis\":{\"gridcolor\":\"white\",\"linecolor\":\"white\",\"ticks\":\"\",\"title\":{\"standoff\":15},\"zerolinecolor\":\"white\",\"automargin\":true,\"zerolinewidth\":2},\"yaxis\":{\"gridcolor\":\"white\",\"linecolor\":\"white\",\"ticks\":\"\",\"title\":{\"standoff\":15},\"zerolinecolor\":\"white\",\"automargin\":true,\"zerolinewidth\":2},\"scene\":{\"xaxis\":{\"backgroundcolor\":\"#E5ECF6\",\"gridcolor\":\"white\",\"linecolor\":\"white\",\"showbackground\":true,\"ticks\":\"\",\"zerolinecolor\":\"white\",\"gridwidth\":2},\"yaxis\":{\"backgroundcolor\":\"#E5ECF6\",\"gridcolor\":\"white\",\"linecolor\":\"white\",\"showbackground\":true,\"ticks\":\"\",\"zerolinecolor\":\"white\",\"gridwidth\":2},\"zaxis\":{\"backgroundcolor\":\"#E5ECF6\",\"gridcolor\":\"white\",\"linecolor\":\"white\",\"showbackground\":true,\"ticks\":\"\",\"zerolinecolor\":\"white\",\"gridwidth\":2}},\"shapedefaults\":{\"line\":{\"color\":\"#2a3f5f\"}},\"annotationdefaults\":{\"arrowcolor\":\"#2a3f5f\",\"arrowhead\":0,\"arrowwidth\":1},\"geo\":{\"bgcolor\":\"white\",\"landcolor\":\"#E5ECF6\",\"subunitcolor\":\"white\",\"showland\":true,\"showlakes\":true,\"lakecolor\":\"white\"},\"title\":{\"x\":0.05},\"mapbox\":{\"style\":\"light\"}}},\"xaxis\":{\"anchor\":\"y\",\"domain\":[0.0,1.0],\"title\":{\"text\":\"Country\"},\"tickangle\":0},\"yaxis\":{\"anchor\":\"x\",\"domain\":[0.0,1.0],\"title\":{\"text\":\"Frequency\"}},\"legend\":{\"tracegroupgap\":0},\"title\":{\"text\":\"10 Country with Most Estimated TB Cases Who are HIV-positive\"},\"barmode\":\"relative\"},                        {\"responsive\": true}                    ).then(function(){\n",
       "                            \n",
       "var gd = document.getElementById('882aee9a-c600-40dc-9768-cbac72c9aa56');\n",
       "var x = new MutationObserver(function (mutations, observer) {{\n",
       "        var display = window.getComputedStyle(gd).display;\n",
       "        if (!display || display === 'none') {{\n",
       "            console.log([gd, 'removed!']);\n",
       "            Plotly.purge(gd);\n",
       "            observer.disconnect();\n",
       "        }}\n",
       "}});\n",
       "\n",
       "// Listen for the removal of the full notebook cells\n",
       "var notebookContainer = gd.closest('#notebook-container');\n",
       "if (notebookContainer) {{\n",
       "    x.observe(notebookContainer, {childList: true});\n",
       "}}\n",
       "\n",
       "// Listen for the clearing of the current output cell\n",
       "var outputEl = gd.closest('.output');\n",
       "if (outputEl) {{\n",
       "    x.observe(outputEl, {childList: true});\n",
       "}}\n",
       "\n",
       "                        })                };                });            </script>        </div>"
      ]
     },
     "metadata": {},
     "output_type": "display_data"
    }
   ],
   "source": [
    "sort = tb_hiv.sort_values('tb_hiv_positive', ascending=False).head(10)\n",
    "fig = px.bar(sort, y='tb_hiv_positive',\n",
    "            labels={\n",
    "                 'country':'Country',\n",
    "                 'tb_hiv_positive':'Frequency'\n",
    "             },\n",
    "             title='10 Country with Most Estimated TB Cases Who are HIV-positive')\n",
    "fig.update_xaxes(tickangle=0)\n",
    "fig.show()"
   ]
  },
  {
   "cell_type": "code",
   "execution_count": 250,
   "id": "7553adc6-12df-4f73-abc6-235981410c07",
   "metadata": {},
   "outputs": [
    {
     "data": {
      "application/vnd.plotly.v1+json": {
       "config": {
        "plotlyServerURL": "https://plot.ly"
       },
       "data": [
        {
         "alignmentgroup": "True",
         "hovertemplate": "Country=%{x}<br>Frequency=%{y}<extra></extra>",
         "legendgroup": "",
         "marker": {
          "color": "#636efa",
          "pattern": {
           "shape": ""
          }
         },
         "name": "",
         "offsetgroup": "",
         "orientation": "v",
         "showlegend": false,
         "textposition": "auto",
         "type": "bar",
         "x": [
          "Eritrea",
          "Gambia",
          "Mauritania",
          "Equatorial Guinea",
          "Algeria",
          "Cabo Verde",
          "Mauritius",
          "Sao Tome and Principe",
          "Seychelles",
          "Comoros"
         ],
         "xaxis": "x",
         "y": [
          11790,
          5801,
          2547,
          2497,
          1572,
          904,
          670,
          482,
          0,
          0
         ],
         "yaxis": "y"
        }
       ],
       "layout": {
        "autosize": true,
        "barmode": "relative",
        "legend": {
         "tracegroupgap": 0
        },
        "template": {
         "data": {
          "bar": [
           {
            "error_x": {
             "color": "#2a3f5f"
            },
            "error_y": {
             "color": "#2a3f5f"
            },
            "marker": {
             "line": {
              "color": "#E5ECF6",
              "width": 0.5
             },
             "pattern": {
              "fillmode": "overlay",
              "size": 10,
              "solidity": 0.2
             }
            },
            "type": "bar"
           }
          ],
          "barpolar": [
           {
            "marker": {
             "line": {
              "color": "#E5ECF6",
              "width": 0.5
             },
             "pattern": {
              "fillmode": "overlay",
              "size": 10,
              "solidity": 0.2
             }
            },
            "type": "barpolar"
           }
          ],
          "carpet": [
           {
            "aaxis": {
             "endlinecolor": "#2a3f5f",
             "gridcolor": "white",
             "linecolor": "white",
             "minorgridcolor": "white",
             "startlinecolor": "#2a3f5f"
            },
            "baxis": {
             "endlinecolor": "#2a3f5f",
             "gridcolor": "white",
             "linecolor": "white",
             "minorgridcolor": "white",
             "startlinecolor": "#2a3f5f"
            },
            "type": "carpet"
           }
          ],
          "choropleth": [
           {
            "colorbar": {
             "outlinewidth": 0,
             "ticks": ""
            },
            "type": "choropleth"
           }
          ],
          "contour": [
           {
            "colorbar": {
             "outlinewidth": 0,
             "ticks": ""
            },
            "colorscale": [
             [
              0,
              "#0d0887"
             ],
             [
              0.1111111111111111,
              "#46039f"
             ],
             [
              0.2222222222222222,
              "#7201a8"
             ],
             [
              0.3333333333333333,
              "#9c179e"
             ],
             [
              0.4444444444444444,
              "#bd3786"
             ],
             [
              0.5555555555555556,
              "#d8576b"
             ],
             [
              0.6666666666666666,
              "#ed7953"
             ],
             [
              0.7777777777777778,
              "#fb9f3a"
             ],
             [
              0.8888888888888888,
              "#fdca26"
             ],
             [
              1,
              "#f0f921"
             ]
            ],
            "type": "contour"
           }
          ],
          "contourcarpet": [
           {
            "colorbar": {
             "outlinewidth": 0,
             "ticks": ""
            },
            "type": "contourcarpet"
           }
          ],
          "heatmap": [
           {
            "colorbar": {
             "outlinewidth": 0,
             "ticks": ""
            },
            "colorscale": [
             [
              0,
              "#0d0887"
             ],
             [
              0.1111111111111111,
              "#46039f"
             ],
             [
              0.2222222222222222,
              "#7201a8"
             ],
             [
              0.3333333333333333,
              "#9c179e"
             ],
             [
              0.4444444444444444,
              "#bd3786"
             ],
             [
              0.5555555555555556,
              "#d8576b"
             ],
             [
              0.6666666666666666,
              "#ed7953"
             ],
             [
              0.7777777777777778,
              "#fb9f3a"
             ],
             [
              0.8888888888888888,
              "#fdca26"
             ],
             [
              1,
              "#f0f921"
             ]
            ],
            "type": "heatmap"
           }
          ],
          "heatmapgl": [
           {
            "colorbar": {
             "outlinewidth": 0,
             "ticks": ""
            },
            "colorscale": [
             [
              0,
              "#0d0887"
             ],
             [
              0.1111111111111111,
              "#46039f"
             ],
             [
              0.2222222222222222,
              "#7201a8"
             ],
             [
              0.3333333333333333,
              "#9c179e"
             ],
             [
              0.4444444444444444,
              "#bd3786"
             ],
             [
              0.5555555555555556,
              "#d8576b"
             ],
             [
              0.6666666666666666,
              "#ed7953"
             ],
             [
              0.7777777777777778,
              "#fb9f3a"
             ],
             [
              0.8888888888888888,
              "#fdca26"
             ],
             [
              1,
              "#f0f921"
             ]
            ],
            "type": "heatmapgl"
           }
          ],
          "histogram": [
           {
            "marker": {
             "pattern": {
              "fillmode": "overlay",
              "size": 10,
              "solidity": 0.2
             }
            },
            "type": "histogram"
           }
          ],
          "histogram2d": [
           {
            "colorbar": {
             "outlinewidth": 0,
             "ticks": ""
            },
            "colorscale": [
             [
              0,
              "#0d0887"
             ],
             [
              0.1111111111111111,
              "#46039f"
             ],
             [
              0.2222222222222222,
              "#7201a8"
             ],
             [
              0.3333333333333333,
              "#9c179e"
             ],
             [
              0.4444444444444444,
              "#bd3786"
             ],
             [
              0.5555555555555556,
              "#d8576b"
             ],
             [
              0.6666666666666666,
              "#ed7953"
             ],
             [
              0.7777777777777778,
              "#fb9f3a"
             ],
             [
              0.8888888888888888,
              "#fdca26"
             ],
             [
              1,
              "#f0f921"
             ]
            ],
            "type": "histogram2d"
           }
          ],
          "histogram2dcontour": [
           {
            "colorbar": {
             "outlinewidth": 0,
             "ticks": ""
            },
            "colorscale": [
             [
              0,
              "#0d0887"
             ],
             [
              0.1111111111111111,
              "#46039f"
             ],
             [
              0.2222222222222222,
              "#7201a8"
             ],
             [
              0.3333333333333333,
              "#9c179e"
             ],
             [
              0.4444444444444444,
              "#bd3786"
             ],
             [
              0.5555555555555556,
              "#d8576b"
             ],
             [
              0.6666666666666666,
              "#ed7953"
             ],
             [
              0.7777777777777778,
              "#fb9f3a"
             ],
             [
              0.8888888888888888,
              "#fdca26"
             ],
             [
              1,
              "#f0f921"
             ]
            ],
            "type": "histogram2dcontour"
           }
          ],
          "mesh3d": [
           {
            "colorbar": {
             "outlinewidth": 0,
             "ticks": ""
            },
            "type": "mesh3d"
           }
          ],
          "parcoords": [
           {
            "line": {
             "colorbar": {
              "outlinewidth": 0,
              "ticks": ""
             }
            },
            "type": "parcoords"
           }
          ],
          "pie": [
           {
            "automargin": true,
            "type": "pie"
           }
          ],
          "scatter": [
           {
            "fillpattern": {
             "fillmode": "overlay",
             "size": 10,
             "solidity": 0.2
            },
            "type": "scatter"
           }
          ],
          "scatter3d": [
           {
            "line": {
             "colorbar": {
              "outlinewidth": 0,
              "ticks": ""
             }
            },
            "marker": {
             "colorbar": {
              "outlinewidth": 0,
              "ticks": ""
             }
            },
            "type": "scatter3d"
           }
          ],
          "scattercarpet": [
           {
            "marker": {
             "colorbar": {
              "outlinewidth": 0,
              "ticks": ""
             }
            },
            "type": "scattercarpet"
           }
          ],
          "scattergeo": [
           {
            "marker": {
             "colorbar": {
              "outlinewidth": 0,
              "ticks": ""
             }
            },
            "type": "scattergeo"
           }
          ],
          "scattergl": [
           {
            "marker": {
             "colorbar": {
              "outlinewidth": 0,
              "ticks": ""
             }
            },
            "type": "scattergl"
           }
          ],
          "scattermapbox": [
           {
            "marker": {
             "colorbar": {
              "outlinewidth": 0,
              "ticks": ""
             }
            },
            "type": "scattermapbox"
           }
          ],
          "scatterpolar": [
           {
            "marker": {
             "colorbar": {
              "outlinewidth": 0,
              "ticks": ""
             }
            },
            "type": "scatterpolar"
           }
          ],
          "scatterpolargl": [
           {
            "marker": {
             "colorbar": {
              "outlinewidth": 0,
              "ticks": ""
             }
            },
            "type": "scatterpolargl"
           }
          ],
          "scatterternary": [
           {
            "marker": {
             "colorbar": {
              "outlinewidth": 0,
              "ticks": ""
             }
            },
            "type": "scatterternary"
           }
          ],
          "surface": [
           {
            "colorbar": {
             "outlinewidth": 0,
             "ticks": ""
            },
            "colorscale": [
             [
              0,
              "#0d0887"
             ],
             [
              0.1111111111111111,
              "#46039f"
             ],
             [
              0.2222222222222222,
              "#7201a8"
             ],
             [
              0.3333333333333333,
              "#9c179e"
             ],
             [
              0.4444444444444444,
              "#bd3786"
             ],
             [
              0.5555555555555556,
              "#d8576b"
             ],
             [
              0.6666666666666666,
              "#ed7953"
             ],
             [
              0.7777777777777778,
              "#fb9f3a"
             ],
             [
              0.8888888888888888,
              "#fdca26"
             ],
             [
              1,
              "#f0f921"
             ]
            ],
            "type": "surface"
           }
          ],
          "table": [
           {
            "cells": {
             "fill": {
              "color": "#EBF0F8"
             },
             "line": {
              "color": "white"
             }
            },
            "header": {
             "fill": {
              "color": "#C8D4E3"
             },
             "line": {
              "color": "white"
             }
            },
            "type": "table"
           }
          ]
         },
         "layout": {
          "annotationdefaults": {
           "arrowcolor": "#2a3f5f",
           "arrowhead": 0,
           "arrowwidth": 1
          },
          "autotypenumbers": "strict",
          "coloraxis": {
           "colorbar": {
            "outlinewidth": 0,
            "ticks": ""
           }
          },
          "colorscale": {
           "diverging": [
            [
             0,
             "#8e0152"
            ],
            [
             0.1,
             "#c51b7d"
            ],
            [
             0.2,
             "#de77ae"
            ],
            [
             0.3,
             "#f1b6da"
            ],
            [
             0.4,
             "#fde0ef"
            ],
            [
             0.5,
             "#f7f7f7"
            ],
            [
             0.6,
             "#e6f5d0"
            ],
            [
             0.7,
             "#b8e186"
            ],
            [
             0.8,
             "#7fbc41"
            ],
            [
             0.9,
             "#4d9221"
            ],
            [
             1,
             "#276419"
            ]
           ],
           "sequential": [
            [
             0,
             "#0d0887"
            ],
            [
             0.1111111111111111,
             "#46039f"
            ],
            [
             0.2222222222222222,
             "#7201a8"
            ],
            [
             0.3333333333333333,
             "#9c179e"
            ],
            [
             0.4444444444444444,
             "#bd3786"
            ],
            [
             0.5555555555555556,
             "#d8576b"
            ],
            [
             0.6666666666666666,
             "#ed7953"
            ],
            [
             0.7777777777777778,
             "#fb9f3a"
            ],
            [
             0.8888888888888888,
             "#fdca26"
            ],
            [
             1,
             "#f0f921"
            ]
           ],
           "sequentialminus": [
            [
             0,
             "#0d0887"
            ],
            [
             0.1111111111111111,
             "#46039f"
            ],
            [
             0.2222222222222222,
             "#7201a8"
            ],
            [
             0.3333333333333333,
             "#9c179e"
            ],
            [
             0.4444444444444444,
             "#bd3786"
            ],
            [
             0.5555555555555556,
             "#d8576b"
            ],
            [
             0.6666666666666666,
             "#ed7953"
            ],
            [
             0.7777777777777778,
             "#fb9f3a"
            ],
            [
             0.8888888888888888,
             "#fdca26"
            ],
            [
             1,
             "#f0f921"
            ]
           ]
          },
          "colorway": [
           "#636efa",
           "#EF553B",
           "#00cc96",
           "#ab63fa",
           "#FFA15A",
           "#19d3f3",
           "#FF6692",
           "#B6E880",
           "#FF97FF",
           "#FECB52"
          ],
          "font": {
           "color": "#2a3f5f"
          },
          "geo": {
           "bgcolor": "white",
           "lakecolor": "white",
           "landcolor": "#E5ECF6",
           "showlakes": true,
           "showland": true,
           "subunitcolor": "white"
          },
          "hoverlabel": {
           "align": "left"
          },
          "hovermode": "closest",
          "mapbox": {
           "style": "light"
          },
          "paper_bgcolor": "white",
          "plot_bgcolor": "#E5ECF6",
          "polar": {
           "angularaxis": {
            "gridcolor": "white",
            "linecolor": "white",
            "ticks": ""
           },
           "bgcolor": "#E5ECF6",
           "radialaxis": {
            "gridcolor": "white",
            "linecolor": "white",
            "ticks": ""
           }
          },
          "scene": {
           "xaxis": {
            "backgroundcolor": "#E5ECF6",
            "gridcolor": "white",
            "gridwidth": 2,
            "linecolor": "white",
            "showbackground": true,
            "ticks": "",
            "zerolinecolor": "white"
           },
           "yaxis": {
            "backgroundcolor": "#E5ECF6",
            "gridcolor": "white",
            "gridwidth": 2,
            "linecolor": "white",
            "showbackground": true,
            "ticks": "",
            "zerolinecolor": "white"
           },
           "zaxis": {
            "backgroundcolor": "#E5ECF6",
            "gridcolor": "white",
            "gridwidth": 2,
            "linecolor": "white",
            "showbackground": true,
            "ticks": "",
            "zerolinecolor": "white"
           }
          },
          "shapedefaults": {
           "line": {
            "color": "#2a3f5f"
           }
          },
          "ternary": {
           "aaxis": {
            "gridcolor": "white",
            "linecolor": "white",
            "ticks": ""
           },
           "baxis": {
            "gridcolor": "white",
            "linecolor": "white",
            "ticks": ""
           },
           "bgcolor": "#E5ECF6",
           "caxis": {
            "gridcolor": "white",
            "linecolor": "white",
            "ticks": ""
           }
          },
          "title": {
           "x": 0.05
          },
          "xaxis": {
           "automargin": true,
           "gridcolor": "white",
           "linecolor": "white",
           "ticks": "",
           "title": {
            "standoff": 15
           },
           "zerolinecolor": "white",
           "zerolinewidth": 2
          },
          "yaxis": {
           "automargin": true,
           "gridcolor": "white",
           "linecolor": "white",
           "ticks": "",
           "title": {
            "standoff": 15
           },
           "zerolinecolor": "white",
           "zerolinewidth": 2
          }
         }
        },
        "title": {
         "text": "10 Country with Least Estimated TB Cases Who are HIV-positive"
        },
        "xaxis": {
         "anchor": "y",
         "autorange": true,
         "domain": [
          0,
          1
         ],
         "range": [
          -0.5,
          9.5
         ],
         "tickangle": 0,
         "title": {
          "text": "Country"
         },
         "type": "category"
        },
        "yaxis": {
         "anchor": "x",
         "autorange": true,
         "domain": [
          0,
          1
         ],
         "range": [
          0,
          12410.526315789473
         ],
         "title": {
          "text": "Frequency"
         },
         "type": "linear"
        }
       }
      },
      "image/png": "[encoded data removed]",
      "text/html": [
       "<div>                            <div id=\"51e5dc5c-c107-4dbc-8394-1234563aa50f\" class=\"plotly-graph-div\" style=\"height:525px; width:100%;\"></div>            <script type=\"text/javascript\">                require([\"plotly\"], function(Plotly) {                    window.PLOTLYENV=window.PLOTLYENV || {};                                    if (document.getElementById(\"51e5dc5c-c107-4dbc-8394-1234563aa50f\")) {                    Plotly.newPlot(                        \"51e5dc5c-c107-4dbc-8394-1234563aa50f\",                        [{\"alignmentgroup\":\"True\",\"hovertemplate\":\"Country=%{x}\\u003cbr\\u003eFrequency=%{y}\\u003cextra\\u003e\\u003c\\u002fextra\\u003e\",\"legendgroup\":\"\",\"marker\":{\"color\":\"#636efa\",\"pattern\":{\"shape\":\"\"}},\"name\":\"\",\"offsetgroup\":\"\",\"orientation\":\"v\",\"showlegend\":false,\"textposition\":\"auto\",\"x\":[\"Eritrea\",\"Gambia\",\"Mauritania\",\"Equatorial Guinea\",\"Algeria\",\"Cabo Verde\",\"Mauritius\",\"Sao Tome and Principe\",\"Seychelles\",\"Comoros\"],\"xaxis\":\"x\",\"y\":[11790,5801,2547,2497,1572,904,670,482,0,0],\"yaxis\":\"y\",\"type\":\"bar\"}],                        {\"template\":{\"data\":{\"histogram2dcontour\":[{\"type\":\"histogram2dcontour\",\"colorbar\":{\"outlinewidth\":0,\"ticks\":\"\"},\"colorscale\":[[0.0,\"#0d0887\"],[0.1111111111111111,\"#46039f\"],[0.2222222222222222,\"#7201a8\"],[0.3333333333333333,\"#9c179e\"],[0.4444444444444444,\"#bd3786\"],[0.5555555555555556,\"#d8576b\"],[0.6666666666666666,\"#ed7953\"],[0.7777777777777778,\"#fb9f3a\"],[0.8888888888888888,\"#fdca26\"],[1.0,\"#f0f921\"]]}],\"choropleth\":[{\"type\":\"choropleth\",\"colorbar\":{\"outlinewidth\":0,\"ticks\":\"\"}}],\"histogram2d\":[{\"type\":\"histogram2d\",\"colorbar\":{\"outlinewidth\":0,\"ticks\":\"\"},\"colorscale\":[[0.0,\"#0d0887\"],[0.1111111111111111,\"#46039f\"],[0.2222222222222222,\"#7201a8\"],[0.3333333333333333,\"#9c179e\"],[0.4444444444444444,\"#bd3786\"],[0.5555555555555556,\"#d8576b\"],[0.6666666666666666,\"#ed7953\"],[0.7777777777777778,\"#fb9f3a\"],[0.8888888888888888,\"#fdca26\"],[1.0,\"#f0f921\"]]}],\"heatmap\":[{\"type\":\"heatmap\",\"colorbar\":{\"outlinewidth\":0,\"ticks\":\"\"},\"colorscale\":[[0.0,\"#0d0887\"],[0.1111111111111111,\"#46039f\"],[0.2222222222222222,\"#7201a8\"],[0.3333333333333333,\"#9c179e\"],[0.4444444444444444,\"#bd3786\"],[0.5555555555555556,\"#d8576b\"],[0.6666666666666666,\"#ed7953\"],[0.7777777777777778,\"#fb9f3a\"],[0.8888888888888888,\"#fdca26\"],[1.0,\"#f0f921\"]]}],\"heatmapgl\":[{\"type\":\"heatmapgl\",\"colorbar\":{\"outlinewidth\":0,\"ticks\":\"\"},\"colorscale\":[[0.0,\"#0d0887\"],[0.1111111111111111,\"#46039f\"],[0.2222222222222222,\"#7201a8\"],[0.3333333333333333,\"#9c179e\"],[0.4444444444444444,\"#bd3786\"],[0.5555555555555556,\"#d8576b\"],[0.6666666666666666,\"#ed7953\"],[0.7777777777777778,\"#fb9f3a\"],[0.8888888888888888,\"#fdca26\"],[1.0,\"#f0f921\"]]}],\"contourcarpet\":[{\"type\":\"contourcarpet\",\"colorbar\":{\"outlinewidth\":0,\"ticks\":\"\"}}],\"contour\":[{\"type\":\"contour\",\"colorbar\":{\"outlinewidth\":0,\"ticks\":\"\"},\"colorscale\":[[0.0,\"#0d0887\"],[0.1111111111111111,\"#46039f\"],[0.2222222222222222,\"#7201a8\"],[0.3333333333333333,\"#9c179e\"],[0.4444444444444444,\"#bd3786\"],[0.5555555555555556,\"#d8576b\"],[0.6666666666666666,\"#ed7953\"],[0.7777777777777778,\"#fb9f3a\"],[0.8888888888888888,\"#fdca26\"],[1.0,\"#f0f921\"]]}],\"surface\":[{\"type\":\"surface\",\"colorbar\":{\"outlinewidth\":0,\"ticks\":\"\"},\"colorscale\":[[0.0,\"#0d0887\"],[0.1111111111111111,\"#46039f\"],[0.2222222222222222,\"#7201a8\"],[0.3333333333333333,\"#9c179e\"],[0.4444444444444444,\"#bd3786\"],[0.5555555555555556,\"#d8576b\"],[0.6666666666666666,\"#ed7953\"],[0.7777777777777778,\"#fb9f3a\"],[0.8888888888888888,\"#fdca26\"],[1.0,\"#f0f921\"]]}],\"mesh3d\":[{\"type\":\"mesh3d\",\"colorbar\":{\"outlinewidth\":0,\"ticks\":\"\"}}],\"scatter\":[{\"fillpattern\":{\"fillmode\":\"overlay\",\"size\":10,\"solidity\":0.2},\"type\":\"scatter\"}],\"parcoords\":[{\"type\":\"parcoords\",\"line\":{\"colorbar\":{\"outlinewidth\":0,\"ticks\":\"\"}}}],\"scatterpolargl\":[{\"type\":\"scatterpolargl\",\"marker\":{\"colorbar\":{\"outlinewidth\":0,\"ticks\":\"\"}}}],\"bar\":[{\"error_x\":{\"color\":\"#2a3f5f\"},\"error_y\":{\"color\":\"#2a3f5f\"},\"marker\":{\"line\":{\"color\":\"#E5ECF6\",\"width\":0.5},\"pattern\":{\"fillmode\":\"overlay\",\"size\":10,\"solidity\":0.2}},\"type\":\"bar\"}],\"scattergeo\":[{\"type\":\"scattergeo\",\"marker\":{\"colorbar\":{\"outlinewidth\":0,\"ticks\":\"\"}}}],\"scatterpolar\":[{\"type\":\"scatterpolar\",\"marker\":{\"colorbar\":{\"outlinewidth\":0,\"ticks\":\"\"}}}],\"histogram\":[{\"marker\":{\"pattern\":{\"fillmode\":\"overlay\",\"size\":10,\"solidity\":0.2}},\"type\":\"histogram\"}],\"scattergl\":[{\"type\":\"scattergl\",\"marker\":{\"colorbar\":{\"outlinewidth\":0,\"ticks\":\"\"}}}],\"scatter3d\":[{\"type\":\"scatter3d\",\"line\":{\"colorbar\":{\"outlinewidth\":0,\"ticks\":\"\"}},\"marker\":{\"colorbar\":{\"outlinewidth\":0,\"ticks\":\"\"}}}],\"scattermapbox\":[{\"type\":\"scattermapbox\",\"marker\":{\"colorbar\":{\"outlinewidth\":0,\"ticks\":\"\"}}}],\"scatterternary\":[{\"type\":\"scatterternary\",\"marker\":{\"colorbar\":{\"outlinewidth\":0,\"ticks\":\"\"}}}],\"scattercarpet\":[{\"type\":\"scattercarpet\",\"marker\":{\"colorbar\":{\"outlinewidth\":0,\"ticks\":\"\"}}}],\"carpet\":[{\"aaxis\":{\"endlinecolor\":\"#2a3f5f\",\"gridcolor\":\"white\",\"linecolor\":\"white\",\"minorgridcolor\":\"white\",\"startlinecolor\":\"#2a3f5f\"},\"baxis\":{\"endlinecolor\":\"#2a3f5f\",\"gridcolor\":\"white\",\"linecolor\":\"white\",\"minorgridcolor\":\"white\",\"startlinecolor\":\"#2a3f5f\"},\"type\":\"carpet\"}],\"table\":[{\"cells\":{\"fill\":{\"color\":\"#EBF0F8\"},\"line\":{\"color\":\"white\"}},\"header\":{\"fill\":{\"color\":\"#C8D4E3\"},\"line\":{\"color\":\"white\"}},\"type\":\"table\"}],\"barpolar\":[{\"marker\":{\"line\":{\"color\":\"#E5ECF6\",\"width\":0.5},\"pattern\":{\"fillmode\":\"overlay\",\"size\":10,\"solidity\":0.2}},\"type\":\"barpolar\"}],\"pie\":[{\"automargin\":true,\"type\":\"pie\"}]},\"layout\":{\"autotypenumbers\":\"strict\",\"colorway\":[\"#636efa\",\"#EF553B\",\"#00cc96\",\"#ab63fa\",\"#FFA15A\",\"#19d3f3\",\"#FF6692\",\"#B6E880\",\"#FF97FF\",\"#FECB52\"],\"font\":{\"color\":\"#2a3f5f\"},\"hovermode\":\"closest\",\"hoverlabel\":{\"align\":\"left\"},\"paper_bgcolor\":\"white\",\"plot_bgcolor\":\"#E5ECF6\",\"polar\":{\"bgcolor\":\"#E5ECF6\",\"angularaxis\":{\"gridcolor\":\"white\",\"linecolor\":\"white\",\"ticks\":\"\"},\"radialaxis\":{\"gridcolor\":\"white\",\"linecolor\":\"white\",\"ticks\":\"\"}},\"ternary\":{\"bgcolor\":\"#E5ECF6\",\"aaxis\":{\"gridcolor\":\"white\",\"linecolor\":\"white\",\"ticks\":\"\"},\"baxis\":{\"gridcolor\":\"white\",\"linecolor\":\"white\",\"ticks\":\"\"},\"caxis\":{\"gridcolor\":\"white\",\"linecolor\":\"white\",\"ticks\":\"\"}},\"coloraxis\":{\"colorbar\":{\"outlinewidth\":0,\"ticks\":\"\"}},\"colorscale\":{\"sequential\":[[0.0,\"#0d0887\"],[0.1111111111111111,\"#46039f\"],[0.2222222222222222,\"#7201a8\"],[0.3333333333333333,\"#9c179e\"],[0.4444444444444444,\"#bd3786\"],[0.5555555555555556,\"#d8576b\"],[0.6666666666666666,\"#ed7953\"],[0.7777777777777778,\"#fb9f3a\"],[0.8888888888888888,\"#fdca26\"],[1.0,\"#f0f921\"]],\"sequentialminus\":[[0.0,\"#0d0887\"],[0.1111111111111111,\"#46039f\"],[0.2222222222222222,\"#7201a8\"],[0.3333333333333333,\"#9c179e\"],[0.4444444444444444,\"#bd3786\"],[0.5555555555555556,\"#d8576b\"],[0.6666666666666666,\"#ed7953\"],[0.7777777777777778,\"#fb9f3a\"],[0.8888888888888888,\"#fdca26\"],[1.0,\"#f0f921\"]],\"diverging\":[[0,\"#8e0152\"],[0.1,\"#c51b7d\"],[0.2,\"#de77ae\"],[0.3,\"#f1b6da\"],[0.4,\"#fde0ef\"],[0.5,\"#f7f7f7\"],[0.6,\"#e6f5d0\"],[0.7,\"#b8e186\"],[0.8,\"#7fbc41\"],[0.9,\"#4d9221\"],[1,\"#276419\"]]},\"xaxis\":{\"gridcolor\":\"white\",\"linecolor\":\"white\",\"ticks\":\"\",\"title\":{\"standoff\":15},\"zerolinecolor\":\"white\",\"automargin\":true,\"zerolinewidth\":2},\"yaxis\":{\"gridcolor\":\"white\",\"linecolor\":\"white\",\"ticks\":\"\",\"title\":{\"standoff\":15},\"zerolinecolor\":\"white\",\"automargin\":true,\"zerolinewidth\":2},\"scene\":{\"xaxis\":{\"backgroundcolor\":\"#E5ECF6\",\"gridcolor\":\"white\",\"linecolor\":\"white\",\"showbackground\":true,\"ticks\":\"\",\"zerolinecolor\":\"white\",\"gridwidth\":2},\"yaxis\":{\"backgroundcolor\":\"#E5ECF6\",\"gridcolor\":\"white\",\"linecolor\":\"white\",\"showbackground\":true,\"ticks\":\"\",\"zerolinecolor\":\"white\",\"gridwidth\":2},\"zaxis\":{\"backgroundcolor\":\"#E5ECF6\",\"gridcolor\":\"white\",\"linecolor\":\"white\",\"showbackground\":true,\"ticks\":\"\",\"zerolinecolor\":\"white\",\"gridwidth\":2}},\"shapedefaults\":{\"line\":{\"color\":\"#2a3f5f\"}},\"annotationdefaults\":{\"arrowcolor\":\"#2a3f5f\",\"arrowhead\":0,\"arrowwidth\":1},\"geo\":{\"bgcolor\":\"white\",\"landcolor\":\"#E5ECF6\",\"subunitcolor\":\"white\",\"showland\":true,\"showlakes\":true,\"lakecolor\":\"white\"},\"title\":{\"x\":0.05},\"mapbox\":{\"style\":\"light\"}}},\"xaxis\":{\"anchor\":\"y\",\"domain\":[0.0,1.0],\"title\":{\"text\":\"Country\"},\"tickangle\":0},\"yaxis\":{\"anchor\":\"x\",\"domain\":[0.0,1.0],\"title\":{\"text\":\"Frequency\"}},\"legend\":{\"tracegroupgap\":0},\"title\":{\"text\":\"10 Country with Least Estimated TB Cases Who are HIV-positive\"},\"barmode\":\"relative\"},                        {\"responsive\": true}                    ).then(function(){\n",
       "                            \n",
       "var gd = document.getElementById('51e5dc5c-c107-4dbc-8394-1234563aa50f');\n",
       "var x = new MutationObserver(function (mutations, observer) {{\n",
       "        var display = window.getComputedStyle(gd).display;\n",
       "        if (!display || display === 'none') {{\n",
       "            console.log([gd, 'removed!']);\n",
       "            Plotly.purge(gd);\n",
       "            observer.disconnect();\n",
       "        }}\n",
       "}});\n",
       "\n",
       "// Listen for the removal of the full notebook cells\n",
       "var notebookContainer = gd.closest('#notebook-container');\n",
       "if (notebookContainer) {{\n",
       "    x.observe(notebookContainer, {childList: true});\n",
       "}}\n",
       "\n",
       "// Listen for the clearing of the current output cell\n",
       "var outputEl = gd.closest('.output');\n",
       "if (outputEl) {{\n",
       "    x.observe(outputEl, {childList: true});\n",
       "}}\n",
       "\n",
       "                        })                };                });            </script>        </div>"
      ]
     },
     "metadata": {},
     "output_type": "display_data"
    }
   ],
   "source": [
    "sort = tb_hiv.sort_values('tb_hiv_positive', ascending=False).tail(10)\n",
    "fig = px.bar(sort, y='tb_hiv_positive',\n",
    "            labels={\n",
    "                 'country':'Country',\n",
    "                 'tb_hiv_positive':'Frequency'\n",
    "             },\n",
    "             title='10 Country with Least Estimated TB Cases Who are HIV-positive')\n",
    "fig.update_xaxes(tickangle=0)\n",
    "fig.show()"
   ]
  },
  {
   "cell_type": "markdown",
   "id": "ec46d37a-49e0-4fef-89fb-751c07d680e1",
   "metadata": {},
   "source": [
    "## Reset Index and Convert to Excel"
   ]
  },
  {
   "cell_type": "code",
   "execution_count": 252,
   "id": "012acf41-76f4-4b8a-943f-9fca854a8a43",
   "metadata": {},
   "outputs": [],
   "source": [
    "df.reset_index(drop=True, inplace=True)"
   ]
  },
  {
   "cell_type": "code",
   "execution_count": 254,
   "id": "1a38cd22-f139-4fd9-bf40-d2f33f7b6f0d",
   "metadata": {},
   "outputs": [],
   "source": [
    "df.to_excel('afr_data.xlsx', index=False)"
   ]
  },
  {
   "cell_type": "code",
   "execution_count": null,
   "id": "ed0e9597-ccd6-41fd-bf44-e3537b291a5a",
   "metadata": {},
   "outputs": [],
   "source": []
  }
 ],
 "metadata": {
  "kernelspec": {
   "display_name": "Python 3 (ipykernel)",
   "language": "python",
   "name": "python3"
  },
  "language_info": {
   "codemirror_mode": {
    "name": "ipython",
    "version": 3
   },
   "file_extension": ".py",
   "mimetype": "text/x-python",
   "name": "python",
   "nbconvert_exporter": "python",
   "pygments_lexer": "ipython3",
   "version": "3.10.7"
  }
 },
 "nbformat": 4,
 "nbformat_minor": 5
}
